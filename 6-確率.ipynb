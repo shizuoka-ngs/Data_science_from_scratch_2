{
 "cells": [
  {
   "cell_type": "markdown",
   "metadata": {},
   "source": [
    "# ６章　確率"
   ]
  },
  {
   "cell_type": "markdown",
   "metadata": {},
   "source": [
    "- P(*E*) は事象*E*の発生する確率を表す\n",
    "- 事象*E*が起きるかどうか知る事で事象*F*が起きるかどうかの情報が得られる場合、２つの事象は従属関係にあるという"
   ]
  },
  {
   "cell_type": "markdown",
   "metadata": {},
   "source": [
    "## 6.2 条件付き確率"
   ]
  },
  {
   "cell_type": "markdown",
   "metadata": {},
   "source": [
    "- P(E|F) = P(E,F)/P(F)\n",
    "- P(E,F) = P(E|F)P(F)   とも書き換えられる\n",
    "- P(E|F) = P(E)  事象Eと事象Fが独立ならこの式が成り立つ。"
   ]
  },
  {
   "cell_type": "code",
   "execution_count": 6,
   "metadata": {},
   "outputs": [
    {
     "name": "stdout",
     "output_type": "stream",
     "text": [
      "0.5007089325501317\n",
      "0.3311897106109325\n"
     ]
    }
   ],
   "source": [
    "# 2人の子供の性別\n",
    "\n",
    "import enum, random\n",
    "\n",
    "# enum.Enumは列挙型定数を生成するクラス\n",
    "class Kid(enum.Enum):\n",
    "    BOY = 0\n",
    "    GIRL = 1\n",
    "\n",
    "def random_kid() -> Kid:\n",
    "    # [Kid.BOY, Kid.GIRL]からランダムに１つ選ぶ\n",
    "    return random.choice([Kid.BOY, Kid.GIRL])\n",
    "\n",
    "both_girls = 0\n",
    "older_girl = 0\n",
    "either_girl = 0\n",
    "\n",
    "random.seed(0)\n",
    "\n",
    "for _ in range(10000):\n",
    "    # Kid.BOYからKid.GIRLをランダムに取得\n",
    "    younger = random_kid()\n",
    "    older = random_kid()\n",
    "    if older == Kid.GIRL:\n",
    "        older_girl += 1\n",
    "    if older == Kid.GIRL and younger == Kid.GIRL:\n",
    "        both_girls += 1\n",
    "    if older == Kid.GIRL or younger == Kid.GIRL:\n",
    "        either_girl += 1\n",
    "\n",
    "# 一人目が女の子の時に二人とも女の子の確率\n",
    "print(both_girls / older_girl)\n",
    "\n",
    "# どちらかが女の子の時に二人とも女の子の確率\n",
    "print(both_girls / either_girl)\n"
   ]
  },
  {
   "cell_type": "markdown",
   "metadata": {},
   "source": [
    "## 6.3　ベイズの定理"
   ]
  },
  {
   "cell_type": "markdown",
   "metadata": {},
   "source": [
    "P(E|F) = P(F|E)P(E) / [P(F|E)P(E) + P(F, ¬E) P( ¬E)] "
   ]
  },
  {
   "cell_type": "markdown",
   "metadata": {},
   "source": [
    "- 発症する割合が10000人あたり1人である疾患があるとしこの疾患を99%の正確さで検出できる（陽性or陰性）検査があるとする\n",
    "- 「検査結果が陽性である」事象をT、「疾患を持っている」事象をDとすると。ベイズの定理では検査が陽性であった場合に疾患を持っている\n",
    "\n",
    "ベイズの定理では検査が陽性であった場合に、疾患を持っている確率 P(D|T)は\n",
    "\n",
    "P(D | T) = P(T | D)P(D)/[P(T | D)P(D) + P(T | ¬D)P(¬D)]\n",
    "\n",
    "- P(T|D) 疾患を持つ人が検索で陽性となる確率は0.99であることがわかっている\n",
    "- P(D) ある人が疾患を持つ確率は1/10,000 = 0.0001\n",
    "-  P(T | ¬D) 疾患を持ったないがテストで陽性となる確率は 0.01\n",
    "- P(¬D) ある人が疾患を持たない確率は0.9999\n"
   ]
  },
  {
   "cell_type": "code",
   "execution_count": 5,
   "metadata": {},
   "outputs": [
    {
     "data": {
      "text/plain": [
       "0.00980392156862745"
      ]
     },
     "execution_count": 5,
     "metadata": {},
     "output_type": "execute_result"
    }
   ],
   "source": [
    "# これらの値を代入するとP(D|T)が得られる\n",
    "\n",
    "0.99*0.0001/(0.99*0.0001 + 0.01*0.9999)"
   ]
  },
  {
   "cell_type": "markdown",
   "metadata": {},
   "source": [
    "## 6.4　確率変数\n",
    "\n",
    "- 確率変数とは確率分布に関連づいた値を持つ変数\n",
    "- 6.2の2人の子供の例にならうと、Xを女の子の数を表す確率変数とするとXが０の時条件つき確率は1/4、Xが１の場合は1/2となる\n",
    "- 変数によってある値の確率が決まるような変数？？と考えると良い？？？"
   ]
  },
  {
   "cell_type": "markdown",
   "metadata": {},
   "source": [
    "## 6.5 連続確率分布\n",
    "\n",
    "- コイン投げは離散分布に相当し離散的な結果に対する確率に関連づけられる\n",
    "- 　一方連続した結果の分布をモデル化する必要も生じる\n",
    "- 一様分布は0から１のすべての数に対して等しい重みを与える"
   ]
  },
  {
   "cell_type": "markdown",
   "metadata": {},
   "source": [
    "## 6.6　正規分布\n",
    "\n",
    "- 正規分布は平均μ（ミュー）と標準偏差σ（シグマ）の２つのパラメータで定義される\n"
   ]
  },
  {
   "cell_type": "code",
   "execution_count": 12,
   "metadata": {},
   "outputs": [],
   "source": [
    "# 確率密度関数の実装\n",
    "\n",
    "import math\n",
    "SQRT_TWO_PI = math.sqrt(2 * math.pi)\n",
    "\n",
    "def normal_pdf(x: float, mu: float = 0, sigma: float = 1) -> float:\n",
    "    return (math.exp(-(x-mu) ** 2 /2 /sigma ** 2) /(SQRT_TWO_PI * sigma))"
   ]
  },
  {
   "cell_type": "code",
   "execution_count": 13,
   "metadata": {},
   "outputs": [
    {
     "data": {
      "image/png": "[encoded data removed]",
      "text/plain": [
       "<Figure size 432x288 with 1 Axes>"
      ]
     },
     "metadata": {
      "needs_background": "light"
     },
     "output_type": "display_data"
    }
   ],
   "source": [
    "import matplotlib.pyplot as plt\n",
    "\n",
    "# -5から5のレンジで正規分布の確率密度関数（PDF）をプロットすると\n",
    "xs = [x /10.0 for x in range(-50, 50)]\n",
    "plt.plot(xs, [normal_pdf(x, sigma=1) for x in xs], '-', label='mu=0, sigma=1')\n",
    "plt.plot(xs, [normal_pdf(x, sigma=2) for x in xs], '--', label='mu=0, sigma=2')\n",
    "plt.plot(xs, [normal_pdf(x, sigma=0.5) for x in xs], ':', label='mu=0, sigma=0.5')\n",
    "plt.legend()\n",
    "plt.title(\"Various Normal pdfs\")\n",
    "plt.show()"
   ]
  },
  {
   "cell_type": "markdown",
   "metadata": {},
   "source": [
    "## 6.7 中心極限定理\n",
    "\n",
    "- 独立で同一の分布に従う多数の確率変数の平均として定義される確率変数はおおよそ正規分布になる。というもの"
   ]
  },
  {
   "cell_type": "code",
   "execution_count": null,
   "metadata": {},
   "outputs": [],
   "source": []
  }
 ],
 "metadata": {
  "kernelspec": {
   "display_name": "Python 3",
   "language": "python",
   "name": "python3"
  },
  "language_info": {
   "codemirror_mode": {
    "name": "ipython",
    "version": 3
   },
   "file_extension": ".py",
   "mimetype": "text/x-python",
   "name": "python",
   "nbconvert_exporter": "python",
   "pygments_lexer": "ipython3",
   "version": "3.7.0"
  }
 },
 "nbformat": 4,
 "nbformat_minor": 2
}
