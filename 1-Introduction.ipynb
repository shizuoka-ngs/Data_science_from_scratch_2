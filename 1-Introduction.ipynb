{
 "cells": [
  {
   "cell_type": "markdown",
   "metadata": {},
   "source": [
    "# 『ゼロからはじめるデータサイエンス第 2 版』オライリー・ジャパン、ISBN978-4-87311-911-3)  読書会\n",
    "## １章　イントロダクション\n",
    "\n",
    "- この本では1章「イントロダクション」〜11章「機械学習」ではは基礎編・部品を作り、基礎となる考え方を学ぶ\n",
    "- 12章「 k近傍法」〜23章 「リコメンドシステム」までは応用編として各種データサイエンス技術を\n",
    "- 23章　「データベースとSQL」、24章 「MapReduce」はRDBとMapReduceの解説をしています\n",
    "- 前半から読むことが推奨されています\n",
    "- 1章は「**まだコードの詳細を理解する必要はない**」、なんとなくわかった気分になる程度でOK\n",
    "- とりあえずコードを中心に、動かして、サンプルコードの意味することの雰囲気だけでも感じていきましょう"
   ]
  },
  {
   "cell_type": "markdown",
   "metadata": {},
   "source": [
    "## 1.3.1 キーコネクタを探せ"
   ]
  },
  {
   "cell_type": "code",
   "execution_count": 2,
   "metadata": {},
   "outputs": [],
   "source": [
    "# 辞書形式（dict）のD社のネットワークに関するデータ\n",
    "# 辞書形式では、\"id\"や\"name\"のような\":\"で組まれた形式の頭をKey（キー）、\"0\"や\"Hero\"のような後半をvalue（値）と言う\n",
    "\n",
    "users = [{ \"id\": 0, \"name\": \"Hero\" }, { \"id\": 1, \"name\": \"Dunn\" }, { \"id\": 2, \"name\": \"Sue\" },\n",
    "         {'id': 3, 'name': 'Chi'}, {'id': 4, 'name': 'Thor'}, {'id': 5, 'name': 'Clive'}, \n",
    "         {'id': 6, 'name': 'Hicks'}, {'id': 7, 'name': 'Devin'}, {'id': 8, 'name': 'Kate'}, {'id': 9, 'name': 'Klein'}]"
   ]
  },
  {
   "cell_type": "code",
   "execution_count": 3,
   "metadata": {},
   "outputs": [],
   "source": [
    "# IDの組みでる「交友関係」データ\n",
    "# ()はタプル、それを大きく囲う[ ]はリストの型のデータ\n",
    "\n",
    "friendship_pairs = [(0, 1), (0, 2), (1, 2), (1, 3), (2, 3), (3, 4), \n",
    "(4, 5), (5, 6), (5, 7), (6, 8), (7, 8), (8, 9)]\n",
    "\n",
    "# friendship_pairsデータの意味するところは、例えば(0, 1)だと、id 0とid 1が何らかの関係にあること（このデータの場合友達であること）を示している。\n",
    "# 全体がリストに内包されている（[]に含まれる）いて、friendship_pairsは関係を意味するリスト。"
   ]
  },
  {
   "cell_type": "code",
   "execution_count": 4,
   "metadata": {},
   "outputs": [],
   "source": [
    "#　辞書を作成することで反復処理を行わずあるユーザの交友関係をユーザの見つけることができる\n",
    "# 以下ユーザ：[交友関係]の辞書を作る\n",
    "\n",
    "# 辞書を初期化する\n",
    "# id:交友関係を追加する空の入れ物を作る\n",
    "\n",
    "friendships = {user[\"id\"]: [] for user in users}"
   ]
  },
  {
   "cell_type": "code",
   "execution_count": 5,
   "metadata": {
    "collapsed": true
   },
   "outputs": [
    {
     "data": {
      "text/plain": [
       "{0: [1, 2],\n",
       " 1: [0, 2, 3],\n",
       " 2: [0, 1, 3],\n",
       " 3: [1, 2, 4],\n",
       " 4: [3, 5],\n",
       " 5: [4, 6, 7],\n",
       " 6: [5, 8],\n",
       " 7: [5, 8],\n",
       " 8: [6, 7, 9],\n",
       " 9: [8]}"
      ]
     },
     "execution_count": 5,
     "metadata": {},
     "output_type": "execute_result"
    }
   ],
   "source": [
    "for i, j in friendship_pairs:\n",
    "    friendships[i].append(j) \n",
    "    friendships[j].append(i)\n",
    "    \n",
    "# friendshipsの中身は...\n",
    "friendships"
   ]
  },
  {
   "cell_type": "code",
   "execution_count": 6,
   "metadata": {},
   "outputs": [],
   "source": [
    "# 交友関係が辞書（friendship）に入ったので接続数の統計を見る\n",
    "# 接続数総計をユーザ数で割って平均を求める\n",
    "\n",
    "# 友達の数を返す関数\n",
    "def number_of_friends(user):\n",
    "    user_id = user[\"id\"]\n",
    "    friend_ids = friendships[user_id]\n",
    "    return len(friend_ids)\n",
    "\n",
    "total_connections = sum(number_of_friends(user) for user in users)\n",
    "\n",
    "num_users = len(users)\n",
    "avg_connections = total_connections / num_users\n"
   ]
  },
  {
   "cell_type": "code",
   "execution_count": 7,
   "metadata": {},
   "outputs": [],
   "source": [
    "# 全ユーザを友達の多寡でソートして、接続数の最も多い・最も多くの友達を持つユーザを探す\n",
    "#  先ずは（id, 友達の数）リストを作る\n",
    "\n",
    "num_friends_by_id = [(user[\"id\"], number_of_friends(user)) for user in users]"
   ]
  },
  {
   "cell_type": "code",
   "execution_count": 8,
   "metadata": {
    "collapsed": true
   },
   "outputs": [
    {
     "data": {
      "text/plain": [
       "[(1, 3),\n",
       " (2, 3),\n",
       " (3, 3),\n",
       " (5, 3),\n",
       " (8, 3),\n",
       " (0, 2),\n",
       " (4, 2),\n",
       " (6, 2),\n",
       " (7, 2),\n",
       " (9, 1)]"
      ]
     },
     "execution_count": 8,
     "metadata": {},
     "output_type": "execute_result"
    }
   ],
   "source": [
    "# 友達の数で（id, 友達の数）リストをソートする\n",
    "# (id, 友達の数)の[1]の１をソートキーにして降順（reverse=True）でsort()する\n",
    "num_friends_by_id.sort(key=lambda id_and_friends: id_and_friends[1], reverse=True)\n",
    "\n",
    "num_friends_by_id"
   ]
  },
  {
   "cell_type": "markdown",
   "metadata": {},
   "source": [
    "ここで計算したのは、「次数中心性」というネットワーク指標"
   ]
  },
  {
   "cell_type": "markdown",
   "metadata": {},
   "source": [
    "## 1.3.2 知り合いかも?"
   ]
  },
  {
   "cell_type": "code",
   "execution_count": 9,
   "metadata": {},
   "outputs": [
    {
     "data": {
      "text/plain": [
       "[0, 2, 3, 0, 1, 3]"
      ]
     },
     "execution_count": 9,
     "metadata": {},
     "output_type": "execute_result"
    }
   ],
   "source": [
    "# 友達の友達を収集する関数\n",
    "\n",
    "def foaf_ids_bad(user):\n",
    "     return [foaf_id\n",
    "             for friend_id in friendships[user[\"id\"]] \n",
    "             for foaf_id in friendships[friend_id]]\n",
    "\n",
    "# 友達の友達のidリストを返す関数。\n",
    "# 多重の「リスト内包表記」　は直感的に何をしているかわかりにくいので追々解れば、ぐらいで\n",
    "\n",
    "# usersからユーザを１つ選んで関数に適用すると\n",
    "# ユーザ３が２回登場し、別々の二人の友達からつながっていることがわかる\n",
    "foaf_ids_bad(users[0])"
   ]
  },
  {
   "cell_type": "code",
   "execution_count": 11,
   "metadata": {
    "collapsed": true
   },
   "outputs": [
    {
     "name": "stdout",
     "output_type": "stream",
     "text": [
      "[1, 2]\n",
      "[0, 2, 3]\n",
      "[0, 1, 3]\n"
     ]
    }
   ],
   "source": [
    "# 上のfofの確認\n",
    "# ユーザ0はユーザ１、ユーザ２とつながり\n",
    "print(friendships[0])\n",
    "\n",
    "# ユーザー０とつながる二人のつながりは、、\n",
    "print(friendships[1])\n",
    "print(friendships[2])"
   ]
  },
  {
   "cell_type": "code",
   "execution_count": 17,
   "metadata": {},
   "outputs": [
    {
     "data": {
      "text/plain": [
       "Counter({0: 2, 5: 1})"
      ]
     },
     "execution_count": 17,
     "metadata": {},
     "output_type": "execute_result"
    }
   ],
   "source": [
    "# 共通の友達の\n",
    "\n",
    "# 利用するライブラリが組み込み関数・組み込みコンテナでなければ、明示的にロードします\n",
    "# collectionsはすごく便利なデータ型、データの扱いで困ったらここを見ると既に答えがあることが多い。\n",
    "# ここではcollectionsからdictのサブクラスのCounterをimportして利用\n",
    "\n",
    "from collections import Counter\n",
    "\n",
    "def friends_of_friends(user): \n",
    "    user_id = user[\"id\"]\n",
    "    return Counter(foaf_id for friend_id in friendships[user_id]\n",
    "                                            for foaf_id in friendships[friend_id]\n",
    "                                            if foaf_id != user_id\n",
    "                                            and foaf_id not in friendships[user_id]\n",
    "    )\n",
    "\n",
    "# Counterは要素を辞書のキー、その数を辞書の値とし保存する\n",
    "# ユーザ３との共通の友達の数を取得\n",
    "friends_of_friends(users[3])"
   ]
  },
  {
   "cell_type": "code",
   "execution_count": 18,
   "metadata": {},
   "outputs": [],
   "source": [
    "# 各ユーザの興味(user_id, 興味のある分野)のリスト\n",
    "\n",
    "interests = [\n",
    "(0, \"Hadoop\"), (0, \"Big Data\"), (0, \"HBase\"), (0, \"Java\"),\n",
    "(0, \"Spark\"), (0, \"Storm\"), (0, \"Cassandra\"),\n",
    "(1, \"NoSQL\"), (1, \"MongoDB\"), (1, \"Cassandra\"), (1, \"HBase\"),\n",
    "(1, \"Postgres\"), (2, \"Python\"), (2, \"scikit-learn\"), (2, \"scipy\"),\n",
    "(2, \"numpy\"), (2, \"statsmodels\"), (2, \"pandas\"), (3, \"R\"), (3, \"Python\"), (3, \"statistics\"), (3, \"regression\"), (3, \"probability\"),\n",
    "(4, \"machine learning\"), (4, \"regression\"), (4, \"decision trees\"),\n",
    "(4, \"libsvm\"), (5, \"Python\"), (5, \"R\"), (5, \"Java\"), (5, \"C++\"),\n",
    "(5, \"Haskell\"), (5, \"programming languages\"), (6, \"statistics\"),\n",
    "(6, \"probability\"), (6, \"mathematics\"), (6, \"theory\"),\n",
    "(7, \"machine learning\"), (7, \"scikit-learn\"), (7, \"Mahout\"),\n",
    "(7, \"neural networks\"), (8, \"neural networks\"), (8, \"deep learning\"),\n",
    "(8, \"Big Data\"), (8, \"artificial intelligence\"), (9, \"Hadoop\"),\n",
    "(9, \"Java\"), (9, \"MapReduce\"), (9, \"Big Data\")\n",
    "]"
   ]
  },
  {
   "cell_type": "code",
   "execution_count": 27,
   "metadata": {},
   "outputs": [
    {
     "data": {
      "text/plain": [
       "[3, 5]"
      ]
     },
     "execution_count": 27,
     "metadata": {},
     "output_type": "execute_result"
    }
   ],
   "source": [
    "# 指定した分野に興味のあるユーザを抽出する関数\n",
    "\n",
    "def data_scientists_who_like(target_interest): \n",
    "    return [user_id for user_id, user_interest in interests  # interestsリストからuser_idとuser_interestを取り出す 内包表記\n",
    "        if user_interest == target_interest]  # 興味のある分野でフィルター\n",
    "\n",
    "# 例えば興味のある分野がRのユーザは、、\n",
    "data_scientists_who_like(\"R\")"
   ]
  },
  {
   "cell_type": "code",
   "execution_count": 29,
   "metadata": {},
   "outputs": [],
   "source": [
    "# 興味ごとのユーザリストを用意するのがより賢いやり方\n",
    "\n",
    "from collections import defaultdict \n",
    "\n",
    "# 辞書を作成。defaultdict(list)なので存在しないキーでリストに値を登録すると\n",
    "# 空のkey:listの要素がまず作られる（通常のdictだとエラーになる）\n",
    "user_ids_by_interest = defaultdict(list)  \n",
    "\n",
    "for user_id, interest in interests: \n",
    "    user_ids_by_interest[interest].append(user_id)"
   ]
  },
  {
   "cell_type": "code",
   "execution_count": 30,
   "metadata": {},
   "outputs": [],
   "source": [
    "# 各ユーザの興味を特定する上とは逆のリストも作る\n",
    "\n",
    "interests_by_user_id = defaultdict(list)\n",
    "for user_id, interest in interests: \n",
    "    interests_by_user_id[user_id].append(interest)"
   ]
  },
  {
   "cell_type": "code",
   "execution_count": 34,
   "metadata": {},
   "outputs": [
    {
     "data": {
      "text/plain": [
       "Counter({3: 1, 5: 1, 7: 1})"
      ]
     },
     "execution_count": 34,
     "metadata": {},
     "output_type": "execute_result"
    }
   ],
   "source": [
    "# 「各ユーザの興味を順にしらべ」　　1\n",
    "# 「各興味ごとにその分野に興味を持つユーザを順にしらべ」  2\n",
    "# 「あるユーザが何回出てきたかを数える」  3\n",
    "\n",
    "def most_common_interests_with(user): \n",
    "    return Counter(interested_user_id  # 3\n",
    "                   for interest in interests_by_user_id[user[\"id\"]]   # 1\n",
    "                   for interested_user_id in user_ids_by_interest[interest] if interested_user_id != user[\"id\"]  # 2\n",
    ")\n",
    "\n",
    "# 共通する興味を持つユーザの登場回数は、、、\n",
    "most_common_interests_with(users[2])"
   ]
  },
  {
   "cell_type": "markdown",
   "metadata": {},
   "source": [
    "## 1.3.3 給与と経験値"
   ]
  },
  {
   "cell_type": "code",
   "execution_count": 35,
   "metadata": {},
   "outputs": [],
   "source": [
    "# 給与額と勤続年数のデータ\n",
    "\n",
    "salaries_and_tenures = [(83000, 8.7), (88000, 8.1), (48000, 0.7), (76000, 6),\n",
    "(69000, 6.5), (76000, 7.5), (60000, 2.5), (83000, 10), (48000, 1.9), (63000, 4.2)]"
   ]
  },
  {
   "cell_type": "code",
   "execution_count": 45,
   "metadata": {
    "collapsed": true
   },
   "outputs": [
    {
     "data": {
      "image/png": "[encoded data removed]",
      "text/plain": [
       "<Figure size 432x288 with 1 Axes>"
      ]
     },
     "metadata": {
      "needs_background": "light"
     },
     "output_type": "display_data"
    }
   ],
   "source": [
    "# この類のデータ（線形の相関が暗示されるようなデータ？）はプロットしたくなるもの、とのこと\n",
    "# 詳細はここでは説明しませんが、例えばpandas形式に変換したデータをseabornに渡すと簡単に散布図（scatterplot）を描くことができます\n",
    "\n",
    "import pandas as pd\n",
    "import seaborn as sns\n",
    "\n",
    "data = [list(x) for x in salaries_and_tenures]\n",
    "df = pd.DataFrame(data, columns=[\"salary\",\"Years Experience\"])\n",
    "\n",
    "ax = sns.scatterplot(x=\"Years Experience\", y=\"salary\", data=df)"
   ]
  },
  {
   "cell_type": "code",
   "execution_count": 48,
   "metadata": {
    "collapsed": true
   },
   "outputs": [
    {
     "data": {
      "text/plain": [
       "{8.7: 83000.0,\n",
       " 8.1: 88000.0,\n",
       " 0.7: 48000.0,\n",
       " 6: 76000.0,\n",
       " 6.5: 69000.0,\n",
       " 7.5: 76000.0,\n",
       " 2.5: 60000.0,\n",
       " 10: 83000.0,\n",
       " 1.9: 48000.0,\n",
       " 4.2: 63000.0}"
      ]
     },
     "execution_count": 48,
     "metadata": {},
     "output_type": "execute_result"
    }
   ],
   "source": [
    "# 勤続年数ごとの平均給与\n",
    "\n",
    "# 年数をキーといsて給与額のリストを値とする辞書\n",
    "salary_by_tenure = defaultdict(list)\n",
    "for salary, tenure in salaries_and_tenures: \n",
    "    salary_by_tenure[tenure].append(salary)\n",
    "    \n",
    "# 年数をキーとして勤続年数ごとの給与返金を値とする辞書\n",
    "average_salary_by_tenure = {\n",
    "    tenure: sum(salaries) / len(salaries)\n",
    "    for tenure, salaries in salary_by_tenure.items() }\n",
    "\n",
    "average_salary_by_tenure"
   ]
  },
  {
   "cell_type": "code",
   "execution_count": 51,
   "metadata": {},
   "outputs": [],
   "source": [
    "# 勤続年数をバケツ（=bucket, バケット、ある大きさを持った入れ物ぐらいの意味）でグループ化する関数\n",
    "\n",
    "def tenure_bucket(tenure): \n",
    "    if tenure < 2:\n",
    "        return \"less than two\"\n",
    "    elif tenure < 5:\n",
    "        return \"between two and five\"\n",
    "    else:\n",
    "        return \"more than five\""
   ]
  },
  {
   "cell_type": "code",
   "execution_count": 56,
   "metadata": {},
   "outputs": [
    {
     "data": {
      "text/plain": [
       "{'more than five': 79166.66666666667,\n",
       " 'less than two': 48000.0,\n",
       " 'between two and five': 61500.0}"
      ]
     },
     "execution_count": 56,
     "metadata": {},
     "output_type": "execute_result"
    }
   ],
   "source": [
    "# 勤続年数のバケツごとに給与額をまとめる\n",
    "\n",
    "salary_by_tenure_bucket  =defaultdict(list)\n",
    "\n",
    "for salary, tenure in salaries_and_tenures:\n",
    "    bucket = tenure_bucket(tenure) \n",
    "    salary_by_tenure_bucket[bucket].append(salary)\n",
    "    \n",
    "# バケツごと給与平均を求める\n",
    "average_salary_by_bucket = {\n",
    "    tenure_bucket: sum(salaries) / len(salaries)\n",
    "    for tenure_bucket, salaries in salary_by_tenure_bucket.items()\n",
    "}\n",
    "\n",
    "average_salary_by_bucket"
   ]
  },
  {
   "cell_type": "markdown",
   "metadata": {},
   "source": [
    " ## 1.3.4 有料アカウント"
   ]
  },
  {
   "cell_type": "code",
   "execution_count": null,
   "metadata": {},
   "outputs": [],
   "source": [
    "# 利用年数から有料と無料を予測する適当な関数\n",
    "\n",
    "def predict_paid_or_unpaid(years_experience): \n",
    "    if years_experience < 3.0:\n",
    "        return \"paid\"\n",
    "    elif years_experience < 8.5:\n",
    "        return \"unpaid\"\n",
    "    else:\n",
    "        return \"paid\""
   ]
  },
  {
   "cell_type": "markdown",
   "metadata": {},
   "source": [
    "## 1.3.5 興味に関するあれこれ"
   ]
  },
  {
   "cell_type": "code",
   "execution_count": 60,
   "metadata": {
    "collapsed": true
   },
   "outputs": [
    {
     "name": "stdout",
     "output_type": "stream",
     "text": [
      "big 3\n",
      "data 3\n",
      "java 3\n",
      "python 3\n",
      "learning 3\n",
      "hadoop 2\n",
      "hbase 2\n",
      "cassandra 2\n",
      "scikit-learn 2\n",
      "r 2\n",
      "statistics 2\n",
      "regression 2\n",
      "probability 2\n",
      "machine 2\n",
      "neural 2\n",
      "networks 2\n"
     ]
    }
   ],
   "source": [
    "# 1.3.2 の各ユーザの興味(user_id, 興味のある分野)のデータ\"interests\"を利用して、出現する単語をカウントし、最も人気のある興味を見つける\n",
    "\n",
    "words_and_counts = Counter(word\n",
    "    for user, interest in interests\n",
    "    for word in interest.lower().split())\n",
    "\n",
    "for word, count in words_and_counts.most_common(): \n",
    "    if count > 1:\n",
    "        print(word, count)"
   ]
  },
  {
   "cell_type": "code",
   "execution_count": null,
   "metadata": {},
   "outputs": [],
   "source": []
  }
 ],
 "metadata": {
  "kernelspec": {
   "display_name": "Python 3",
   "language": "python",
   "name": "python3"
  },
  "language_info": {
   "codemirror_mode": {
    "name": "ipython",
    "version": 3
   },
   "file_extension": ".py",
   "mimetype": "text/x-python",
   "name": "python",
   "nbconvert_exporter": "python",
   "pygments_lexer": "ipython3",
   "version": "3.7.0"
  }
 },
 "nbformat": 4,
 "nbformat_minor": 2
}
