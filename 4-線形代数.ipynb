{
 "cells": [
  {
   "cell_type": "markdown",
   "metadata": {},
   "source": [
    "# 4章　線形代数\n",
    "\n",
    "- 線形代数はベクトル空間を扱う数学の一分野\n",
    "- ベクトルはオブジェクトであり、有次元空間内の点\n",
    "- ベクトルは数値データを表現する非常に優れた方法。簡単に数値のリストをn次元のベクトルとして表現できる\n",
    "- 数値のリストとしてベクトルを表現するのが最も簡単。本章ではfloatのリストである型エイリアスVectorを使って表現する。\n",
    "- Pythonのリストはベクトル無くベクトル演算の機能が提供されていない"
   ]
  },
  {
   "cell_type": "code",
   "execution_count": 2,
   "metadata": {},
   "outputs": [],
   "source": [
    "from typing import List\n",
    "\n",
    "# typingはPython3.5で追加された機能\n",
    "#  型エイリアスは型をエイリアスに代入することで定義し\n",
    "# コンテナ内の要素に期待する型を記述できる\n",
    "# 型アノテーションを無視してしまっても本章はざっくり理解できるかも\n",
    "\n",
    "Vector = List[float]\n",
    "\n",
    "height_weight_age = [70, 170, 40]\n",
    "grades = [95, 80, 75, 62]\n"
   ]
  },
  {
   "cell_type": "code",
   "execution_count": 3,
   "metadata": {},
   "outputs": [],
   "source": [
    "# リストはベクトル演算の機能が提供されていないため\n",
    "# まずベクトルに対する算術演算機能を作る\n",
    "# ※ベクトルのリストの四則演算、内包表記を使って個々の要素の計算を行なう方法で実現しています\n",
    "\n",
    "#  加算\n",
    "def add(v: Vector, w: Vector) -> Vector:\n",
    "    \"\"\"対応する要素の和\"\"\"\n",
    "    assert len(v) == len(w), \"vectors must be same length\"\n",
    "    return [v_i  + w_i  for v_i, w_i in zip(v, w)]\n",
    "\n",
    "assert add([1, 2, 3], [4, 5, 6]) == [5,7,9]"
   ]
  },
  {
   "cell_type": "code",
   "execution_count": 4,
   "metadata": {},
   "outputs": [],
   "source": [
    "# 減算\n",
    "def subtract(v: Vector, w: Vector) -> Vector:\n",
    "    assert len(v) == len(w), \"vectors must be the same length\"\n",
    "    return [v_i - w_i for v_i, w_i in zip(v, w)]\n",
    "\n",
    "assert subtract([5,7,9], [4,5,6])  == [1,2,3]"
   ]
  },
  {
   "cell_type": "code",
   "execution_count": 5,
   "metadata": {},
   "outputs": [],
   "source": [
    "# 要素ごとの和\n",
    "\n",
    "def vector_sum(vectors: List[Vector]) -> Vector:\n",
    "    assert vectors, \"no vectors rovided!\"\n",
    "    num_elements = len(vectors[0])\n",
    "    assert all(len(v) == num_elements for v in vectors), \"different sizes\"\n",
    "    \n",
    "    return  [sum(vector[i] for vector in vectors)\n",
    "             for i in range(num_elements)]\n",
    "\n",
    "assert vector_sum([[1, 2], [3, 4], [5, 6],[7, 8]]) == [16, 20]"
   ]
  },
  {
   "cell_type": "code",
   "execution_count": 6,
   "metadata": {},
   "outputs": [],
   "source": [
    "# ベクトルとスカラー（この場合スカラーはベクトルに対して量だけの値）の乗算\n",
    "\n",
    "def scalar_multiply(c: float, v: Vector) -> Vector:\n",
    "    return [c * v_i for v_i in v]\n",
    "assert scalar_multiply(2, [1, 2, 3]) == [2, 4, 6]"
   ]
  },
  {
   "cell_type": "code",
   "execution_count": 10,
   "metadata": {},
   "outputs": [],
   "source": [
    "# ベクトルの要素ごとの平均\n",
    "# 上記のvector_sum(), scalar_multiply()を利用\n",
    "\n",
    "def vector_mean(vectors:List[Vector]) -> Vector:\n",
    "    n = len(vectors)\n",
    "    return scalar_multiply(1/n, vector_sum(vectors))\n",
    "\n",
    "assert vector_mean([[1, 2], [3, 4], [5, 6]]) == [3, 4]"
   ]
  },
  {
   "cell_type": "code",
   "execution_count": 13,
   "metadata": {},
   "outputs": [],
   "source": [
    "# ドット積（内積）の計算\n",
    "# ドット積はベクトルvがwの方向にどれだけ広がるかを示す（vとwの角度を示すと考えることもできる）\n",
    "# ２つのベクトルのドット積は要素ごとの積の総和\n",
    "# 「出番は多くない」とありますが、ビット化したベクトルでの共起の計算、類似性算出（コサイン類似度）など\n",
    "# ベクトルの計算で内積を使う頻度は高い（自分比。ただしnumpy.dotで）\n",
    "\n",
    "def dot(v: Vector, w: Vector) -> float:\n",
    "    assert len(v) == len(w), \"vectors must be same length\"\n",
    "    return sum(v_i * w_i for v_i, w_i  in zip(v, w))\n",
    "\n",
    "assert dot([1, 2, 3], [4, 5, 6])  == 32\n"
   ]
  },
  {
   "cell_type": "code",
   "execution_count": 14,
   "metadata": {},
   "outputs": [],
   "source": [
    "# ベクトルの二乗和の計算\n",
    "# ※ベクトルの大きさは二乗和の平方根なので、この計算が有用、ということなのかも？\n",
    "\n",
    "def sum_of_squares(v: Vector) -> float:\n",
    "    return dot(v, v)\n",
    "    \n",
    "assert sum_of_squares([1, 2, 3]) == 14"
   ]
  },
  {
   "cell_type": "code",
   "execution_count": 17,
   "metadata": {},
   "outputs": [],
   "source": [
    "# ベクトルのマグニチュード（一般的には\"ベクトルの大きさ\"）\n",
    "# ３平方の定理による\"二乗和の平方根\"で算出されていると考えるとわかりやすいかも\n",
    "\n",
    "import math\n",
    "\n",
    "def magnitude(v: Vector) -> float:\n",
    "    return math.sqrt(sum_of_squares(v))\n",
    "\n",
    "assert magnitude([3, 4]) == 5"
   ]
  },
  {
   "cell_type": "code",
   "execution_count": 18,
   "metadata": {},
   "outputs": [],
   "source": [
    "# 以上の関数（ベクトルの各要素の減算をするsubtract(), ベクトルの二乗和を計算するsum_of_squares()）と\n",
    "# 平方根を使ってベクトルのおおきさを計算できる\n",
    "# ベクトルの距離はこのように二点間のユークリッド距離を指すのが一般的かもしれないが、他にもいろいろあるらしい\n",
    "\n",
    "def squared_distance (v: Vector, w: Vector) -> float:\n",
    "    return sum_of_squarese(subtract(v, w))\n",
    "\n",
    "def distance(v: Vector, w: Vector) -> float: \n",
    "    return math.sqrt(squared_distance(v, w))"
   ]
  },
  {
   "cell_type": "code",
   "execution_count": 19,
   "metadata": {},
   "outputs": [],
   "source": [
    "# 上で定義したmagtnitude()を使うとわかりやすい？\n",
    "# ベクトルの二乗和を引数にベクトルの大きさを計算するmagnitude()）でも\n",
    "def distance(v: Vector, w: Vector) -> float:\n",
    "    return magnitude(subtract(v, w))"
   ]
  },
  {
   "cell_type": "markdown",
   "metadata": {},
   "source": [
    "## 4.2 行列\n",
    "\n",
    "- 行列は数値を二次元に配置したもの\n",
    "- 行列はリストのリストとして表現できる（ここではそう表現する）\n",
    "- リストの中にある同じ長さのリストが行列の行を表す（Pythonのデータ構造が常に行指向とは限らないので要注意）"
   ]
  },
  {
   "cell_type": "code",
   "execution_count": null,
   "metadata": {},
   "outputs": [],
   "source": []
  },
  {
   "cell_type": "code",
   "execution_count": null,
   "metadata": {},
   "outputs": [],
   "source": []
  },
  {
   "cell_type": "code",
   "execution_count": null,
   "metadata": {},
   "outputs": [],
   "source": []
  },
  {
   "cell_type": "code",
   "execution_count": null,
   "metadata": {},
   "outputs": [],
   "source": []
  },
  {
   "cell_type": "code",
   "execution_count": null,
   "metadata": {},
   "outputs": [],
   "source": []
  },
  {
   "cell_type": "code",
   "execution_count": 77,
   "metadata": {},
   "outputs": [
    {
     "data": {
      "text/plain": [
       "numpy.ndarray"
      ]
     },
     "execution_count": 77,
     "metadata": {},
     "output_type": "execute_result"
    }
   ],
   "source": [
    "#　Numpyを使うと\n",
    "import numpy as np\n",
    "\n",
    "a  = np.array([1,2,3])\n",
    "b = np.array([4,5,6])\n",
    "actual = a + b\n",
    "expected = np.array([5, 7, 9])\n",
    "assert all(actual == expected), \"なんか違う\""
   ]
  },
  {
   "cell_type": "code",
   "execution_count": null,
   "metadata": {},
   "outputs": [],
   "source": []
  }
 ],
 "metadata": {
  "kernelspec": {
   "display_name": "Python 3",
   "language": "python",
   "name": "python3"
  },
  "language_info": {
   "codemirror_mode": {
    "name": "ipython",
    "version": 3
   },
   "file_extension": ".py",
   "mimetype": "text/x-python",
   "name": "python",
   "nbconvert_exporter": "python",
   "pygments_lexer": "ipython3",
   "version": "3.7.0"
  }
 },
 "nbformat": 4,
 "nbformat_minor": 2
}
