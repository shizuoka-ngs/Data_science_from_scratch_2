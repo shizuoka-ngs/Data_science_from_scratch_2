{
 "cells": [
  {
   "cell_type": "markdown",
   "metadata": {},
   "source": [
    "## 2.11.1 defaultdictクラス\n",
    "\n",
    "- defaultdictは概ね通常のdictと同じようにふるまう\n",
    "- （ただし）defaultdictは存在しないキーを指定した場合、defaultdict生成時に指定した関数の返り値を初期値にする\n",
    "- defaultdictは初期値がリストや辞書、独自の関数を使う場合に（場合にこそ!）有効\n",
    "- defaultdictでは辞書のキーが登録されているか都度確認することなく、収集や設定を処理できる\n"
   ]
  },
  {
   "cell_type": "code",
   "execution_count": 10,
   "metadata": {
    "collapsed": true
   },
   "outputs": [
    {
     "data": {
      "text/plain": [
       "{'When': 1,\n",
       " 'I': 3,\n",
       " 'glance': 1,\n",
       " 'over': 1,\n",
       " 'my': 2,\n",
       " 'notes': 1,\n",
       " 'and': 11,\n",
       " 'records': 1,\n",
       " 'of': 5,\n",
       " 'the': 5,\n",
       " 'Sherlock': 1,\n",
       " 'Holmes': 1,\n",
       " 'cases': 1,\n",
       " 'between': 1,\n",
       " 'years': 1,\n",
       " '‘82': 1,\n",
       " '‘90,': 1,\n",
       " 'am': 2,\n",
       " 'faced': 1,\n",
       " 'by': 1,\n",
       " 'so': 5,\n",
       " 'many': 1,\n",
       " 'which': 8,\n",
       " 'present': 1,\n",
       " 'strange': 1,\n",
       " 'interesting': 1,\n",
       " 'features': 1,\n",
       " 'that': 4,\n",
       " 'it': 4,\n",
       " 'is': 2,\n",
       " 'no': 1,\n",
       " 'easy': 1,\n",
       " 'matter': 1,\n",
       " 'to': 6,\n",
       " 'know': 1,\n",
       " 'choose': 1,\n",
       " 'leave.': 1,\n",
       " 'Some,': 2,\n",
       " 'however,': 2,\n",
       " 'have': 6,\n",
       " 'already': 1,\n",
       " 'gained': 1,\n",
       " 'publicity': 1,\n",
       " 'through': 1,\n",
       " 'papers,': 1,\n",
       " 'others': 2,\n",
       " 'not': 1,\n",
       " 'offered': 1,\n",
       " 'a': 2,\n",
       " 'field': 1,\n",
       " 'for': 1,\n",
       " 'those': 1,\n",
       " 'peculiar': 1,\n",
       " 'qualities': 1,\n",
       " 'friend': 1,\n",
       " 'possessed': 1,\n",
       " 'in': 5,\n",
       " 'high': 1,\n",
       " 'degree,': 1,\n",
       " 'object': 1,\n",
       " 'these': 2,\n",
       " 'papers': 1,\n",
       " 'illustrate.': 1,\n",
       " 'too,': 1,\n",
       " 'baffled': 1,\n",
       " 'his': 1,\n",
       " 'analytical': 1,\n",
       " 'skill,': 1,\n",
       " 'would': 1,\n",
       " 'be,': 2,\n",
       " 'as': 1,\n",
       " 'narratives,': 1,\n",
       " 'beginnings': 1,\n",
       " 'without': 1,\n",
       " 'an': 1,\n",
       " 'ending,': 1,\n",
       " 'while': 1,\n",
       " 'been': 1,\n",
       " 'but': 1,\n",
       " 'partially': 1,\n",
       " 'cleared': 2,\n",
       " 'up,': 1,\n",
       " 'their': 1,\n",
       " 'explanations': 1,\n",
       " 'founded': 1,\n",
       " 'rather': 1,\n",
       " 'upon': 1,\n",
       " 'conjecture': 1,\n",
       " 'surmise': 1,\n",
       " 'than': 1,\n",
       " 'on': 1,\n",
       " 'absolute': 1,\n",
       " 'logical': 1,\n",
       " 'proof': 1,\n",
       " 'was': 2,\n",
       " 'dear': 1,\n",
       " 'him.': 1,\n",
       " 'There': 1,\n",
       " 'is,': 1,\n",
       " 'one': 1,\n",
       " 'last': 1,\n",
       " 'remarkable': 1,\n",
       " 'its': 2,\n",
       " 'details': 1,\n",
       " 'startling': 1,\n",
       " 'results': 1,\n",
       " 'tempted': 1,\n",
       " 'give': 1,\n",
       " 'some': 1,\n",
       " 'account': 1,\n",
       " 'spite': 1,\n",
       " 'fact': 1,\n",
       " 'there': 1,\n",
       " 'are': 1,\n",
       " 'points': 1,\n",
       " 'connection': 1,\n",
       " 'with': 1,\n",
       " 'never': 2,\n",
       " 'been,': 1,\n",
       " 'probably': 1,\n",
       " 'will': 1,\n",
       " 'entirely': 1,\n",
       " 'up.': 1}"
      ]
     },
     "execution_count": 10,
     "metadata": {},
     "output_type": "execute_result"
    }
   ],
   "source": [
    "# 単語の出現数カウント法その１　辞書に登録されている単語・いない単語\n",
    "\n",
    "word_counts = {}\n",
    "for word in document:\n",
    "    if word in word_counts:\n",
    "        word_counts[word] += 1\n",
    "    else:\n",
    "        word_counts[word] = 1"
   ]
  },
  {
   "cell_type": "code",
   "execution_count": null,
   "metadata": {},
   "outputs": [],
   "source": [
    "# 単語の出現数カウント法その2 登録されていないキーでアクセスしたら例外で処理する\n",
    "\n",
    "word_counts = {}\n",
    "for word in documents:\n",
    "    try:\n",
    "        word_counts[word] += 1\n",
    "    except KeyError:\n",
    "        word_counts[word] = 1"
   ]
  },
  {
   "cell_type": "code",
   "execution_count": null,
   "metadata": {},
   "outputs": [],
   "source": [
    "# 単語の出現数カウント法その3 登録されていないキーを使ってもエラーが発生しないgetメッソドを使う\n",
    "\n",
    "word_counts = {}\n",
    "for word in document:\n",
    "    previous_count = word_counts.get(word, 0) # キーが登録されていない場合0を返す。要素が存在するなら値を取得する\n",
    "    word_counts[word] = previous_count + 1"
   ]
  },
  {
   "cell_type": "code",
   "execution_count": 14,
   "metadata": {},
   "outputs": [],
   "source": [
    "# 上３つの方法よりスマートなdefaultdictを使う方法\n",
    "\n",
    "from collections import defaultdict\n",
    "\n",
    "word_counts =defaultdict(int) # int() は0を返す\n",
    "for word in document:\n",
    "    word_counts[word] +=1"
   ]
  },
  {
   "cell_type": "code",
   "execution_count": 16,
   "metadata": {
    "collapsed": true
   },
   "outputs": [
    {
     "data": {
      "text/plain": [
       "defaultdict(list, {2: [1]})"
      ]
     },
     "execution_count": 16,
     "metadata": {},
     "output_type": "execute_result"
    }
   ],
   "source": [
    "dd_list = defaultdict(list)\n",
    "# dd_listの存在しなかったキー2を指定しappend()すると、リストが既に存在していたようにリストに1が追加される\n",
    "dd_list[2].append(1)  \n",
    "dd_list"
   ]
  },
  {
   "cell_type": "code",
   "execution_count": 20,
   "metadata": {},
   "outputs": [
    {
     "data": {
      "text/plain": [
       "{}"
      ]
     },
     "execution_count": 20,
     "metadata": {},
     "output_type": "execute_result"
    }
   ],
   "source": [
    "dd_dict = defaultdict(dict)  # dict()はからの辞書を返す\n",
    "dd_dict[\"Joel\"][\"City\"] = \"Seattle\"  # 存在しない\"Joel\"要素に\"City\"要素を設定することができる"
   ]
  },
  {
   "cell_type": "code",
   "execution_count": 21,
   "metadata": {
    "collapsed": true
   },
   "outputs": [
    {
     "data": {
      "text/plain": [
       "defaultdict(<function __main__.<lambda>()>, {2: [0, 1]})"
      ]
     },
     "execution_count": 21,
     "metadata": {},
     "output_type": "execute_result"
    }
   ],
   "source": [
    "dd_pair = defaultdict(lambda: [0,0])\n",
    "dd_pair[2][1] = 1  # defaultdict のキー２の要素[0, 0]）のインデックス１に１を設定。だと思う。。。\n",
    "dd_pair"
   ]
  },
  {
   "cell_type": "code",
   "execution_count": 3,
   "metadata": {
    "collapsed": true
   },
   "outputs": [
    {
     "data": {
      "text/plain": [
       "['When',\n",
       " 'I',\n",
       " 'glance',\n",
       " 'over',\n",
       " 'my',\n",
       " 'notes',\n",
       " 'and',\n",
       " 'records',\n",
       " 'of',\n",
       " 'the',\n",
       " 'Sherlock',\n",
       " 'Holmes',\n",
       " 'cases',\n",
       " 'between',\n",
       " 'the',\n",
       " 'years',\n",
       " '‘82',\n",
       " 'and',\n",
       " '‘90,',\n",
       " 'I',\n",
       " 'am',\n",
       " 'faced',\n",
       " 'by',\n",
       " 'so',\n",
       " 'many',\n",
       " 'which',\n",
       " 'present',\n",
       " 'strange',\n",
       " 'and',\n",
       " 'interesting',\n",
       " 'features',\n",
       " 'that',\n",
       " 'it',\n",
       " 'is',\n",
       " 'no',\n",
       " 'easy',\n",
       " 'matter',\n",
       " 'to',\n",
       " 'know',\n",
       " 'which',\n",
       " 'to',\n",
       " 'choose',\n",
       " 'and',\n",
       " 'which',\n",
       " 'to',\n",
       " 'leave.',\n",
       " 'Some,',\n",
       " 'however,',\n",
       " 'have',\n",
       " 'already',\n",
       " 'gained',\n",
       " 'publicity',\n",
       " 'through',\n",
       " 'the',\n",
       " 'papers,',\n",
       " 'and',\n",
       " 'others',\n",
       " 'have',\n",
       " 'not',\n",
       " 'offered',\n",
       " 'a',\n",
       " 'field',\n",
       " 'for',\n",
       " 'those',\n",
       " 'peculiar',\n",
       " 'qualities',\n",
       " 'which',\n",
       " 'my',\n",
       " 'friend',\n",
       " 'possessed',\n",
       " 'in',\n",
       " 'so',\n",
       " 'high',\n",
       " 'a',\n",
       " 'degree,',\n",
       " 'and',\n",
       " 'which',\n",
       " 'it',\n",
       " 'is',\n",
       " 'the',\n",
       " 'object',\n",
       " 'of',\n",
       " 'these',\n",
       " 'papers',\n",
       " 'to',\n",
       " 'illustrate.',\n",
       " 'Some,',\n",
       " 'too,',\n",
       " 'have',\n",
       " 'baffled',\n",
       " 'his',\n",
       " 'analytical',\n",
       " 'skill,',\n",
       " 'and',\n",
       " 'would',\n",
       " 'be,',\n",
       " 'as',\n",
       " 'narratives,',\n",
       " 'beginnings',\n",
       " 'without',\n",
       " 'an',\n",
       " 'ending,',\n",
       " 'while',\n",
       " 'others',\n",
       " 'have',\n",
       " 'been',\n",
       " 'but',\n",
       " 'partially',\n",
       " 'cleared',\n",
       " 'up,',\n",
       " 'and',\n",
       " 'have',\n",
       " 'their',\n",
       " 'explanations',\n",
       " 'founded',\n",
       " 'rather',\n",
       " 'upon',\n",
       " 'conjecture',\n",
       " 'and',\n",
       " 'surmise',\n",
       " 'than',\n",
       " 'on',\n",
       " 'that',\n",
       " 'absolute',\n",
       " 'logical',\n",
       " 'proof',\n",
       " 'which',\n",
       " 'was',\n",
       " 'so',\n",
       " 'dear',\n",
       " 'to',\n",
       " 'him.',\n",
       " 'There',\n",
       " 'is,',\n",
       " 'however,',\n",
       " 'one',\n",
       " 'of',\n",
       " 'these',\n",
       " 'last',\n",
       " 'which',\n",
       " 'was',\n",
       " 'so',\n",
       " 'remarkable',\n",
       " 'in',\n",
       " 'its',\n",
       " 'details',\n",
       " 'and',\n",
       " 'so',\n",
       " 'startling',\n",
       " 'in',\n",
       " 'its',\n",
       " 'results',\n",
       " 'that',\n",
       " 'I',\n",
       " 'am',\n",
       " 'tempted',\n",
       " 'to',\n",
       " 'give',\n",
       " 'some',\n",
       " 'account',\n",
       " 'of',\n",
       " 'it',\n",
       " 'in',\n",
       " 'spite',\n",
       " 'of',\n",
       " 'the',\n",
       " 'fact',\n",
       " 'that',\n",
       " 'there',\n",
       " 'are',\n",
       " 'points',\n",
       " 'in',\n",
       " 'connection',\n",
       " 'with',\n",
       " 'it',\n",
       " 'which',\n",
       " 'never',\n",
       " 'have',\n",
       " 'been,',\n",
       " 'and',\n",
       " 'probably',\n",
       " 'never',\n",
       " 'will',\n",
       " 'be,',\n",
       " 'entirely',\n",
       " 'cleared',\n",
       " 'up.']"
      ]
     },
     "execution_count": 3,
     "metadata": {},
     "output_type": "execute_result"
    }
   ],
   "source": [
    "# 蛇足ですが本文で documentが定義されていないため、”単語の出現数カウント\"が何をしているかイメージし難い人もいるかも\n",
    "# そこで著作権フリーのデータベース（lit2go）にあったシャーロックホームズの一文から単純な単語リストを（document）を作ってみました\n",
    "# このブロックを実行後に単語の出現数カウント\"を実行すると少しだけdefaultdictで何をやっているのかわかりやすいかも\n",
    "\n",
    "sample = \"When I glance over my notes and records of the Sherlock Holmes cases between the years ‘82 and ‘90, I am faced by so many which present strange and interesting features that it is no easy matter to know which to choose and which to leave. Some, however, have already gained publicity through the papers, and others have not offered a field for those peculiar qualities which my friend possessed in so high a degree, and which it is the object of these papers to illustrate. Some, too, have baffled his analytical skill, and would be, as narratives, beginnings without an ending, while others have been but partially cleared up, and have their explanations founded rather upon conjecture and surmise than on that absolute logical proof which was so dear to him. There is, however, one of these last which was so remarkable in its details and so startling in its results that I am tempted to give some account of it in spite of the fact that there are points in connection with it which never have been, and probably never will be, entirely cleared up.\"\n",
    "document = sample.split(\" \")\n",
    "document"
   ]
  },
  {
   "cell_type": "markdown",
   "metadata": {},
   "source": [
    "## 2.12 Counterクラス\n",
    "\n",
    "- Counterは一続きの値をキーとその出現数に展開する\n",
    "- Counterオブジェクトには、出現数の多い順に要素を返すmost_commonメソッドが用意されている\n"
   ]
  },
  {
   "cell_type": "code",
   "execution_count": 4,
   "metadata": {},
   "outputs": [
    {
     "data": {
      "text/plain": [
       "Counter({0: 2, 1: 1, 2: 1})"
      ]
     },
     "execution_count": 4,
     "metadata": {},
     "output_type": "execute_result"
    }
   ],
   "source": [
    "from collections import Counter\n",
    "c = Counter([0, 1, 2, 0])\n",
    "c"
   ]
  },
  {
   "cell_type": "code",
   "execution_count": 6,
   "metadata": {
    "collapsed": true
   },
   "outputs": [
    {
     "data": {
      "text/plain": [
       "Counter({'When': 1,\n",
       "         'I': 3,\n",
       "         'glance': 1,\n",
       "         'over': 1,\n",
       "         'my': 2,\n",
       "         'notes': 1,\n",
       "         'and': 11,\n",
       "         'records': 1,\n",
       "         'of': 5,\n",
       "         'the': 5,\n",
       "         'Sherlock': 1,\n",
       "         'Holmes': 1,\n",
       "         'cases': 1,\n",
       "         'between': 1,\n",
       "         'years': 1,\n",
       "         '‘82': 1,\n",
       "         '‘90,': 1,\n",
       "         'am': 2,\n",
       "         'faced': 1,\n",
       "         'by': 1,\n",
       "         'so': 5,\n",
       "         'many': 1,\n",
       "         'which': 8,\n",
       "         'present': 1,\n",
       "         'strange': 1,\n",
       "         'interesting': 1,\n",
       "         'features': 1,\n",
       "         'that': 4,\n",
       "         'it': 4,\n",
       "         'is': 2,\n",
       "         'no': 1,\n",
       "         'easy': 1,\n",
       "         'matter': 1,\n",
       "         'to': 6,\n",
       "         'know': 1,\n",
       "         'choose': 1,\n",
       "         'leave.': 1,\n",
       "         'Some,': 2,\n",
       "         'however,': 2,\n",
       "         'have': 6,\n",
       "         'already': 1,\n",
       "         'gained': 1,\n",
       "         'publicity': 1,\n",
       "         'through': 1,\n",
       "         'papers,': 1,\n",
       "         'others': 2,\n",
       "         'not': 1,\n",
       "         'offered': 1,\n",
       "         'a': 2,\n",
       "         'field': 1,\n",
       "         'for': 1,\n",
       "         'those': 1,\n",
       "         'peculiar': 1,\n",
       "         'qualities': 1,\n",
       "         'friend': 1,\n",
       "         'possessed': 1,\n",
       "         'in': 5,\n",
       "         'high': 1,\n",
       "         'degree,': 1,\n",
       "         'object': 1,\n",
       "         'these': 2,\n",
       "         'papers': 1,\n",
       "         'illustrate.': 1,\n",
       "         'too,': 1,\n",
       "         'baffled': 1,\n",
       "         'his': 1,\n",
       "         'analytical': 1,\n",
       "         'skill,': 1,\n",
       "         'would': 1,\n",
       "         'be,': 2,\n",
       "         'as': 1,\n",
       "         'narratives,': 1,\n",
       "         'beginnings': 1,\n",
       "         'without': 1,\n",
       "         'an': 1,\n",
       "         'ending,': 1,\n",
       "         'while': 1,\n",
       "         'been': 1,\n",
       "         'but': 1,\n",
       "         'partially': 1,\n",
       "         'cleared': 2,\n",
       "         'up,': 1,\n",
       "         'their': 1,\n",
       "         'explanations': 1,\n",
       "         'founded': 1,\n",
       "         'rather': 1,\n",
       "         'upon': 1,\n",
       "         'conjecture': 1,\n",
       "         'surmise': 1,\n",
       "         'than': 1,\n",
       "         'on': 1,\n",
       "         'absolute': 1,\n",
       "         'logical': 1,\n",
       "         'proof': 1,\n",
       "         'was': 2,\n",
       "         'dear': 1,\n",
       "         'him.': 1,\n",
       "         'There': 1,\n",
       "         'is,': 1,\n",
       "         'one': 1,\n",
       "         'last': 1,\n",
       "         'remarkable': 1,\n",
       "         'its': 2,\n",
       "         'details': 1,\n",
       "         'startling': 1,\n",
       "         'results': 1,\n",
       "         'tempted': 1,\n",
       "         'give': 1,\n",
       "         'some': 1,\n",
       "         'account': 1,\n",
       "         'spite': 1,\n",
       "         'fact': 1,\n",
       "         'there': 1,\n",
       "         'are': 1,\n",
       "         'points': 1,\n",
       "         'connection': 1,\n",
       "         'with': 1,\n",
       "         'never': 2,\n",
       "         'been,': 1,\n",
       "         'probably': 1,\n",
       "         'will': 1,\n",
       "         'entirely': 1,\n",
       "         'up.': 1})"
      ]
     },
     "execution_count": 6,
     "metadata": {},
     "output_type": "execute_result"
    }
   ],
   "source": [
    "# 上のdocumentでもdefaultdict(dict)を使ってカウントしたのと同じ結果を一行で得ることができる\n",
    "word_counts = Counter(document)\n",
    "word_counts"
   ]
  },
  {
   "cell_type": "code",
   "execution_count": 7,
   "metadata": {
    "collapsed": true
   },
   "outputs": [
    {
     "name": "stdout",
     "output_type": "stream",
     "text": [
      "and 11\n",
      "which 8\n",
      "to 6\n",
      "have 6\n",
      "of 5\n",
      "the 5\n",
      "so 5\n",
      "in 5\n",
      "that 4\n",
      "it 4\n"
     ]
    }
   ],
   "source": [
    "for word, count in word_counts.most_common(10):  # most_commonの引数の値は取得する要素の順位の数っぽい\n",
    "    print(word, count)"
   ]
  },
  {
   "cell_type": "markdown",
   "metadata": {},
   "source": [
    "## 2.13 集合\n",
    "\n",
    "- 集合(Set)は重複しない値のコレクションを表現する\n",
    "- 集合の定義は波括弧で囲んだカンマ区切りの要素\n",
    "- ただし空の集合はset()を使って表す（{}は空の辞書なので）\n",
    "- in演算子が非常に高速に動作するため、大量のデータの中から要素が含まれるかチェックのに集合が適している\n",
    "- 集合を利用すると重複のない集まりを得ることができる\n"
   ]
  },
  {
   "cell_type": "code",
   "execution_count": 30,
   "metadata": {},
   "outputs": [
    {
     "data": {
      "text/plain": [
       "(2, True, False)"
      ]
     },
     "execution_count": 30,
     "metadata": {},
     "output_type": "execute_result"
    }
   ],
   "source": [
    "s = set()\n",
    "s.add(1)\n",
    "s.add(2)\n",
    "s.add(2)\n",
    "x = len(s)\n",
    "y = 2 in s\n",
    "z = 3 in s\n",
    "x, y, z"
   ]
  },
  {
   "cell_type": "code",
   "execution_count": 11,
   "metadata": {
    "collapsed": true
   },
   "outputs": [
    {
     "name": "stdout",
     "output_type": "stream",
     "text": [
      "6.985664367675781e-05\n"
     ]
    }
   ],
   "source": [
    "import time\n",
    "\n",
    "start = time.time()\n",
    "stopwords_list = [\"a\", \"an\", \"at\"] + document + [\"yet\", \"you\"]\n",
    "\"zip\" in stopwords_list\n",
    "end = time.time()\n",
    "print(end-start)"
   ]
  },
  {
   "cell_type": "code",
   "execution_count": 12,
   "metadata": {
    "collapsed": true
   },
   "outputs": [
    {
     "name": "stdout",
     "output_type": "stream",
     "text": [
      "7.081031799316406e-05\n"
     ]
    }
   ],
   "source": [
    "# Setはin演算子が高速に動作する！（らしい）\n",
    "start = time.time()\n",
    "stopwords_set = set(stopwords_list)\n",
    "\"zip\" in stopwords_set\n",
    "end = time.time()\n",
    "print(end-start)"
   ]
  },
  {
   "cell_type": "code",
   "execution_count": 18,
   "metadata": {},
   "outputs": [
    {
     "name": "stdout",
     "output_type": "stream",
     "text": [
      "6\n",
      "3\n"
     ]
    },
    {
     "data": {
      "text/plain": [
       "[1, 2, 3]"
      ]
     },
     "execution_count": 18,
     "metadata": {},
     "output_type": "execute_result"
    }
   ],
   "source": [
    "item_list = [1,2,3,1,2,3]\n",
    "num_items = len(item_list)  # 要素数6\n",
    "print(num_items)\n",
    "\n",
    "item_set = set(item_list)  # リストから集合を生成\n",
    "num_distinct_items = len(item_set)\n",
    "print(num_distinct_items)  #要素数3\n",
    "\n",
    "distinct_item_list = list(item_set) #重複のないリストとなる\n",
    "distinct_item_list"
   ]
  },
  {
   "cell_type": "markdown",
   "metadata": {},
   "source": [
    "## 2.14 実行制御\n",
    "\n",
    "- \"if\"を使った条件判定ができる。これは他の多くのプログラムと同様。\n",
    "- ある条件下で同じ処理を繰り返し続ける方法としてwhileループがある\n",
    "- しかしwhileよりfor ~ inの組み合わせのほうが頻繁に使われる\n"
   ]
  },
  {
   "cell_type": "code",
   "execution_count": null,
   "metadata": {},
   "outputs": [],
   "source": [
    "# if , elif, elseによる条件判定は多用される\n",
    "if 1 > 2:\n",
    "    message = \"もし１が２よりおおきいとしたら\"\n",
    "elif 1 > 3:\n",
    "    message = \"elifは'else if'を表す\" # 直前のif 文が当てはまらない場合に条件判定\n",
    "else:\n",
    "    message = \"すべての条件があてはまらなければelseが該当する\"   # elseは無くても良い"
   ]
  },
  {
   "cell_type": "code",
   "execution_count": null,
   "metadata": {},
   "outputs": [],
   "source": [
    "# if-then-elseを一行に書くと\n",
    "\n",
    "parity = \"even\" if x %2 == 0 else \"odd\"\n",
    "\n",
    "# この記述方法は三項演算子と言います。好きなら使ったらぐらいの立ち位置。簡潔にかけるので良いと思う。"
   ]
  },
  {
   "cell_type": "code",
   "execution_count": 19,
   "metadata": {
    "collapsed": true
   },
   "outputs": [
    {
     "name": "stdout",
     "output_type": "stream",
     "text": [
      "0は10より小さい\n",
      "1は10より小さい\n",
      "2は10より小さい\n",
      "3は10より小さい\n",
      "4は10より小さい\n",
      "5は10より小さい\n",
      "6は10より小さい\n",
      "7は10より小さい\n",
      "8は10より小さい\n",
      "9は10より小さい\n"
     ]
    }
   ],
   "source": [
    "# ブロック内の処理（ x~をprintし、xに1を追加）が条件が真の間繰り返される\n",
    "x = 0\n",
    "while x < 10:\n",
    "    print(f\"{x}は10より小さい\")  # 本書f-stringを多用するとのこと\n",
    "    x += 1  # 繰り返し処理でよく使う書き方(代入演算子)"
   ]
  },
  {
   "cell_type": "code",
   "execution_count": 20,
   "metadata": {
    "collapsed": true
   },
   "outputs": [
    {
     "name": "stdout",
     "output_type": "stream",
     "text": [
      "0\n",
      "1\n",
      "2\n",
      "4\n"
     ]
    }
   ],
   "source": [
    "# range()はfor文で繰り返すことのできる（iterable）なrangeオブジェクトを生成\n",
    "# range(10)の場合、概ね[0, 1, 2, 3, 4, 5, 6, 7, 8, 9]に近い挙動のオブジェクトが生成される\n",
    "\n",
    "for x in range(10):\n",
    "    if x == 3:\n",
    "        continue\n",
    "    if x == 5:\n",
    "        break\n",
    "    print(x)"
   ]
  },
  {
   "cell_type": "markdown",
   "metadata": {},
   "source": [
    "## 2.15 真偽\n",
    "\n",
    "- Python の真偽値は大文字からはじまる True(真)と False(偽)\n",
    "- 変数に値が指定されていない状態で参照すると None\n",
    "- 真偽値を表す値はたくさんある（False, None, [], {}, \"\", 0, 0.0）\n",
    "- 上の例以外はTrue\n",
    "- なので、辞書や文字列が空であるかifを使って調べることができる\n",
    "- 変数の代入でand演算子が使われると、１つ目の値がTrueであればand演算子の結果は２つ目の値となり、１つ目がFalseならand演算子はそのままFalseを返す\n",
    "- all()は要素全てがTrueであればTrueを返す\n",
    "- any()は要素のどれかがTrueであればTrueを返す"
   ]
  },
  {
   "cell_type": "code",
   "execution_count": 1,
   "metadata": {},
   "outputs": [
    {
     "data": {
      "text/plain": [
       "(True, False)"
      ]
     },
     "execution_count": 1,
     "metadata": {},
     "output_type": "execute_result"
    }
   ],
   "source": [
    "one_is_less_than_two = 1< 2  # 1 < 2なので変数にTrueが代入される。この式は左側が代入演算子、右側が比較演算子\n",
    "true_equals_false = True == False \n",
    "\n",
    "one_is_less_than_two, true_equals_false"
   ]
  },
  {
   "cell_type": "code",
   "execution_count": 12,
   "metadata": {},
   "outputs": [],
   "source": [
    "# 極簡単に文字列を返す関数を設定\n",
    "\n",
    "def some_function_that_returns_a_string():\n",
    "    return sample\n",
    "\n",
    "s = some_function_that_returns_a_string()\n",
    "if s:\n",
    "    first_char = s[0]\n",
    "else:\n",
    "    first_char = \"\""
   ]
  },
  {
   "cell_type": "code",
   "execution_count": 14,
   "metadata": {
    "collapsed": true
   },
   "outputs": [
    {
     "data": {
      "text/plain": [
       "'W'"
      ]
     },
     "execution_count": 14,
     "metadata": {},
     "output_type": "execute_result"
    }
   ],
   "source": [
    "first_char = s and s[0]\n",
    "\n",
    "# Pythonの and, orはbool型のTrue, Falseを返すのでは無く真偽に応じて、左側または右側の値をそのまま返す\n",
    "# １つ目の値がTrueとして解釈できるならand演算子の結果の２つ目の値となる。このあたりすっと入ってこない。ややこしい。。。。。\n",
    "first_char"
   ]
  },
  {
   "cell_type": "code",
   "execution_count": null,
   "metadata": {},
   "outputs": [],
   "source": [
    "safe_x = x or 0\n",
    "\n",
    "# xがTrueであればx、でなければ0を返す。"
   ]
  },
  {
   "cell_type": "code",
   "execution_count": 16,
   "metadata": {},
   "outputs": [
    {
     "data": {
      "text/plain": [
       "(True, False, True, True, False)"
      ]
     },
     "execution_count": 16,
     "metadata": {},
     "output_type": "execute_result"
    }
   ],
   "source": [
    "b1 = all([True, 1, {3}])\n",
    "b2 = all([True, 1, {}])\n",
    "b3 = any([True, 1, {}])\n",
    "b4 = all([])\n",
    "b5 = any([])\n",
    "\n",
    "b1, b2, b3, b4, b5"
   ]
  },
  {
   "cell_type": "markdown",
   "metadata": {},
   "source": [
    "## 2.16 ソート\n",
    "\n",
    "- リストにはリスト自身をソートするsortメソッドが用意されている（リスト自身が変更されるため破壊的とかin-placeという）\n",
    "- リスト自身を変更せず、新しいリストを返すのはsorted関数\n",
    "- デフォルトではsort(およびsorted)は要素を単純に比較して昇順（ascending）に並べる\n",
    "- 降順にしたいのであれば、reverse=Trueパラメータを指定する\n",
    "- 要素ごとの比較でなく、key引数に指定した関数の結果を比較することもできる"
   ]
  },
  {
   "cell_type": "code",
   "execution_count": 18,
   "metadata": {},
   "outputs": [
    {
     "name": "stdout",
     "output_type": "stream",
     "text": [
      "[4, 1, 2, 3] [1, 2, 3, 4]\n",
      "[1, 2, 3, 4]\n"
     ]
    }
   ],
   "source": [
    "x = [4, 1, 2, 3]\n",
    "y = sorted(x)\n",
    "print(x, y)\n",
    "\n",
    "x.sort()\n",
    "print(x)"
   ]
  },
  {
   "cell_type": "code",
   "execution_count": 20,
   "metadata": {},
   "outputs": [
    {
     "data": {
      "text/plain": [
       "[-4, 3, -2, 1]"
      ]
     },
     "execution_count": 20,
     "metadata": {},
     "output_type": "execute_result"
    }
   ],
   "source": [
    "x = sorted([-4, 1, -2, 3], key=abs, reverse=True) # keyはabs関数（絶対値を返す）、reverse=Trueなので降順でソートした結果がわたされる\n",
    "x"
   ]
  },
  {
   "cell_type": "code",
   "execution_count": 27,
   "metadata": {
    "collapsed": true
   },
   "outputs": [
    {
     "data": {
      "text/plain": [
       "[('and', 11),\n",
       " ('which', 8),\n",
       " ('to', 6),\n",
       " ('have', 6),\n",
       " ('of', 5),\n",
       " ('the', 5),\n",
       " ('so', 5),\n",
       " ('in', 5),\n",
       " ('that', 4),\n",
       " ('it', 4),\n",
       " ('I', 3),\n",
       " ('my', 2),\n",
       " ('am', 2),\n",
       " ('is', 2),\n",
       " ('Some,', 2),\n",
       " ('however,', 2),\n",
       " ('others', 2),\n",
       " ('a', 2),\n",
       " ('these', 2),\n",
       " ('be,', 2),\n",
       " ('cleared', 2),\n",
       " ('was', 2),\n",
       " ('its', 2),\n",
       " ('never', 2),\n",
       " ('When', 1),\n",
       " ('glance', 1),\n",
       " ('over', 1),\n",
       " ('notes', 1),\n",
       " ('records', 1),\n",
       " ('Sherlock', 1),\n",
       " ('Holmes', 1),\n",
       " ('cases', 1),\n",
       " ('between', 1),\n",
       " ('years', 1),\n",
       " ('‘82', 1),\n",
       " ('‘90,', 1),\n",
       " ('faced', 1),\n",
       " ('by', 1),\n",
       " ('many', 1),\n",
       " ('present', 1),\n",
       " ('strange', 1),\n",
       " ('interesting', 1),\n",
       " ('features', 1),\n",
       " ('no', 1),\n",
       " ('easy', 1),\n",
       " ('matter', 1),\n",
       " ('know', 1),\n",
       " ('choose', 1),\n",
       " ('leave.', 1),\n",
       " ('already', 1),\n",
       " ('gained', 1),\n",
       " ('publicity', 1),\n",
       " ('through', 1),\n",
       " ('papers,', 1),\n",
       " ('not', 1),\n",
       " ('offered', 1),\n",
       " ('field', 1),\n",
       " ('for', 1),\n",
       " ('those', 1),\n",
       " ('peculiar', 1),\n",
       " ('qualities', 1),\n",
       " ('friend', 1),\n",
       " ('possessed', 1),\n",
       " ('high', 1),\n",
       " ('degree,', 1),\n",
       " ('object', 1),\n",
       " ('papers', 1),\n",
       " ('illustrate.', 1),\n",
       " ('too,', 1),\n",
       " ('baffled', 1),\n",
       " ('his', 1),\n",
       " ('analytical', 1),\n",
       " ('skill,', 1),\n",
       " ('would', 1),\n",
       " ('as', 1),\n",
       " ('narratives,', 1),\n",
       " ('beginnings', 1),\n",
       " ('without', 1),\n",
       " ('an', 1),\n",
       " ('ending,', 1),\n",
       " ('while', 1),\n",
       " ('been', 1),\n",
       " ('but', 1),\n",
       " ('partially', 1),\n",
       " ('up,', 1),\n",
       " ('their', 1),\n",
       " ('explanations', 1),\n",
       " ('founded', 1),\n",
       " ('rather', 1),\n",
       " ('upon', 1),\n",
       " ('conjecture', 1),\n",
       " ('surmise', 1),\n",
       " ('than', 1),\n",
       " ('on', 1),\n",
       " ('absolute', 1),\n",
       " ('logical', 1),\n",
       " ('proof', 1),\n",
       " ('dear', 1),\n",
       " ('him.', 1),\n",
       " ('There', 1),\n",
       " ('is,', 1),\n",
       " ('one', 1),\n",
       " ('last', 1),\n",
       " ('remarkable', 1),\n",
       " ('details', 1),\n",
       " ('startling', 1),\n",
       " ('results', 1),\n",
       " ('tempted', 1),\n",
       " ('give', 1),\n",
       " ('some', 1),\n",
       " ('account', 1),\n",
       " ('spite', 1),\n",
       " ('fact', 1),\n",
       " ('there', 1),\n",
       " ('are', 1),\n",
       " ('points', 1),\n",
       " ('connection', 1),\n",
       " ('with', 1),\n",
       " ('been,', 1),\n",
       " ('probably', 1),\n",
       " ('will', 1),\n",
       " ('entirely', 1),\n",
       " ('up.', 1)]"
      ]
     },
     "execution_count": 27,
     "metadata": {},
     "output_type": "execute_result"
    }
   ],
   "source": [
    "# 単語とその出現順を降順にソート\n",
    "\n",
    "wc = sorted(word_counts.items(), key=lambda word_and_count: word_and_count[1], reverse=True)\n",
    "wc"
   ]
  },
  {
   "cell_type": "markdown",
   "metadata": {},
   "source": [
    "## 2.17 リスト内包表記\n",
    "\n",
    "- リストから一部の要素を取り出したり、値を変更しながら別のリストに再構成するのにリスト内包表記を使う\n",
    "- リストと同様に辞書や集合を内包表記で作ることができる\n",
    "- 複数のforを使ってリスト内包表記を構成することができる\n",
    "- for を重ねた場合、後ろの方は前のforで使った結果を参照できる"
   ]
  },
  {
   "cell_type": "code",
   "execution_count": 28,
   "metadata": {},
   "outputs": [
    {
     "data": {
      "text/plain": [
       "([0, 1, 2, 3, 4], [0, 2, 4])"
      ]
     },
     "execution_count": 28,
     "metadata": {},
     "output_type": "execute_result"
    }
   ],
   "source": [
    "even_number = [x for x in range(5) if x % 2 == 0]  # range(5)のそれぞれの要素がx/2の余りが0であればリストに含める\n",
    "list(range(5)), even_number"
   ]
  },
  {
   "cell_type": "code",
   "execution_count": 29,
   "metadata": {},
   "outputs": [
    {
     "data": {
      "text/plain": [
       "[0, 1, 4, 9, 16]"
      ]
     },
     "execution_count": 29,
     "metadata": {},
     "output_type": "execute_result"
    }
   ],
   "source": [
    "squares = [x * x for x in range(5)]\n",
    "squares"
   ]
  },
  {
   "cell_type": "code",
   "execution_count": 31,
   "metadata": {},
   "outputs": [
    {
     "data": {
      "text/plain": [
       "[0, 4, 16]"
      ]
     },
     "execution_count": 31,
     "metadata": {},
     "output_type": "execute_result"
    }
   ],
   "source": [
    "even_squares = [x * x for x in even_number]\n",
    "even_squares"
   ]
  },
  {
   "cell_type": "markdown",
   "metadata": {},
   "source": [
    "# square_dict = {x: x * x for x in range(5)}\n",
    "square_set = {x * x for x in [1, -1]}\n",
    "\n",
    "square_dict, square_set"
   ]
  },
  {
   "cell_type": "code",
   "execution_count": 8,
   "metadata": {
    "collapsed": true
   },
   "outputs": [
    {
     "data": {
      "text/plain": [
       "[(0, 0),\n",
       " (0, 1),\n",
       " (0, 2),\n",
       " (0, 3),\n",
       " (0, 4),\n",
       " (0, 5),\n",
       " (0, 6),\n",
       " (0, 7),\n",
       " (0, 8),\n",
       " (0, 9),\n",
       " (1, 0),\n",
       " (1, 1),\n",
       " (1, 2),\n",
       " (1, 3),\n",
       " (1, 4),\n",
       " (1, 5),\n",
       " (1, 6),\n",
       " (1, 7),\n",
       " (1, 8),\n",
       " (1, 9),\n",
       " (2, 0),\n",
       " (2, 1),\n",
       " (2, 2),\n",
       " (2, 3),\n",
       " (2, 4),\n",
       " (2, 5),\n",
       " (2, 6),\n",
       " (2, 7),\n",
       " (2, 8),\n",
       " (2, 9),\n",
       " (3, 0),\n",
       " (3, 1),\n",
       " (3, 2),\n",
       " (3, 3),\n",
       " (3, 4),\n",
       " (3, 5),\n",
       " (3, 6),\n",
       " (3, 7),\n",
       " (3, 8),\n",
       " (3, 9),\n",
       " (4, 0),\n",
       " (4, 1),\n",
       " (4, 2),\n",
       " (4, 3),\n",
       " (4, 4),\n",
       " (4, 5),\n",
       " (4, 6),\n",
       " (4, 7),\n",
       " (4, 8),\n",
       " (4, 9),\n",
       " (5, 0),\n",
       " (5, 1),\n",
       " (5, 2),\n",
       " (5, 3),\n",
       " (5, 4),\n",
       " (5, 5),\n",
       " (5, 6),\n",
       " (5, 7),\n",
       " (5, 8),\n",
       " (5, 9),\n",
       " (6, 0),\n",
       " (6, 1),\n",
       " (6, 2),\n",
       " (6, 3),\n",
       " (6, 4),\n",
       " (6, 5),\n",
       " (6, 6),\n",
       " (6, 7),\n",
       " (6, 8),\n",
       " (6, 9),\n",
       " (7, 0),\n",
       " (7, 1),\n",
       " (7, 2),\n",
       " (7, 3),\n",
       " (7, 4),\n",
       " (7, 5),\n",
       " (7, 6),\n",
       " (7, 7),\n",
       " (7, 8),\n",
       " (7, 9),\n",
       " (8, 0),\n",
       " (8, 1),\n",
       " (8, 2),\n",
       " (8, 3),\n",
       " (8, 4),\n",
       " (8, 5),\n",
       " (8, 6),\n",
       " (8, 7),\n",
       " (8, 8),\n",
       " (8, 9),\n",
       " (9, 0),\n",
       " (9, 1),\n",
       " (9, 2),\n",
       " (9, 3),\n",
       " (9, 4),\n",
       " (9, 5),\n",
       " (9, 6),\n",
       " (9, 7),\n",
       " (9, 8),\n",
       " (9, 9)]"
      ]
     },
     "execution_count": 8,
     "metadata": {},
     "output_type": "execute_result"
    }
   ],
   "source": [
    "# 複数のforを使った際の繰り返すイテレーターの順序は\n",
    "# 後方のforがより内側のイテレーションになることに留意する。 \n",
    "# 内包表記でも、forで改行されていると forループのブロック風に見えなくも無いので、そう見ると少し直感的にわかりやすいかも\n",
    "\n",
    "pairs = [(x, y)\n",
    "        for x in range(10)\n",
    "        for y in range(10)]\n",
    "\n",
    "pairs"
   ]
  },
  {
   "cell_type": "code",
   "execution_count": 37,
   "metadata": {
    "collapsed": true
   },
   "outputs": [
    {
     "data": {
      "text/plain": [
       "[(0, 1),\n",
       " (0, 2),\n",
       " (0, 3),\n",
       " (0, 4),\n",
       " (0, 5),\n",
       " (0, 6),\n",
       " (0, 7),\n",
       " (0, 8),\n",
       " (0, 9),\n",
       " (1, 2),\n",
       " (1, 3),\n",
       " (1, 4),\n",
       " (1, 5),\n",
       " (1, 6),\n",
       " (1, 7),\n",
       " (1, 8),\n",
       " (1, 9),\n",
       " (2, 3),\n",
       " (2, 4),\n",
       " (2, 5),\n",
       " (2, 6),\n",
       " (2, 7),\n",
       " (2, 8),\n",
       " (2, 9),\n",
       " (3, 4),\n",
       " (3, 5),\n",
       " (3, 6),\n",
       " (3, 7),\n",
       " (3, 8),\n",
       " (3, 9),\n",
       " (4, 5),\n",
       " (4, 6),\n",
       " (4, 7),\n",
       " (4, 8),\n",
       " (4, 9),\n",
       " (5, 6),\n",
       " (5, 7),\n",
       " (5, 8),\n",
       " (5, 9),\n",
       " (6, 7),\n",
       " (6, 8),\n",
       " (6, 9),\n",
       " (7, 8),\n",
       " (7, 9),\n",
       " (8, 9)]"
      ]
     },
     "execution_count": 37,
     "metadata": {},
     "output_type": "execute_result"
    }
   ],
   "source": [
    "increasing_pairs = [(x, y)\n",
    "                                   for x in range(10)\n",
    "                                    for y in range(x + 1, 10)]\n",
    "increasing_pairs"
   ]
  },
  {
   "cell_type": "markdown",
   "metadata": {},
   "source": [
    "## 2.18 自動テストとアサート\n",
    "\n",
    "- コードの正しさを確認するために自動テストを使うことができる\n",
    "- テストを実行するフレームワークは色々ある（例えばunittest）\n",
    "- assertステートメントでは指定した条件が真にならない場合、AssertionErrorが発生する\n",
    "- assertのオプションとして、失敗時に表示するメッセージを追加できる\n",
    "- 関数の入力に対してassertを実行することができる（一般的では無い）"
   ]
  },
  {
   "cell_type": "code",
   "execution_count": 10,
   "metadata": {
    "collapsed": true
   },
   "outputs": [
    {
     "ename": "AssertionError",
     "evalue": "1+1は２であるべきだが、そうなっていない",
     "output_type": "error",
     "traceback": [
      "\u001b[0;31m---------------------------------------------------------------------------\u001b[0m",
      "\u001b[0;31mAssertionError\u001b[0m                            Traceback (most recent call last)",
      "\u001b[0;32m<ipython-input-10-4d5095e8bed3>\u001b[0m in \u001b[0;36m<module>\u001b[0;34m()\u001b[0m\n\u001b[1;32m      1\u001b[0m \u001b[0;32massert\u001b[0m \u001b[0;36m1\u001b[0m \u001b[0;34m+\u001b[0m \u001b[0;36m1\u001b[0m \u001b[0;34m==\u001b[0m \u001b[0;36m2\u001b[0m  \u001b[0;31m# 当然 True\u001b[0m\u001b[0;34m\u001b[0m\u001b[0m\n\u001b[0;32m----> 2\u001b[0;31m \u001b[0;32massert\u001b[0m \u001b[0;36m1\u001b[0m \u001b[0;34m+\u001b[0m \u001b[0;36m1\u001b[0m \u001b[0;34m==\u001b[0m \u001b[0;36m4\u001b[0m\u001b[0;34m,\u001b[0m \u001b[0;34m\"1+1は２であるべきだが、そうなっていない\"\u001b[0m\u001b[0;34m\u001b[0m\u001b[0m\n\u001b[0m\u001b[1;32m      3\u001b[0m \u001b[0;34m\u001b[0m\u001b[0m\n\u001b[1;32m      4\u001b[0m \u001b[0;31m# 2番目の例はオプションでアサーションが失敗したケースで出力されるメッセージを追加している\u001b[0m\u001b[0;34m\u001b[0m\u001b[0;34m\u001b[0m\u001b[0m\n",
      "\u001b[0;31mAssertionError\u001b[0m: 1+1は２であるべきだが、そうなっていない"
     ]
    }
   ],
   "source": [
    "assert 1 + 1 == 2  # 当然 True\n",
    "assert 1 + 1 == 4, \"1+1は２であるべきだが、そうなっていない\"\n",
    "\n",
    "# 2番目の例はオプションでアサーションが失敗したケースで出力されるメッセージを追加している"
   ]
  },
  {
   "cell_type": "code",
   "execution_count": 39,
   "metadata": {},
   "outputs": [],
   "source": [
    "# リストの最小の要素を返す関数\n",
    "def smallest_item(xs):\n",
    "    return min(xs)\n",
    "\n",
    "assert smallest_item([10, 20, 5, 40])  == 5\n",
    "assert smallest_item([1, 0, -1, 2]) == -1"
   ]
  },
  {
   "cell_type": "code",
   "execution_count": 41,
   "metadata": {
    "collapsed": true
   },
   "outputs": [
    {
     "ename": "AssertionError",
     "evalue": "empty list has no smallest item",
     "output_type": "error",
     "traceback": [
      "\u001b[0;31m---------------------------------------------------------------------------\u001b[0m",
      "\u001b[0;31mAssertionError\u001b[0m                            Traceback (most recent call last)",
      "\u001b[0;32m<ipython-input-41-a9156dde3130>\u001b[0m in \u001b[0;36m<module>\u001b[0;34m()\u001b[0m\n\u001b[1;32m      3\u001b[0m     \u001b[0;32mreturn\u001b[0m \u001b[0mmin\u001b[0m\u001b[0;34m(\u001b[0m\u001b[0mxs\u001b[0m\u001b[0;34m)\u001b[0m\u001b[0;34m\u001b[0m\u001b[0m\n\u001b[1;32m      4\u001b[0m \u001b[0;34m\u001b[0m\u001b[0m\n\u001b[0;32m----> 5\u001b[0;31m \u001b[0msmallest_item\u001b[0m\u001b[0;34m(\u001b[0m\u001b[0;34m[\u001b[0m\u001b[0;34m]\u001b[0m\u001b[0;34m)\u001b[0m\u001b[0;34m\u001b[0m\u001b[0m\n\u001b[0m",
      "\u001b[0;32m<ipython-input-41-a9156dde3130>\u001b[0m in \u001b[0;36msmallest_item\u001b[0;34m(xs)\u001b[0m\n\u001b[1;32m      1\u001b[0m \u001b[0;32mdef\u001b[0m \u001b[0msmallest_item\u001b[0m\u001b[0;34m(\u001b[0m\u001b[0mxs\u001b[0m\u001b[0;34m)\u001b[0m\u001b[0;34m:\u001b[0m\u001b[0;34m\u001b[0m\u001b[0m\n\u001b[0;32m----> 2\u001b[0;31m     \u001b[0;32massert\u001b[0m \u001b[0mxs\u001b[0m\u001b[0;34m,\u001b[0m \u001b[0;34m\"empty list has no smallest item\"\u001b[0m\u001b[0;34m\u001b[0m\u001b[0m\n\u001b[0m\u001b[1;32m      3\u001b[0m     \u001b[0;32mreturn\u001b[0m \u001b[0mmin\u001b[0m\u001b[0;34m(\u001b[0m\u001b[0mxs\u001b[0m\u001b[0;34m)\u001b[0m\u001b[0;34m\u001b[0m\u001b[0m\n\u001b[1;32m      4\u001b[0m \u001b[0;34m\u001b[0m\u001b[0m\n\u001b[1;32m      5\u001b[0m \u001b[0msmallest_item\u001b[0m\u001b[0;34m(\u001b[0m\u001b[0;34m[\u001b[0m\u001b[0;34m]\u001b[0m\u001b[0;34m)\u001b[0m\u001b[0;34m\u001b[0m\u001b[0m\n",
      "\u001b[0;31mAssertionError\u001b[0m: empty list has no smallest item"
     ]
    }
   ],
   "source": [
    "def smallest_item(xs):\n",
    "    assert xs, \"empty list has no smallest item\"  # xsがFalseであった場合AssetionErrorが起きる\n",
    "    return min(xs)\n",
    "\n",
    "smallest_item([])"
   ]
  },
  {
   "cell_type": "markdown",
   "metadata": {},
   "source": [
    "## 2.19 オブジェクト思考プログラミング\n",
    "\n",
    "- Pythonは\"**クラス**\"を使ってデータと操作関数をカプセル化できる（これは多くのプログラミング言語と同様）\n",
    "- 慣例としてクラスのそれぞれの関数は自分自身のクラスインスタンスを参照する「self」を最初のパラメータとして受け取る\n",
    "- クラスは通常\"\\_\\_init\\_\\_\"という名前のコンストラクタを持つ（\\_\\_init\\_\\_(self)関数でパラメータの初期化などを行う）\n",
    "- クラス名を使用し、コンストラクタのインスタンスを生成する\n",
    "- \\_\\_init\\_\\_と同様のアンダースコアのついたメソッドに\\_\\_repr\\_\\_があり、これはクラスインスタンス（オブジェクト）を文字列で表して返す\n"
   ]
  },
  {
   "cell_type": "code",
   "execution_count": 47,
   "metadata": {},
   "outputs": [],
   "source": [
    "# カウントをインクリメントする機能と、現在のカウントを返す機能と、カウントリセット機能を持つクラス\n",
    "class CountingClicker:\n",
    "    def __init__(self, count=0):\n",
    "        self.count = count\n",
    "    \n",
    "    def __repr__(self):\n",
    "        return f\"CountingClicker(count={self.count})\"\n",
    "    \n",
    "    def click(self, num_times = 1):\n",
    "        \"\"\"カウンターを指定された回数クリックする\"\"\"\n",
    "        self.count += num_times\n",
    "        \n",
    "    def read(self):\n",
    "        return self.count\n",
    "    \n",
    "    def reset(self):\n",
    "        self.count =0"
   ]
  },
  {
   "cell_type": "code",
   "execution_count": null,
   "metadata": {},
   "outputs": [],
   "source": [
    "clicker1 = CountingClicker()  # 引数が無いためコンストラクターでデフォルト引数として設定したcount=0が採用される\n",
    "clicker2 = CountingClicker(100) # カウントを１００から始める\n",
    "clicker3 = CountingClicker(count=100) #上の例と同じだが、明示的に引数を指定することができる"
   ]
  },
  {
   "cell_type": "code",
   "execution_count": 48,
   "metadata": {},
   "outputs": [],
   "source": [
    "clicker = CountingClicker()\n",
    "assert clicker.read()  == 0, \"カウントは0から始まらなくてはならない\"\n",
    "clicker.click()  # click()を呼ぶ\n",
    "clicker.click()\n",
    "assert clicker.read() == 2, \"二度のクリックの後、カウントは２でなければならない\"\n",
    "clicker.reset()\n",
    "assert clicker.read() == 0, \"リセットした後は、カウントは0に戻らなければならない\""
   ]
  },
  {
   "cell_type": "markdown",
   "metadata": {},
   "source": [
    "## 2.20 イテレータとジェネレータ\n",
    "\n",
    "- 一度に１つの要素だけが必要な場合、巨大なリストをメモリに保持する必要は無い（コンピュータのメモリは有限で、何億という桁のリストをメモリーに展開すると簡単にリソースが食いつぶされてしまう）\n",
    "- for ~ in を使用したコレクションの反復処理でジェネレータを活用すると、値は必要な分だけ取り出すことができる\n",
    "- ジェネレータを作る方法の１つとして\"**yield**\"を持つ関数を使うこと\n",
    "- for 内包表記を丸カッコで囲むことでもジェネレータを作成できる\n",
    "- 「ジェネレータ内包表記」は（for またはnextによって）実行されるまで値が生成されない\n",
    "- リストやジェネレータの繰り返し処理で値だけで無くインデックスが必要な場合、値を(インデックス, 値)に変換するenumerate関数を利用することができる\n"
   ]
  },
  {
   "cell_type": "code",
   "execution_count": 14,
   "metadata": {
    "collapsed": true
   },
   "outputs": [
    {
     "name": "stdout",
     "output_type": "stream",
     "text": [
      "i: 0\n",
      "i: 1\n",
      "i: 2\n",
      "i: 3\n",
      "i: 4\n",
      "i: 5\n",
      "i: 6\n",
      "i: 7\n",
      "i: 8\n",
      "i: 9\n",
      "i: 0\n",
      "i: 1\n",
      "i: 2\n",
      "i: 3\n",
      "i: 4\n",
      "i: 5\n",
      "i: 6\n",
      "i: 7\n",
      "i: 8\n",
      "i: 9\n"
     ]
    }
   ],
   "source": [
    "def generate_range(n):\n",
    "    i = 0\n",
    "    while i  < n:\n",
    "        yield i\n",
    "        i += 1\n",
    "    \n",
    "for i in generate_range(10):   # ジェネレータはイテレータの一種であるため反復して要素を取り出せる\n",
    "    print(f\"i: {i}\")\n",
    "    \n",
    "    \n",
    "# 閑話。ジェネレータを知らなかった場合多分上と同じ結果となるforループは下のように書くと思われる。\n",
    "n = 10\n",
    "for i in range(0, n):\n",
    "    print(f\"i: {i}\")\n",
    "\n",
    "# 同じ結果が表示されますが\n",
    "# このような単純な記法で巨大なコレクションをイテレートすると、メモリが枯渇（OOM kill processが発生）する可能性があります\n",
    "# 巨大なデータをPythonで扱うようになったらジェネレータを上手く使いたいですね。。。"
   ]
  },
  {
   "cell_type": "code",
   "execution_count": 11,
   "metadata": {},
   "outputs": [
    {
     "name": "stdout",
     "output_type": "stream",
     "text": [
      "1\n",
      "2\n",
      "3\n"
     ]
    }
   ],
   "source": [
    "# 本文のサンプル、ちょっとわかりにくいので、yieldを使ったシンプルな例を作\n",
    "def simple_yield():\n",
    "    yield 1\n",
    "    yield 2\n",
    "    yield 3\n",
    "    \n",
    "# for ループは関数内のyieldが全て処理されるまで繰り返される\n",
    "# 上のyield 1~yield 3は本中のサンプルのようにwhileやforで記述することがdけいる\n",
    "    \n",
    "for x in simple_yield():\n",
    "    print(x)"
   ]
  },
  {
   "cell_type": "code",
   "execution_count": 12,
   "metadata": {},
   "outputs": [
    {
     "data": {
      "text/plain": [
       "1"
      ]
     },
     "execution_count": 12,
     "metadata": {},
     "output_type": "execute_result"
    }
   ],
   "source": [
    "# 閑話。こちらは上の単純なジェネレータを__next__()メソッドで呼び出したらどうなるか\n",
    "# __next__()の呼び出しと、関数内のyieldが対応している雰囲気がわかる\n",
    "x = simple_yield()\n",
    "x.__next__()"
   ]
  },
  {
   "cell_type": "code",
   "execution_count": 13,
   "metadata": {},
   "outputs": [
    {
     "data": {
      "text/plain": [
       "2"
      ]
     },
     "execution_count": 13,
     "metadata": {},
     "output_type": "execute_result"
    }
   ],
   "source": [
    "x.__next__()"
   ]
  },
  {
   "cell_type": "code",
   "execution_count": 14,
   "metadata": {},
   "outputs": [
    {
     "data": {
      "text/plain": [
       "3"
      ]
     },
     "execution_count": 14,
     "metadata": {},
     "output_type": "execute_result"
    }
   ],
   "source": [
    "x.__next__()"
   ]
  },
  {
   "cell_type": "code",
   "execution_count": 15,
   "metadata": {},
   "outputs": [
    {
     "ename": "StopIteration",
     "evalue": "",
     "output_type": "error",
     "traceback": [
      "\u001b[0;31m---------------------------------------------------------------------------\u001b[0m",
      "\u001b[0;31mStopIteration\u001b[0m                             Traceback (most recent call last)",
      "\u001b[0;32m<ipython-input-15-e717e1c1f535>\u001b[0m in \u001b[0;36m<module>\u001b[0;34m()\u001b[0m\n\u001b[0;32m----> 1\u001b[0;31m \u001b[0mx\u001b[0m\u001b[0;34m.\u001b[0m\u001b[0m__next__\u001b[0m\u001b[0;34m(\u001b[0m\u001b[0;34m)\u001b[0m\u001b[0;34m\u001b[0m\u001b[0m\n\u001b[0m",
      "\u001b[0;31mStopIteration\u001b[0m: "
     ]
    }
   ],
   "source": [
    "x.__next__()"
   ]
  },
  {
   "cell_type": "code",
   "execution_count": 20,
   "metadata": {
    "collapsed": true
   },
   "outputs": [
    {
     "data": {
      "text/plain": [
       "<generator object <genexpr> at 0x7ff7e89ced68>"
      ]
     },
     "execution_count": 20,
     "metadata": {},
     "output_type": "execute_result"
    }
   ],
   "source": [
    "# 「ジェネレータ内包表記」\n",
    "evens_below_20 = (i for i in generate_range(20) if i % 2 == 0)\n",
    "evens_below_20"
   ]
  },
  {
   "cell_type": "code",
   "execution_count": null,
   "metadata": {},
   "outputs": [],
   "source": [
    "data = natural_numbers()\n",
    "# これらの計算は実際に生成されたジェネレータがイテレーションされるまで計算されない\n",
    "evens_ = (x for x in data if x % 2 == 0)\n",
    "even_squares = (x ** 2 for x in evens)\n",
    "even_squares_ending_in_six = (x for x in even_squares if x % 10 == 6)"
   ]
  },
  {
   "cell_type": "code",
   "execution_count": 25,
   "metadata": {
    "collapsed": true
   },
   "outputs": [
    {
     "name": "stdout",
     "output_type": "stream",
     "text": [
      "name 0 is Alice\n",
      "name 1 is Bob\n",
      "name 2 is Charlie\n",
      "name 3 is Debbie\n",
      "name 0 is Alice\n",
      "name 1 is Bob\n",
      "name 2 is Charlie\n",
      "name 3 is Debbie\n",
      "name 0 is Alice\n",
      "name 1 is Bob\n",
      "name 2 is Charlie\n",
      "name 3 is Debbie\n"
     ]
    }
   ],
   "source": [
    "names = [\"Alice\", \"Bob\", \"Charlie\", \"Debbie\"]\n",
    "\n",
    "# 「python的では無い」とのこと。\n",
    "for i in range(len(names)):\n",
    "    print(f\"name {i} is {names[i]}\")\n",
    "    \n",
    "# 「これもPython的では無い」とのこと\n",
    "i = 0\n",
    "for name in names:\n",
    "    print(f\"name {i} is {names[i]}\")\n",
    "    i += 1\n",
    "    \n",
    "# Python的な例（でもenumerateがあるから、\n",
    "# enumerateを使った下記のシンプルな記述はPython的と言える、と言える再帰的な言及な気がする）\n",
    "for i, name in enumerate(names):\n",
    "    print(f\"name {i} is {name}\")"
   ]
  },
  {
   "cell_type": "markdown",
   "metadata": {},
   "source": [
    "## 2.21 乱数\n",
    "\n",
    "- データサイエンスを学ぶ中で、randomモジュールの乱数生成機能を必要とする場面は多い\n",
    "- random.random()は0から1までの一様乱数を生成する\n",
    "- randomモジュールが生成するのは、random.seedで指定した初期値を元にした擬似乱数\n",
    "- random.randrange()で１または2つの引数をあたえたrange()の値をランダムに使用する\n",
    "- random.shuffle()はリストの要素をランダムに並べかえる\n",
    "- random.choice()はリストの中からランダムに１つの要素を取り出す\n",
    "- リストから一度取り出した値を戻さずに複数の要素をサンプリングするにはrandom.sampleを使う\n",
    "- 取り出した値を元に戻してサンプリングするには、ただrandom.choice()を繰り返せばよい\n"
   ]
  },
  {
   "cell_type": "code",
   "execution_count": 20,
   "metadata": {},
   "outputs": [
    {
     "data": {
      "text/plain": [
       "[0.5714025946899135,\n",
       " 0.4288890546751146,\n",
       " 0.5780913011344704,\n",
       " 0.20609823213950174]"
      ]
     },
     "execution_count": 20,
     "metadata": {},
     "output_type": "execute_result"
    }
   ],
   "source": [
    "import random\n",
    "random.seed(10)\n",
    "\n",
    "four_uniform_randoms = [random.random() for _ in range(4)]\n",
    "four_uniform_randoms \n",
    "# 何度実行しても同じ結果になるはず"
   ]
  },
  {
   "cell_type": "code",
   "execution_count": 30,
   "metadata": {},
   "outputs": [
    {
     "data": {
      "text/plain": [
       "(7, 4)"
      ]
     },
     "execution_count": 30,
     "metadata": {},
     "output_type": "execute_result"
    }
   ],
   "source": [
    "random_1 = random.randrange(10)\n",
    "random_2 = random.randrange(3, 6)\n",
    "random_1, random_2"
   ]
  },
  {
   "cell_type": "code",
   "execution_count": 23,
   "metadata": {},
   "outputs": [
    {
     "data": {
      "text/plain": [
       "[4, 7, 1, 9, 3, 6, 2, 8, 10, 5]"
      ]
     },
     "execution_count": 23,
     "metadata": {},
     "output_type": "execute_result"
    }
   ],
   "source": [
    "up_to_ten = [1, 2, 3, 4, 5, 6, 7, 8, 9, 10]\n",
    "random.shuffle(up_to_ten)\n",
    "up_to_ten"
   ]
  },
  {
   "cell_type": "code",
   "execution_count": 25,
   "metadata": {
    "collapsed": true
   },
   "outputs": [
    {
     "data": {
      "text/plain": [
       "'Bob'"
      ]
     },
     "execution_count": 25,
     "metadata": {},
     "output_type": "execute_result"
    }
   ],
   "source": [
    "my_best_friend = random.choice([\"Aclice\", \"Bob\", \"Charlie\"])\n",
    "my_best_friend"
   ]
  },
  {
   "cell_type": "code",
   "execution_count": 26,
   "metadata": {},
   "outputs": [
    {
     "data": {
      "text/plain": [
       "[39, 24, 2, 37, 0, 15]"
      ]
     },
     "execution_count": 26,
     "metadata": {},
     "output_type": "execute_result"
    }
   ],
   "source": [
    "lottery_numbers = range(60)\n",
    "winning_numbers = random.sample(lottery_numbers, 6)\n",
    "winning_numbers"
   ]
  },
  {
   "cell_type": "code",
   "execution_count": 36,
   "metadata": {},
   "outputs": [
    {
     "data": {
      "text/plain": [
       "[7, 9, 6, 0]"
      ]
     },
     "execution_count": 36,
     "metadata": {},
     "output_type": "execute_result"
    }
   ],
   "source": [
    "# 閑話。リスト内包表記で４回random.choice()を繰り返しているがけど、\n",
    "# random.choice()がrange(4)から引数を取らないので メモリに残らない　_を使っている\n",
    "four_with_replacement = [random.choice(range(10)) for _ in range(4)]\n",
    "four_with_replacement"
   ]
  },
  {
   "cell_type": "markdown",
   "metadata": {},
   "source": [
    "## 2.22 正規表現\n",
    "\n",
    "- 正規表現はテキスト検索の手段\n",
    "- 便利だが、この本で言及仕切れないほど複雑、とのこと\n",
    "- re.match, re.search, re.split, re.subが用例としてしめされている\n",
    "- re.matchは文字列の先頭から正規表現と一致するかチェックする\n",
    "- re.searchは文字列の任意の部分が正規表現と一致するかチェック"
   ]
  },
  {
   "cell_type": "markdown",
   "metadata": {},
   "source": [
    "## 2.23 関数型プログラミング\n",
    "\n",
    "- 本書第一版では、Pythonの関数partial, map, reduce, filterが紹介されているが、これらの関数は避けてリスト内包表記やforループなどで置き換えるべきと判断したとのこと。"
   ]
  },
  {
   "cell_type": "markdown",
   "metadata": {},
   "source": [
    "## 2.24 zipと引数展開\n",
    "\n",
    "- zip関数は複数のリストをまとめて対応する要素ごとのタプルのリストに変換する\n",
    "- リストの長さが異なる場合、一番短いリストに合わせた長さのリストに変換される\n",
    "- zipの引数にアスタリスク（*）をつけると、**引数展開**が行われ個々のぺあがそれぞれ順にzip関数への引数となる（zipの挙動と逆？）\n",
    "- 引数展開は他のあらゆる関数に使用できる"
   ]
  },
  {
   "cell_type": "code",
   "execution_count": 37,
   "metadata": {},
   "outputs": [
    {
     "data": {
      "text/plain": [
       "[('a', 1), ('b', 2), ('c', 3)]"
      ]
     },
     "execution_count": 37,
     "metadata": {},
     "output_type": "execute_result"
    }
   ],
   "source": [
    "list1 = ['a', 'b', 'c']\n",
    "list2 = [1, 2, 3]\n",
    "[pair for pair in zip(list1, list2)]"
   ]
  },
  {
   "cell_type": "code",
   "execution_count": 39,
   "metadata": {},
   "outputs": [
    {
     "data": {
      "text/plain": [
       "(('a', 'b', 'c'), (1, 2, 3))"
      ]
     },
     "execution_count": 39,
     "metadata": {},
     "output_type": "execute_result"
    }
   ],
   "source": [
    "pairs = [('a', 1), ('b', 2), ('c', 3)]\n",
    "letters, numbers = zip(*pairs)\n",
    "letters, numbers"
   ]
  },
  {
   "cell_type": "code",
   "execution_count": 41,
   "metadata": {},
   "outputs": [
    {
     "data": {
      "text/plain": [
       "3"
      ]
     },
     "execution_count": 41,
     "metadata": {},
     "output_type": "execute_result"
    }
   ],
   "source": [
    "def add(a, b): return a + b\n",
    "add(1, 2)"
   ]
  },
  {
   "cell_type": "code",
   "execution_count": 42,
   "metadata": {},
   "outputs": [
    {
     "name": "stdout",
     "output_type": "stream",
     "text": [
      "add expects two inputs\n"
     ]
    },
    {
     "data": {
      "text/plain": [
       "3"
      ]
     },
     "execution_count": 42,
     "metadata": {},
     "output_type": "execute_result"
    }
   ],
   "source": [
    "try:\n",
    "    add([1, 2])\n",
    "except TypeError:\n",
    "    print(\"add expects two inputs\")\n",
    "    \n",
    "add(*[1, 2]) # リストが展開された形式でadd()の引数となる  "
   ]
  },
  {
   "cell_type": "markdown",
   "metadata": {},
   "source": [
    "## 2.25 argsとkwargs\n",
    "\n",
    "- 任意個数の引数を取れる関数の引数（可変長引数）として、\\*args,\\*\\*kwargsを利用することができる\n",
    "- アスタリスクの方が主でargs, kwargsは慣習的な可変長引数の名前\n",
    "- argが名前の無い引数のタプル、kwargsがキーワード引数の辞書"
   ]
  },
  {
   "cell_type": "code",
   "execution_count": 28,
   "metadata": {},
   "outputs": [],
   "source": [
    "# 関数fを引数として受け取り、fの戻り値を２倍する関数を返す関数（高階関数）を定義する\n",
    "def doubler(f):\n",
    "    def g(x):  \n",
    "        return 2 * f(x)\n",
    "    return g  # 関数doubleで定義した関数gを返している"
   ]
  },
  {
   "cell_type": "code",
   "execution_count": 29,
   "metadata": {},
   "outputs": [],
   "source": [
    "def f1(x):\n",
    "    return x + 1\n",
    "\n",
    "g = doubler(f1)\n",
    "assert g(3) == 8, \"(3 + 1) *2は８であるべき\"  # 引数の３はgの引数だが、f1で定義された処理が行われている\n",
    "assert g(-1) == 0, \"(-1 + 1) * 2は０であるべき\""
   ]
  },
  {
   "cell_type": "code",
   "execution_count": 30,
   "metadata": {},
   "outputs": [
    {
     "name": "stdout",
     "output_type": "stream",
     "text": [
      "as defined, g only takes one argument\n"
     ]
    }
   ],
   "source": [
    "def f2(x, y):\n",
    "    return x + y\n",
    "\n",
    "g = doubler(f2)\n",
    "try:\n",
    "    g(1, 2)\n",
    "except TypeError:\n",
    "    print(\"as defined, g only takes one argument\")  \n",
    "    #関数定義（この場合doubler内部のg(x), f(x)）よりgの引数は１つだけ"
   ]
  },
  {
   "cell_type": "code",
   "execution_count": 31,
   "metadata": {},
   "outputs": [
    {
     "name": "stdout",
     "output_type": "stream",
     "text": [
      "名前なし引数: (1, 2)\n",
      "キーワード引数 {'key': 'word', 'key2': 'word2'}\n"
     ]
    }
   ],
   "source": [
    "def magic(*args, **kwargs):\n",
    "    print(\"名前なし引数:\", args)\n",
    "    print(\"キーワード引数\", kwargs)\n",
    "\n",
    "magic(1, 2, key=\"word\", key2=\"word2\")"
   ]
  },
  {
   "cell_type": "code",
   "execution_count": 51,
   "metadata": {
    "collapsed": true
   },
   "outputs": [
    {
     "ename": "TypeError",
     "evalue": "other_way_magic() got multiple values for argument 'z'",
     "output_type": "error",
     "traceback": [
      "\u001b[0;31m---------------------------------------------------------------------------\u001b[0m",
      "\u001b[0;31mTypeError\u001b[0m                                 Traceback (most recent call last)",
      "\u001b[0;32m<ipython-input-51-6783893cda6c>\u001b[0m in \u001b[0;36m<module>\u001b[0;34m()\u001b[0m\n\u001b[1;32m      4\u001b[0m \u001b[0mx_y_list\u001b[0m \u001b[0;34m=\u001b[0m \u001b[0;34m[\u001b[0m\u001b[0;36m1\u001b[0m\u001b[0;34m,\u001b[0m \u001b[0;36m2\u001b[0m\u001b[0;34m,\u001b[0m \u001b[0;36m3\u001b[0m\u001b[0;34m]\u001b[0m\u001b[0;34m\u001b[0m\u001b[0m\n\u001b[1;32m      5\u001b[0m \u001b[0mz_dict\u001b[0m \u001b[0;34m=\u001b[0m \u001b[0;34m{\u001b[0m\u001b[0;34m\"z\"\u001b[0m\u001b[0;34m:\u001b[0m \u001b[0;36m3\u001b[0m\u001b[0;34m}\u001b[0m\u001b[0;34m\u001b[0m\u001b[0m\n\u001b[0;32m----> 6\u001b[0;31m \u001b[0;32massert\u001b[0m \u001b[0mother_way_magic\u001b[0m\u001b[0;34m(\u001b[0m\u001b[0;34m*\u001b[0m\u001b[0mx_y_list\u001b[0m\u001b[0;34m,\u001b[0m \u001b[0;34m**\u001b[0m\u001b[0mz_dict\u001b[0m\u001b[0;34m)\u001b[0m  \u001b[0;34m==\u001b[0m \u001b[0;36m6\u001b[0m\u001b[0;34m,\u001b[0m \u001b[0;34m\"1 + 2 + 3 should be 6\"\u001b[0m\u001b[0;34m\u001b[0m\u001b[0m\n\u001b[0m\u001b[1;32m      7\u001b[0m \u001b[0;31m# x_y_listをx, yにあたる引数として展開。x_y_list = [1, 2, 3]だとassertionError\u001b[0m\u001b[0;34m\u001b[0m\u001b[0;34m\u001b[0m\u001b[0m\n",
      "\u001b[0;31mTypeError\u001b[0m: other_way_magic() got multiple values for argument 'z'"
     ]
    }
   ],
   "source": [
    "def other_way_magic(x, y, z):\n",
    "    return x + y + z\n",
    "\n",
    "x_y_list = [1, 2]\n",
    "z_dict = {\"z\": 3}\n",
    "assert other_way_magic(*x_y_list, **z_dict)  == 6, \"1 + 2 + 3 should be 6\"\n",
    "# x_y_listをx, yにあたる引数として展開。なのでx_y_list = [1, 2, 3]だとAssertionError"
   ]
  },
  {
   "cell_type": "code",
   "execution_count": 55,
   "metadata": {},
   "outputs": [],
   "source": [
    "def doubler_correct(f):\n",
    "    def g(*args, **kwargs):\n",
    "        return 2 * f(*args, **kwargs)\n",
    "    return g\n",
    "\n",
    "g = doubler_correct(f2)\n",
    "assert g(1, 2) == 6, \"doubler should work now\""
   ]
  },
  {
   "cell_type": "markdown",
   "metadata": {},
   "source": [
    "## 2.26 型アノテーション\n",
    "\n",
    "- Pythonは動的型付け言語で利用するオブジェクトの型の定義を行う必要は無い（つまり型の宣言が必要な言語もある）\n",
    "- Python3.6以降、型アノテーション付きの関数を実行できる\n",
    "- しかし、Pythonの型アノテーションは実際には何もしていない\n",
    "- でもPythonのコードで型アノテーションを資料するのは正当な理由があるよ、とのこと\n",
    "- 型アノテーションを利用して型エラーを知らせてくれるような外部ツールがある"
   ]
  },
  {
   "cell_type": "code",
   "execution_count": 59,
   "metadata": {},
   "outputs": [
    {
     "name": "stdout",
     "output_type": "stream",
     "text": [
      "cannot add an int to a string\n"
     ]
    }
   ],
   "source": [
    "def add(a, b):\n",
    "    return a + b\n",
    "\n",
    "assert add(10, 5) == 15,  \"+ は数値に対して有効\"\n",
    "assert add([1, 2], [3]) == [1, 2, 3], \"+はリストに対して有効\"\n",
    "assert add(\"hi \", \"there\")  == \"hi there\", \"+ は文字列に対して有効\"\n",
    "\n",
    "# この関数の場合add(a, b)の引数は数値でも、リストでも文字列でも有効\n",
    "\n",
    "try:\n",
    "    add(10, \"five\")\n",
    "except TypeError:\n",
    "    print(\"cannot add an int to a string\")\n",
    "    \n",
    "# この関数の場合違う型を混ぜるとTypeError"
   ]
  },
  {
   "cell_type": "code",
   "execution_count": 62,
   "metadata": {},
   "outputs": [],
   "source": [
    "def add(a: int, b:int) -> int:\n",
    "    return a + b\n",
    "\n",
    "# Python3.6以降は引数や返り値に型を指定する（型アノテーションをつける）ことができる"
   ]
  },
  {
   "cell_type": "code",
   "execution_count": 63,
   "metadata": {},
   "outputs": [
    {
     "data": {
      "text/plain": [
       "(15, 'hi there')"
      ]
     },
     "execution_count": 63,
     "metadata": {},
     "output_type": "execute_result"
    }
   ],
   "source": [
    "# しかし、型アノテーションは実際にはなにもしていない\n",
    "add(10, 5), add(\"hi \", \"there\")"
   ]
  },
  {
   "cell_type": "markdown",
   "metadata": {},
   "source": [
    "## 2.26.1 型アノテーションの書き方\n",
    "\n",
    "- typingモジュールはパラメータ化された多くの型を提供している\n",
    "- 変数自体の型は明らか。。？\n",
    "- 型アノテーションはPythonオブジェクトなので変数に代入して参照できる"
   ]
  },
  {
   "cell_type": "code",
   "execution_count": 64,
   "metadata": {},
   "outputs": [],
   "source": [
    "# リストの型アノテーションはlistだけだと十分な型の情報とは言えない\n",
    "# listのここの要素は下のケースはあきらかにfloatだが、明示されていない\n",
    "def total(xs: list) -> float:\n",
    "    return sum(xs)"
   ]
  },
  {
   "cell_type": "code",
   "execution_count": 67,
   "metadata": {},
   "outputs": [],
   "source": [
    "from typing import List\n",
    "def total(xs: List[float]) -> float:\n",
    "    return sum(xs)"
   ]
  },
  {
   "cell_type": "code",
   "execution_count": 68,
   "metadata": {},
   "outputs": [],
   "source": [
    "x: int = 5  #これはあきらかにint\n",
    "values = [] #型がわからない\n",
    "best_so_far  = None #型がわからない"
   ]
  },
  {
   "cell_type": "code",
   "execution_count": null,
   "metadata": {},
   "outputs": [],
   "source": [
    "from typing import Optional\n",
    "\n",
    "values: List[int] = []\n",
    "best_sor_far: Optional[float] = None # float またはNoneのいずれかを許容する"
   ]
  },
  {
   "cell_type": "code",
   "execution_count": 69,
   "metadata": {
    "collapsed": true
   },
   "outputs": [
    {
     "ename": "NameError",
     "evalue": "name 'lazy' is not defined",
     "output_type": "error",
     "traceback": [
      "\u001b[0;31m---------------------------------------------------------------------------\u001b[0m",
      "\u001b[0;31mNameError\u001b[0m                                 Traceback (most recent call last)",
      "\u001b[0;32m<ipython-input-69-cc2cdad6fd59>\u001b[0m in \u001b[0;36m<module>\u001b[0;34m()\u001b[0m\n\u001b[1;32m      4\u001b[0m \u001b[0;34m\u001b[0m\u001b[0m\n\u001b[1;32m      5\u001b[0m \u001b[0;31m#リストとジェネレータはどちらもイテラブル\u001b[0m\u001b[0;34m\u001b[0m\u001b[0;34m\u001b[0m\u001b[0m\n\u001b[0;32m----> 6\u001b[0;31m \u001b[0;32mif\u001b[0m \u001b[0mlazy\u001b[0m\u001b[0;34m:\u001b[0m\u001b[0;34m\u001b[0m\u001b[0m\n\u001b[0m\u001b[1;32m      7\u001b[0m     \u001b[0mevens\u001b[0m\u001b[0;34m:\u001b[0m \u001b[0mIterable\u001b[0m\u001b[0;34m[\u001b[0m\u001b[0mint\u001b[0m\u001b[0;34m]\u001b[0m \u001b[0;34m=\u001b[0m \u001b[0;34m(\u001b[0m\u001b[0mx\u001b[0m \u001b[0;32mfor\u001b[0m \u001b[0mx\u001b[0m \u001b[0;32min\u001b[0m \u001b[0mrange\u001b[0m\u001b[0;34m(\u001b[0m\u001b[0;36m10\u001b[0m\u001b[0;34m)\u001b[0m \u001b[0;32mif\u001b[0m \u001b[0mx\u001b[0m \u001b[0;34m%\u001b[0m \u001b[0;36m2\u001b[0m \u001b[0;34m==\u001b[0m\u001b[0;36m0\u001b[0m\u001b[0;34m)\u001b[0m\u001b[0;34m\u001b[0m\u001b[0m\n\u001b[1;32m      8\u001b[0m \u001b[0;32melse\u001b[0m\u001b[0;34m:\u001b[0m\u001b[0;34m\u001b[0m\u001b[0m\n",
      "\u001b[0;31mNameError\u001b[0m: name 'lazy' is not defined"
     ]
    }
   ],
   "source": [
    "from typing import Dict, Iterable, Tuple\n",
    "\n",
    "counts: Dict[str, int] = {'data': 1, 'science': 2}\n",
    "\n",
    "#リストとジェネレータはどちらもイテラブル\n",
    "if lazy:\n",
    "    evens: Iterable[int] = (x for x in range(10) if x % 2 ==0)\n",
    "else:\n",
    "    evens = [0, 2, 4, 6, 8]"
   ]
  },
  {
   "cell_type": "code",
   "execution_count": 70,
   "metadata": {},
   "outputs": [],
   "source": [
    "# タプルは要素ごと型を指定する\n",
    "triple: Tuple[int, float, int] = (10, 2,3, 5)"
   ]
  },
  {
   "cell_type": "code",
   "execution_count": null,
   "metadata": {},
   "outputs": [],
   "source": [
    "# ちょっと何をいっているのかわからないのだが、、\n",
    "\n",
    "from typing import Callable\n",
    "\n",
    "def twice(repeater: Callable[[str, in], str], s: str) -> str:\n",
    "    return repeater(s, 2)\n",
    "\n",
    "def comma_repeater(s: str, n: int) -> str:\n",
    "    n_copies = [s for _ inrange(n)]\n",
    "    return ',  '.join(n_copies)\n",
    "\n",
    "assert twice(comma_repeater, \"type hints\") == \"type hints, type hints\""
   ]
  }
 ],
 "metadata": {
  "kernelspec": {
   "display_name": "Python 3",
   "language": "python",
   "name": "python3"
  },
  "language_info": {
   "codemirror_mode": {
    "name": "ipython",
    "version": 3
   },
   "file_extension": ".py",
   "mimetype": "text/x-python",
   "name": "python",
   "nbconvert_exporter": "python",
   "pygments_lexer": "ipython3",
   "version": "3.7.0"
  }
 },
 "nbformat": 4,
 "nbformat_minor": 2
}
