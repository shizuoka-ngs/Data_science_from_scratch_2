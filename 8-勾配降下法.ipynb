{
 "cells": [
  {
   "cell_type": "markdown",
   "metadata": {},
   "source": [
    "# 8章　勾配降下法"
   ]
  },
  {
   "cell_type": "markdown",
   "metadata": {},
   "source": [
    "## 8.1 勾配降下法の考え方"
   ]
  },
  {
   "cell_type": "code",
   "execution_count": 2,
   "metadata": {},
   "outputs": [],
   "source": [
    "from scratch.linear_algebra import Vector, dot\n",
    "\n",
    "def sum_of_squares(v: Vector) -> float:\n",
    "    \"\"\"\n",
    "    二乗和\n",
    "    \"\"\"\n",
    "    return dot(v, v)"
   ]
  },
  {
   "cell_type": "markdown",
   "metadata": {},
   "source": [
    "sum_of_squares(v:Vector)は実数ベクトルを受け取り、１つ実数を返す簡単な関数。\n",
    "最適化はこのような関数から最大（または最小）の出力をもたらすvを見つけ出すこと。"
   ]
  },
  {
   "cell_type": "markdown",
   "metadata": {},
   "source": [
    "## 8.2 勾配の評価"
   ]
  },
  {
   "cell_type": "code",
   "execution_count": 3,
   "metadata": {},
   "outputs": [],
   "source": [
    "from typing import Callable\n",
    "\n",
    "# 差分商？を返す？\n",
    "def difference_quotient(f: Callable[[float], float],\n",
    "                       x: float,\n",
    "                       h: float) -> float:\n",
    "    return (f(x + h) - f(x)) / h\n",
    "\n",
    "# 仮引数fは関数"
   ]
  },
  {
   "cell_type": "markdown",
   "metadata": {},
   "source": [
    "導関数は「値を入力したらその値における微分係数を返す関数」"
   ]
  },
  {
   "cell_type": "code",
   "execution_count": 4,
   "metadata": {},
   "outputs": [],
   "source": [
    "# 二乗する関数square\n",
    "\n",
    "def square(x: float ) -> float:\n",
    "    return x * x\n",
    "\n",
    "# squareの導関数は\n",
    "# (x ^ n)' が nx ^ (n-1)　なので\n",
    "def derivative(x: float) -> float:\n",
    "    return 2 * x"
   ]
  },
  {
   "cell_type": "code",
   "execution_count": 5,
   "metadata": {},
   "outputs": [],
   "source": [
    "# 非常に小さな値hで差分商を計算することで微分係数をもとめてみる\n",
    "\n",
    "xs = range(-10, 11)\n",
    "actuals = [derivative(x) for x in xs]\n",
    "estimates = [difference_quotient(square, x, h=0.01) for x in xs]"
   ]
  },
  {
   "cell_type": "code",
   "execution_count": 6,
   "metadata": {},
   "outputs": [
    {
     "data": {
      "image/png": "[encoded data removed]",
      "text/plain": [
       "<Figure size 432x288 with 1 Axes>"
      ]
     },
     "metadata": {
      "needs_background": "light"
     },
     "output_type": "display_data"
    }
   ],
   "source": [
    "# プロットする。導関数に値を代入した実際値と、hを非常に小さくした差分商から得た推定値はほぼ同じ値\n",
    "\n",
    "import matplotlib.pyplot as plt\n",
    "plt.title(\"Actual Derivatives vs. Estimates\")\n",
    "plt.plot(xs, actuals, 'rx', label='Actual')\n",
    "plt.plot(xs, estimates, 'b+', label='Estimate')\n",
    "plt.legend(loc=9)\n",
    "plt.show()"
   ]
  },
  {
   "cell_type": "markdown",
   "metadata": {},
   "source": [
    "fが多変数関数であった場合偏導関数は複数存在する。それぞれの偏導関数は対応するそれぞれの変数を微小に変化させた際にfがどの程度変化するかを表す。\n",
    "\n"
   ]
  },
  {
   "cell_type": "code",
   "execution_count": 7,
   "metadata": {},
   "outputs": [],
   "source": [
    "# i番目の変数以外を固定し変数の関数として扱うことで、i番目の偏導関数を計算する\n",
    "\n",
    "def partial_difference_quotient(f: Callable[[Vector], float],\n",
    "                                v: Vector,\n",
    "                                i: int, \n",
    "                                h: float) -> float:\n",
    "    w = [v_j + (h if j == i else 0)\n",
    "        for i, v_j in enumerate(v)]\n",
    "    return (f(w) - f(v)) /h\n",
    "\n",
    "# 同様に勾配を求める\n",
    "def estimate_gradient(f: Callable[[Vector], float],\n",
    "                      v: Vector,\n",
    "                      h: float = 0.0001):\n",
    "    return [partial_difference_quotient(f, v, i, h)\n",
    "           for i in range(len(v))]\n"
   ]
  },
  {
   "cell_type": "markdown",
   "metadata": {},
   "source": [
    "## 8.3 勾配を利用する"
   ]
  },
  {
   "cell_type": "code",
   "execution_count": 12,
   "metadata": {},
   "outputs": [],
   "source": [
    "# sum_of_squares関数が最小になるのは入力vが0のベクトルである場合だが、それを知らないこととして\n",
    "# 三次元ベクトルについて勾配を使って最小値をもとめてみる\n",
    "\n",
    "import random\n",
    "from scratch.linear_algebra import distance, add, scalar_multiply\n",
    "\n",
    "def gradient_step(v: Vector, gradient: Vector, step_size: float) -> Vector:\n",
    "    assert len(v) == len(gradient)\n",
    "    step = scalar_multiply(step_size, gradient)\n",
    "    return add(v, step)\n",
    "\n",
    "def sum_of_squares_gradient(v: Vector) -> Vector:\n",
    "    return [2 * v_i for v_i in v]\n",
    "\n",
    "# -10から１０の範囲でのランダムな３次元の開始点のベクトルを生成する\n",
    "v = [random.uniform(-10, 10) for i in range(3)]\n",
    "\n",
    "for epoch in range(1000):\n",
    "    grad = sum_of_squares_gradient(v)\n",
    "    v = gradient_step(v, grad, -0.01)\n",
    "    #print(epoch, v)\n",
    "    \n",
    "assert distance(v, [0,0, 0]) < 0.001\n",
    "\n",
    "# このコードを実行すると常にvが本来自明の[0, 0, 0]に非常に近い値で終了することがわかる"
   ]
  },
  {
   "cell_type": "markdown",
   "metadata": {},
   "source": [
    "## 8.4 最善の移動量を選択する\n",
    "\n",
    "勾配方向の移動について、最善の移動量選択の方法は移動時に目的関数が最小となるような移動量を決めるのが最善のように思えるが、実際は計算量を考え単純化して固定の移動量を使用することが多い"
   ]
  },
  {
   "cell_type": "markdown",
   "metadata": {},
   "source": [
    "## 8.5 勾配降下法を使用してモデルを適合させる\n",
    "\n",
    "公開降下法を使用してパラメータ化されたモデルをデータに適合させる"
   ]
  },
  {
   "cell_type": "code",
   "execution_count": 13,
   "metadata": {},
   "outputs": [],
   "source": [
    "# インプットxの範囲は-50から４９、yは２０ * x +5の線形関係\n",
    "inputs = [(x, 20 * x +5) for x in range(-50, 50)]\n",
    "\n",
    "# データから学習してxとyの線形関係のパラメータを見つける\n",
    "# 単一のデータポイントに対して gradの1番目の項目は勾配のわずかな増加により予測も増加。\n",
    "# ただしxが負の場合は予測は小さくなる\n",
    "# 2番目のgradの項目は切片のわずかな増加で予測を大きくする\n",
    "def linear_gradient(x: float, y: float, theta: Vector) -> Vector:\n",
    "    slope, intercept = theta\n",
    "    predicted = slope * x + intercept\n",
    "    error = (predicted -y)\n",
    "    squared_error = error ** 2\n",
    "    grad = [2 * error * x, 2 * error]\n",
    "    return grad\n"
   ]
  },
  {
   "cell_type": "code",
   "execution_count": 20,
   "metadata": {},
   "outputs": [],
   "source": [
    "# データセット全体に対しては平均二乗誤差を調べる。\n",
    "# （予測値と誤差の平均値である平均二乗誤差は線形回帰モデルの性能を数値化する良い手段）\n",
    "# ランダムなtheta: Vectorを開始点とし、勾配を計算して勾配の方向にしたがってthetaを調整する\n",
    "\n",
    "from scratch.linear_algebra import vector_mean\n",
    "\n",
    "# ランダムな傾きと切片でスタートする\n",
    "theta = [random.uniform(-1, 1), random.uniform(-1,1)]\n",
    "\n",
    "learning_rate = 0.001\n",
    "\n",
    "# 平均二乗距離をランダムなベクトルとinputsの実測値で算出し\n",
    "# learning_rateをステップのサイズとして、gradient_step()で\n",
    "# 勾配をより小さい方向に傾きと切片を設定しなおす（感じ？）\n",
    "for epoch in range(2500):\n",
    "    grad = vector_mean([linear_gradient(x, y, theta) for x,y in inputs])\n",
    "    theta = gradient_step(theta, grad, -learning_rate)\n",
    "    #print(epoch, theta)\n",
    "    \n",
    "slope, intercept = theta\n",
    "assert 19.9 < slope < 20.1\n",
    "assert 4.9 < intercept < 5.1\n",
    "\n",
    "# 2500エポックぐらいで\n",
    "# 傾きおおよそ２０、切片おおよそ５に収まる"
   ]
  },
  {
   "cell_type": "markdown",
   "metadata": {},
   "source": [
    "## 8.6 ミニバッチと確率的勾配降下法\n",
    "\n",
    "- 8.5の勾配降下法の欠点はパラメータを更新する前にデータセット全体の勾配を評価する必要があったこと\n",
    "- ミニバッチ勾配降下法は大きなデータセットからサンプリングした「ミニバッチ」に基づいた勾配の計算を行う"
   ]
  },
  {
   "cell_type": "code",
   "execution_count": 22,
   "metadata": {},
   "outputs": [
    {
     "ename": "AssertionError",
     "evalue": "",
     "output_type": "error",
     "traceback": [
      "\u001b[0;31m---------------------------------------------------------------------------\u001b[0m",
      "\u001b[0;31mAssertionError\u001b[0m                            Traceback (most recent call last)",
      "\u001b[0;32m<ipython-input-22-c2f041803ff1>\u001b[0m in \u001b[0;36m<module>\u001b[0;34m\u001b[0m\n\u001b[1;32m     25\u001b[0m \u001b[0mslope\u001b[0m\u001b[0;34m,\u001b[0m \u001b[0mintercept\u001b[0m \u001b[0;34m=\u001b[0m \u001b[0mtheta\u001b[0m\u001b[0;34m\u001b[0m\u001b[0;34m\u001b[0m\u001b[0m\n\u001b[1;32m     26\u001b[0m \u001b[0;32massert\u001b[0m \u001b[0;36m19.9\u001b[0m \u001b[0;34m<\u001b[0m \u001b[0mslope\u001b[0m \u001b[0;34m<\u001b[0m \u001b[0;36m20.1\u001b[0m\u001b[0;34m\u001b[0m\u001b[0;34m\u001b[0m\u001b[0m\n\u001b[0;32m---> 27\u001b[0;31m \u001b[0;32massert\u001b[0m \u001b[0;36m4.9\u001b[0m \u001b[0;34m<\u001b[0m \u001b[0mintercept\u001b[0m \u001b[0;34m<\u001b[0m \u001b[0;36m5.1\u001b[0m\u001b[0;34m\u001b[0m\u001b[0;34m\u001b[0m\u001b[0m\n\u001b[0m\u001b[1;32m     28\u001b[0m \u001b[0;34m\u001b[0m\u001b[0m\n\u001b[1;32m     29\u001b[0m \u001b[0;31m# 勾配降下法では200~2500エポックぐらいで上記の範囲に傾きと切片の値が収まったが\u001b[0m\u001b[0;34m\u001b[0m\u001b[0;34m\u001b[0m\u001b[0;34m\u001b[0m\u001b[0m\n",
      "\u001b[0;31mAssertionError\u001b[0m: "
     ]
    }
   ],
   "source": [
    "from typing import TypeVar, List, Iterator\n",
    "\n",
    "# TypeVarは\"Generics\"（具体的な型に依存しない抽象的かつ汎用的な関数クラス）として有効な型を宣言する？？\n",
    "# 下記ではTypeVarでTとい名前の型を宣言している\n",
    "T = TypeVar('T')\n",
    "\n",
    "def minibatches(dataset: List[T],\n",
    "               batch_size: int,\n",
    "               shuffle: bool = True) -> Iterator[List[T]]:\n",
    "    batch_starts = [start for start in range(0, len(dataset), batch_size)]\n",
    "    # リストbatch_starsの並び順をランダムにシャッフルする\n",
    "    if shuffle:  random.shuffle(batch_starts)\n",
    "    for start in batch_starts:\n",
    "        end = start + batch_size\n",
    "        yield dataset[start:end]\n",
    "        \n",
    "theta = [random.uniform(-1, 1), random.uniform(-1, 1)]\n",
    "\n",
    "for epoch in range(1000):\n",
    "    for batch in minibatches(inputs, batch_size=20):\n",
    "        grad = vector_mean([linear_gradient(x, y, theta) for x, y in batch])\n",
    "        theta = gradient_step(theta, grad, -learning_rate)\n",
    "    #print(epoch, theta)\n",
    "    \n",
    "slope, intercept = theta\n",
    "assert 19.9 < slope < 20.1\n",
    "assert 4.9 < intercept < 5.1\n",
    "\n",
    "# 勾配降下法では200~2500エポックぐらいで上記の範囲に傾きと切片の値が収まったが\n",
    "# minibatchだとより少ないエポックで良い雰囲気"
   ]
  },
  {
   "cell_type": "code",
   "execution_count": 23,
   "metadata": {},
   "outputs": [],
   "source": [
    "# 確率的勾配降下法\n",
    "\n",
    "theta = [random.uniform(-1,1), random.uniform(-1, 1)]\n",
    "\n",
    "for epoch in range(100):\n",
    "    for x, y in inputs:\n",
    "        grad = linear_gradient(x, y, theta)\n",
    "        theta = gradient_step(theta, grad, -learning_rate)\n",
    "    #print(epoch, theta)\n",
    "    \n",
    "slope, intercept = theta\n",
    "assert 19.9 < slope < 20.1\n",
    "assert 4.9 < intercept < 5.1\n",
    "\n",
    "# 一度に１つの学習に基づいて勾配ステップを実行すると\n",
    "# より少ないエポック数で最適なパラメータが見つかる、、、らしい。"
   ]
  },
  {
   "cell_type": "code",
   "execution_count": null,
   "metadata": {},
   "outputs": [],
   "source": []
  }
 ],
 "metadata": {
  "kernelspec": {
   "display_name": "Python 3",
   "language": "python",
   "name": "python3"
  },
  "language_info": {
   "codemirror_mode": {
    "name": "ipython",
    "version": 3
   },
   "file_extension": ".py",
   "mimetype": "text/x-python",
   "name": "python",
   "nbconvert_exporter": "python",
   "pygments_lexer": "ipython3",
   "version": "3.7.6"
  }
 },
 "nbformat": 4,
 "nbformat_minor": 2
}
