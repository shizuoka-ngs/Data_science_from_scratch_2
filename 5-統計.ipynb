{
 "cells": [
  {
   "cell_type": "markdown",
   "metadata": {},
   "source": [
    "# 5章　統計\n"
   ]
  },
  {
   "cell_type": "markdown",
   "metadata": {},
   "source": [
    "## 5.1 データの特徴を表す\n",
    "\n",
    "- 統計とはデータを理解するための数学的手法\n",
    "- データを説明する方法は\n",
    "    - 値の数が少なければ単純にデータそのものを示すことができる\n",
    "    - 値の数が多ければ、データから関連する特徴を抽出して統計を示す"
   ]
  },
  {
   "cell_type": "code",
   "execution_count": 89,
   "metadata": {},
   "outputs": [
    {
     "data": {
      "image/png": "[encoded data removed]",
      "text/plain": [
       "<Figure size 432x288 with 1 Axes>"
      ]
     },
     "metadata": {
      "needs_background": "light"
     },
     "output_type": "display_data"
    }
   ],
   "source": [
    "from collections import Counter\n",
    "import matplotlib.pyplot as plt\n",
    "from numpy.random import *\n",
    "\n",
    "# サンプルデータとして正規分布モジュールを利用して（平均２０、標準偏差１０）のリストを生成しnum_friendsとする\n",
    "# ただし、abs(int())な値なので出来た配列は正規分布では無い\n",
    "num_friends = [abs(int(normal(20, 10))) for x in range(500)]\n",
    "\n",
    "xs = range(101)\n",
    "# 0から１００までの値でCounter(num_freiends)の値（ある友達の数を持つユーザの数）のリストを生成する\n",
    "ys = [friend_counts[x] for x in xs]\n",
    "plt.bar(xs, ys)\n",
    "plt.axis([0, 101, 0, max(ys)])\n",
    "plt.title(\"Histogram of Friend Counts\")\n",
    "plt.ylabel(\"# of people\")\n",
    "plt.xlabel(\"# of friends\")\n",
    "plt.show()"
   ]
  },
  {
   "cell_type": "code",
   "execution_count": 38,
   "metadata": {},
   "outputs": [
    {
     "data": {
      "text/plain": [
       "(500, 48, 0)"
      ]
     },
     "execution_count": 38,
     "metadata": {},
     "output_type": "execute_result"
    }
   ],
   "source": [
    "# 統計量を算出する\n",
    "\n",
    "## データの数\n",
    "num_points = len(num_friends)\n",
    "\n",
    "## 友達の数の最大値、最小値\n",
    "largest_value = max(num_friends)\n",
    "smallest_value = min(num_friends)\n",
    "\n",
    "num_points, largest_value, smallest_value"
   ]
  },
  {
   "cell_type": "code",
   "execution_count": 39,
   "metadata": {},
   "outputs": [
    {
     "data": {
      "text/plain": [
       "(0, 0, 45)"
      ]
     },
     "execution_count": 39,
     "metadata": {},
     "output_type": "execute_result"
    }
   ],
   "source": [
    "#  特定の位置にある値\n",
    "\n",
    "sorted_values = sorted(num_friends)\n",
    "smallest_value = sorted_values[0]\n",
    "second_smallest_value = sorted_values[1]\n",
    "second_largest_value = sorted_values[-2]\n",
    "\n",
    "smallest_value, second_smallest_value, second_largest_value"
   ]
  },
  {
   "cell_type": "markdown",
   "metadata": {},
   "source": [
    "### 5.1.1 代表値\n",
    "\n",
    "- データを要約する統計量の中でもデータの中心を表す統計量を知る事は欠かすことができない\n",
    "- データの中心と言った場合多くは値の総和をデータ数で割った平均値が利用される\n",
    "- 平均値は個々のデータに依存した値\n",
    "- 中央値（median）はデータポイントの中央の値、または２つの中央のデータの平均値\n",
    "- 中央中は個々のデータに依存しない\n",
    "- 平均値はデータの外れ値に対して敏感（最大値の値がどれだけ増えても中央値は変わらないが平均値は変化する）\n",
    "- 分位数は中央値を一般化したもの。例えば百分位数はデータを百当分した点のn番目の値を指す\n",
    "- モード（mode: 最頻値）は最も頻度が高い値"
   ]
  },
  {
   "cell_type": "code",
   "execution_count": 40,
   "metadata": {},
   "outputs": [
    {
     "data": {
      "text/plain": [
       "19.898"
      ]
     },
     "execution_count": 40,
     "metadata": {},
     "output_type": "execute_result"
    }
   ],
   "source": [
    "from typing import List\n",
    "\n",
    "# 平均値\n",
    "def mean(xs: List[float]) -> float:\n",
    "    return sum(xs) / len(xs)\n",
    "\n",
    "mean(num_friends)"
   ]
  },
  {
   "cell_type": "code",
   "execution_count": 47,
   "metadata": {},
   "outputs": [
    {
     "name": "stdout",
     "output_type": "stream",
     "text": [
      "20.0\n"
     ]
    }
   ],
   "source": [
    "# 中央値\n",
    "def _median_odd(xs: List[float]) -> float:\n",
    "    return sorted(xs)[len(xs) // 2]\n",
    "\n",
    "def _median_even(xs: List[float]) -> float:\n",
    "    sorted_xs = sorted(xs)\n",
    "    hi_midpoint = len(xs) // 2\n",
    "    return  (sorted_xs[hi_midpoint - 1] + sorted_xs[hi_midpoint]) /2 \n",
    "\n",
    "def median(v: List[float]) -> float:\n",
    "    # 奇数であればソートされたデータの中央の値、偶数であれば中央となる２つの値の平均だが、これ処理として記述すると\n",
    "    # 奇数の場合リストソートされたリストの長さを２で割って切り捨てた値をインデックスとした値\n",
    "    # 偶数であればベクトルの長さを切捨徐算した値をインデックスとした値とその-1の値をインデックスした値を２で割った値\n",
    "    return _median_even(v) if len(v) % 2 == 0 else _median_odd(v)\n",
    "\n",
    "assert median([1, 10, 2, 9, 5]) == 5\n",
    "\n",
    "print(median(num_friends))"
   ]
  },
  {
   "cell_type": "code",
   "execution_count": 67,
   "metadata": {},
   "outputs": [],
   "source": [
    "# 分位数\n",
    "def quantile(xs: List[float], p: float) -> float:\n",
    "    # データの長さを百分位数で割った値をindexとして値を返す\n",
    "    p_index = int(p * len(xs))\n",
    "    return sorted(xs)[p_index]\n",
    "\n",
    "# 百分位でassertを記述する場合\n",
    "assert quantile(num_friends, 0.50)  == 20"
   ]
  },
  {
   "cell_type": "code",
   "execution_count": 51,
   "metadata": {},
   "outputs": [
    {
     "data": {
      "text/plain": [
       "[17, 14]"
      ]
     },
     "execution_count": 51,
     "metadata": {},
     "output_type": "execute_result"
    }
   ],
   "source": [
    "# モード\n",
    "def mode(x: List[float]) -> List[float]:\n",
    "    counts = Counter(x)\n",
    "    max_count = max(counts.values())\n",
    "    return [x_i for x_i, count in counts.items() if count == max_count]\n",
    "\n",
    "mode(num_friends)"
   ]
  },
  {
   "cell_type": "markdown",
   "metadata": {},
   "source": [
    "### 5.1.2 散らばり（散布度, dispertion）\n",
    "\n",
    "- 代表値以外に重要な特性値として散らばりがある\n",
    "- 散らばりはデータにどの程度広がりがあるのかを示す\n",
    "- 散らばりが0に近いほどデータに広がりがなく値が大きいほど広がりが大きい\n",
    "- 範囲（range）は最も簡単な散らばりを示す統計量\n",
    "- 範囲は最大値と最小値が等しい場合0になる。範囲が大きな値を持つ場合最大値と最小値は大きな値を持ちデータは大きくひろがっている\n",
    "- 分散（variance）はより複雑な散らばりを示す統計量（範囲は全てのデータに依存した統計量では無い）\n",
    "- 分散は元の単位を二乗しているため、値の意味を把握しずらく、元の値との比較のため分散の平方根をとった標準偏差を使う\n",
    "- 標準偏差も平均と同じく外れ値に対する問題がある"
   ]
  },
  {
   "cell_type": "code",
   "execution_count": 52,
   "metadata": {},
   "outputs": [
    {
     "data": {
      "text/plain": [
       "48"
      ]
     },
     "execution_count": 52,
     "metadata": {},
     "output_type": "execute_result"
    }
   ],
   "source": [
    "# 範囲（range）\n",
    "\n",
    "def data_range(xs: List[float]) -> float:\n",
    "    return max(xs) - min(xs)\n",
    "\n",
    "data_range(num_friends)"
   ]
  },
  {
   "cell_type": "code",
   "execution_count": 63,
   "metadata": {},
   "outputs": [
    {
     "data": {
      "text/plain": [
       "94.07173947895781"
      ]
     },
     "execution_count": 63,
     "metadata": {},
     "output_type": "execute_result"
    }
   ],
   "source": [
    "# 分散（variance）\n",
    "\n",
    "# scratchはpypiに登録されたライブラリではなくて著書のgithub（https://github.com/joelgrus/data-science-from-scratch）にあるツール\n",
    "# scratchディレクトリを参照可能場所に置いておく必要がある。\n",
    "from scratch.linear_algebra import sum_of_squares\n",
    "\n",
    "def de_mean(xs: List[float]) -> List[float]:\n",
    "    \"\"\"\n",
    "    ベクトルの各要素と平均との差のリストを返す\n",
    "    \"\"\"\n",
    "    x_bar = mean(xs)\n",
    "    return [x - x_bar for x in xs]\n",
    "\n",
    "def variance(xs: List[float]) -> float:\n",
    "    \"\"\"\n",
    "    平均との差のおおよそ二乗平均（分散）\n",
    "    \"\"\"\n",
    "    assert len(xs) >= 2, \"分散は少なくとも２つの要素を必要とする\"\n",
    "    \n",
    "    n = len(xs)\n",
    "    deviations = de_mean(xs)\n",
    "    # sub_of_suqres()はscratch.linear_algebraのシンプルな内積を返す関数\n",
    "    return sum_of_squares(deviations) / (n - 1)\n",
    "\n",
    "variance(num_friends)"
   ]
  },
  {
   "cell_type": "code",
   "execution_count": 64,
   "metadata": {},
   "outputs": [
    {
     "data": {
      "text/plain": [
       "9.69905869035536"
      ]
     },
     "execution_count": 64,
     "metadata": {},
     "output_type": "execute_result"
    }
   ],
   "source": [
    "# 標準偏差（standard diviation）\n",
    "\n",
    "import math\n",
    "\n",
    "def standard_deviation(xs: List[float]) -> float:\n",
    "    return math.sqrt(variance(xs))\n",
    "\n",
    "standard_deviation(num_friends)"
   ]
  },
  {
   "cell_type": "code",
   "execution_count": 86,
   "metadata": {},
   "outputs": [
    {
     "name": "stdout",
     "output_type": "stream",
     "text": [
      "9.659759723504079\n",
      "14\n",
      "12.56473727359594\n",
      "14\n"
     ]
    }
   ],
   "source": [
    "# 標準偏差の外れ値に対する問題\n",
    "# ユーザ数の最大値にかなり大きい200を追加すると標準偏差が大きく変わってしまうことがわかる\n",
    "# 75パーセンンタいると25パーセンタイルの差は外れ値に影響を受けないことも示されている\n",
    "\n",
    "def interquartile_range(xs: List[float]) -> float:\n",
    "    return quantile(xs, 0.75) - quantile(xs, 0.25)\n",
    "\n",
    "print(standard_deviation(num_friends))\n",
    "print(interquartile_range(num_friends))\n",
    "\n",
    "num_friends.append(200)\n",
    "print(standard_deviation(num_friends))\n",
    "print(interquartile_range(num_friends))"
   ]
  },
  {
   "cell_type": "markdown",
   "metadata": {},
   "source": [
    "## 5.2 相関\n",
    "\n",
    "- ２つのデータの関係を示す統計量として**共分散**があげられる\n",
    "- 共分散は分散を２つの変数に対して拡張したもの\n",
    "- 共分散が大きい時Xが大きい時Yも大きい傾向\n",
    "- 共分散が０に近いときはXとYにあまり関係が無い\n",
    "- 共分散が小さい（負）であるときはXが大きいとYが小さい傾向にある\n",
    "- 共分散の単位も入力の単位の二乗をとるのであまり直感的な値では無い\n",
    "- より直感的な統計量として共分散をそれぞれの標準偏差で割った**相関係数**を用いるのが一般的\n",
    "- 相関係数には単位が無く、-1（完全な負の相関）から1（完全な正の相関）の間の値を取る\n"
   ]
  },
  {
   "cell_type": "code",
   "execution_count": 94,
   "metadata": {},
   "outputs": [
    {
     "data": {
      "text/plain": [
       "12.022929344112823"
      ]
     },
     "execution_count": 94,
     "metadata": {},
     "output_type": "execute_result"
    }
   ],
   "source": [
    "# 共分散\n",
    "\n",
    "from scratch.linear_algebra import dot\n",
    "\n",
    "def covariance(xs: List[float], ys: List[float]) -> float:\n",
    "    assert len(xs) == len(ys), \"xsとysは同じ要素数を持つ\"\n",
    "    # 分散の積をおおよそのデータの長さで割った値が共分散となる\n",
    "    return dot(de_mean(xs), de_mean(ys)) / (len(xs) - 1)\n",
    "\n",
    "# 各ユーザの1日あたりの利用時間（分）のサンプルデータを生成する\n",
    "daily_minutes = [abs(normal(60, 20)) for x in range(500)]\n",
    "\n",
    "covariance(num_friends, daily_minutes)"
   ]
  },
  {
   "cell_type": "code",
   "execution_count": 96,
   "metadata": {},
   "outputs": [
    {
     "data": {
      "text/plain": [
       "0.06375530371421075"
      ]
     },
     "execution_count": 96,
     "metadata": {},
     "output_type": "execute_result"
    }
   ],
   "source": [
    "# 相関係数\n",
    "\n",
    "def correlation(xs: List[float], ys: List[float]) -> float:\n",
    "    stdev_x = standard_deviation(xs)\n",
    "    stdev_y = standard_deviation(ys)\n",
    "    if stdev_x > 0 and stdev_y > 0:\n",
    "        # 共分散（分散の積をおおよそのデータ数で割った値）を\n",
    "        # さらにそれぞれの標準偏差で割ると相関係数となる\n",
    "        return covariance(xs,  ys) / stdev_x / stdev_y\n",
    "    else:\n",
    "        return 0\n",
    "\n",
    "# このサンプルではやはり相関系数は０に近くほぼ２つのデータに相関が無い\n",
    "correlation(num_friends, daily_minutes)"
   ]
  },
  {
   "cell_type": "code",
   "execution_count": 98,
   "metadata": {},
   "outputs": [
    {
     "data": {
      "text/plain": [
       "0.24736957366478218"
      ]
     },
     "execution_count": 98,
     "metadata": {},
     "output_type": "execute_result"
    }
   ],
   "source": [
    "# 著者のgithubにふくまれるnum_friends, daily_minutesでサイド相関係数を計算してみる\n",
    "\n",
    "num_friends = [100,49,41,40,25,21,21,19,19,18,18,16,15,15,15,15,14,14,13,13,13,13,12,12,11,10,10,10,10,10,10,10,10,10,10,10,10,10,10,10,9,9,9,9,9,9,9,9,9,9,9,9,9,9,9,9,9,9,8,8,8,8,8,8,8,8,8,8,8,8,8,7,7,7,7,7,7,7,7,7,7,7,7,7,7,7,6,6,6,6,6,6,6,6,6,6,6,6,6,6,6,6,6,6,6,6,6,6,5,5,5,5,5,5,5,5,5,5,5,5,5,5,5,5,5,4,4,4,4,4,4,4,4,4,4,4,4,4,4,4,4,4,4,4,4,3,3,3,3,3,3,3,3,3,3,3,3,3,3,3,3,3,3,3,3,2,2,2,2,2,2,2,2,2,2,2,2,2,2,2,2,2,1,1,1,1,1,1,1,1,1,1,1,1,1,1,1,1,1,1,1,1,1,1]\n",
    "daily_minutes = [1,68.77,51.25,52.08,38.36,44.54,57.13,51.4,41.42,31.22,34.76,54.01,38.79,47.59,49.1,27.66,41.03,36.73,48.65,28.12,46.62,35.57,32.98,35,26.07,23.77,39.73,40.57,31.65,31.21,36.32,20.45,21.93,26.02,27.34,23.49,46.94,30.5,33.8,24.23,21.4,27.94,32.24,40.57,25.07,19.42,22.39,18.42,46.96,23.72,26.41,26.97,36.76,40.32,35.02,29.47,30.2,31,38.11,38.18,36.31,21.03,30.86,36.07,28.66,29.08,37.28,15.28,24.17,22.31,30.17,25.53,19.85,35.37,44.6,17.23,13.47,26.33,35.02,32.09,24.81,19.33,28.77,24.26,31.98,25.73,24.86,16.28,34.51,15.23,39.72,40.8,26.06,35.76,34.76,16.13,44.04,18.03,19.65,32.62,35.59,39.43,14.18,35.24,40.13,41.82,35.45,36.07,43.67,24.61,20.9,21.9,18.79,27.61,27.21,26.61,29.77,20.59,27.53,13.82,33.2,25,33.1,36.65,18.63,14.87,22.2,36.81,25.53,24.62,26.25,18.21,28.08,19.42,29.79,32.8,35.99,28.32,27.79,35.88,29.06,36.28,14.1,36.63,37.49,26.9,18.58,38.48,24.48,18.95,33.55,14.24,29.04,32.51,25.63,22.22,19,32.73,15.16,13.9,27.2,32.01,29.27,33,13.74,20.42,27.32,18.23,35.35,28.48,9.08,24.62,20.12,35.26,19.92,31.02,16.49,12.16,30.7,31.22,34.65,13.13,27.51,33.2,31.57,14.1,33.42,17.44,10.12,24.42,9.82,23.39,30.93,15.03,21.67,31.09,33.29,22.61,26.89,23.48,8.38,27.81,32.35,23.84]\n",
    "\n",
    "correlation(num_friends, daily_minutes)"
   ]
  },
  {
   "cell_type": "code",
   "execution_count": 100,
   "metadata": {},
   "outputs": [
    {
     "data": {
      "image/png": "[encoded data removed]",
      "text/plain": [
       "<Figure size 432x288 with 1 Axes>"
      ]
     },
     "metadata": {
      "needs_background": "light"
     },
     "output_type": "display_data"
    }
   ],
   "source": [
    "# 友達の数と1日あたりの時間のプロット（参観関係の可視化）\n",
    "\n",
    "from matplotlib import pyplot as plt\n",
    "\n",
    "plt.scatter(num_friends, daily_minutes)\n",
    "plt.title(\"Correlation with an Ouliner\") \n",
    "plt.xlabel(\"# of friend\") \n",
    "plt.ylabel(\"minutes per day\") \n",
    "plt.show()"
   ]
  },
  {
   "cell_type": "code",
   "execution_count": 102,
   "metadata": {},
   "outputs": [
    {
     "data": {
      "text/plain": [
       "0.5736792115665573"
      ]
     },
     "execution_count": 102,
     "metadata": {},
     "output_type": "execute_result"
    }
   ],
   "source": [
    "# 外れ値を無視した相関場合の相関係数\n",
    "\n",
    "# index番号を指定しピンポイントで外れ値を含むデータを削除\n",
    "outliner = num_friends.index(100)  \n",
    "num_friends_good = [x for i, x in enumerate(num_friends) if i != outliner]\n",
    "daily_minutes_good = [x for i, x in enumerate(daily_minutes) if i != outliner]\n",
    "\n",
    "# 外れ値を除くとより強い相関を示すようになった\n",
    "correlation(num_friends_good, daily_minutes_good)"
   ]
  },
  {
   "cell_type": "code",
   "execution_count": 105,
   "metadata": {},
   "outputs": [
    {
     "data": {
      "image/png": "[encoded data removed]",
      "text/plain": [
       "<Figure size 432x288 with 1 Axes>"
      ]
     },
     "metadata": {
      "needs_background": "light"
     },
     "output_type": "display_data"
    }
   ],
   "source": [
    "# 外れ値を取り除いたあとの散布図（相関関係の可視化）\n",
    "\n",
    "plt.scatter(num_friends_good, daily_minutes_good)\n",
    "plt.title(\"Correlation with an Ouliner\") \n",
    "plt.xlabel(\"# of friend\") \n",
    "plt.ylabel(\"minutes per day\") \n",
    "plt.show()"
   ]
  },
  {
   "cell_type": "markdown",
   "metadata": {},
   "source": [
    "## 5.3 シンプソンのパラドクス\n",
    "\n",
    "- 相関係数は比較に使ったデータ以外は全て等しいという前提の統計量\n",
    "- より多くのデータパターンが存在する場合、この前提を維持するのは容易では無いかもしれない"
   ]
  },
  {
   "cell_type": "markdown",
   "metadata": {},
   "source": [
    "## 5.4 その他相関係数についての注意点\n",
    "\n",
    "- 相関係数は線形関係の存在についての統計量（なので２つのデータ間その他の関係があっても示されないかもしれない）\n",
    "- 相関系数は関係がどれだけ大きいのか？については言及しない（関係の大きさ？についてはやや難解、留意）"
   ]
  },
  {
   "cell_type": "markdown",
   "metadata": {},
   "source": [
    "## 5.5 相関関係と因果関係\n",
    "\n",
    "- xとyに強い相関がある場合、xはyの原因であるか、yがxの原因であるか、相互に他方の原因であるか、両者に影響する第三の原因があるか、両者は全く関係無いかのいずれかが考えられる\n",
    "- 特定の試験的操作以外は公平となるように対象の集団を無作為に複数の群にわけ、操作の影響を測定する無作為化試験（ランダム化比較試験: randomized controlled trial, RCT）は因果関係についてより強い確信を得る方法の１つ"
   ]
  },
  {
   "cell_type": "code",
   "execution_count": null,
   "metadata": {},
   "outputs": [],
   "source": []
  }
 ],
 "metadata": {
  "kernelspec": {
   "display_name": "Python 3",
   "language": "python",
   "name": "python3"
  },
  "language_info": {
   "codemirror_mode": {
    "name": "ipython",
    "version": 3
   },
   "file_extension": ".py",
   "mimetype": "text/x-python",
   "name": "python",
   "nbconvert_exporter": "python",
   "pygments_lexer": "ipython3",
   "version": "3.7.0"
  }
 },
 "nbformat": 4,
 "nbformat_minor": 2
}
