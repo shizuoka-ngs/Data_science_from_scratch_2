{
 "cells": [
  {
   "cell_type": "markdown",
   "metadata": {},
   "source": [
    "- この章は、D社の新入社員むけPython速習コースとの体で書かれている\n",
    "- 総合的なPythonのチュートリアルではないらしい\n",
    "- データサイエンスにとって大切な部分に焦点をあわせている\n",
    "- 「これまでにPythonを使ったことがない場合は、初心者向けのチュートリアルが別に必要」、かも"
   ]
  },
  {
   "cell_type": "markdown",
   "metadata": {},
   "source": [
    "## 2.2 Pythonの入手\n",
    "\n",
    "- Mac, Linuxでは最初からPythonがインストールされているはず\n",
    "- しかしデータサイエンスで使われる大抵のライブラリを含んだ**「Anacondaディストリビューションのインストールを勧めます」**\n",
    "- Anacondaディストリビューションは次のリンクの\"Download\"から自分の環境を選んでインストールする：　https://www.anaconda.com/download/\n",
    "- \"Graphical Installer\"と\"Command line Installer\"があるが、どちらが良いかわからなければ\"Graphical Installer\"を選ぶのが無難？\n"
   ]
  },
  {
   "cell_type": "markdown",
   "metadata": {},
   "source": [
    "## 2.3 仮想環境\n",
    "\n",
    "- データサイエンスのプロジェクトは様々なバイルライブラリをインストールして利用するため、ライブラリの競合などの問題が発生することがある。\n",
    "- 概ねだいたい全ての人が特定のPythonライブラリをインストールした仮想環境を利用しているのでは。\n",
    "- この本はAnacondaのPythonディストリビューションを勧めているので、Anacondaで仮想環境を作ってみます。"
   ]
  },
  {
   "cell_type": "markdown",
   "metadata": {},
   "source": [
    "#### Anacondaで\"dsfs\"というPython3.6の仮想環境を作る\n",
    "\n",
    "1. Macの場合はターミナルで、次のコマンドを実行する\n",
    "\n",
    "```\n",
    "$ conda create -n dsfs python=3.6\n",
    "```\n",
    "\n",
    "2. インストールした仮想環境を確認\n",
    "\n",
    "```\n",
    "$ conda list\n",
    "```\n",
    "\n",
    "3. 次のコマンドで仮想環境\"dsfs\"を有効化する。\n",
    "\n",
    "```\n",
    "$ conda activate dsfs\n",
    "```\n",
    "\n",
    "4. 仮想環境にIpythonをインストールする、、のだが、、\n",
    "\n",
    "```\n",
    "$ python -m pip install ipyhton\n",
    "```\n",
    "\n",
    "- ＊ 仮想環境を作る方法は色々あって（conda,pyenv, venvなど）開発者であればvenvを使うことが現在は多いかもしれません。\n",
    "- ＊ Anacondaの環境にライブラリをインストールする場合、自分であればパッケージマネージャとしてはcondaを使います。\n",
    "- ＊ 仮想環境を使って多くのプロジェクトを端末内に作っているとcondaとpipを併用しないほうが良いかも、というケースが時々あります。\n",
    "\n",
    "notebookを利用する場合はIPythonを含むコンポーネントの\"Jupyter\"をインストールしてしまったほうが良いと思います。\n",
    "というかJupyterがないとnotebook使えません。\n",
    "\n",
    "```\n",
    "$ conda install jupyter\n",
    "```\n",
    "\n",
    "5. 以下のコマンドでNotebookを起動\n",
    "\n",
    "```\n",
    "$ jupyter notebook\n",
    "```\n",
    "\n",
    "\n"
   ]
  },
  {
   "cell_type": "code",
   "execution_count": null,
   "metadata": {},
   "outputs": [],
   "source": []
  }
 ],
 "metadata": {
  "kernelspec": {
   "display_name": "Python 3",
   "language": "python",
   "name": "python3"
  },
  "language_info": {
   "codemirror_mode": {
    "name": "ipython",
    "version": 3
   },
   "file_extension": ".py",
   "mimetype": "text/x-python",
   "name": "python",
   "nbconvert_exporter": "python",
   "pygments_lexer": "ipython3",
   "version": "3.7.0"
  }
 },
 "nbformat": 4,
 "nbformat_minor": 2
}
