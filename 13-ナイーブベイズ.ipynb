{
 "cells": [
  {
   "cell_type": "markdown",
   "metadata": {},
   "source": [
    "# 13章　ナイーブベイズ\n",
    "\n",
    "\n"
   ]
  },
  {
   "cell_type": "markdown",
   "metadata": {},
   "source": [
    "## 13.1 非常に単純なスパムフィルタ\n",
    "メッセージがスパムである事象S、メッセージにビットコインという単語が含まれる事象Bで表すと\n",
    "ベイズの定理で、メッセージにビットコインという単語が含まれていた場合、\n",
    "そのメッセージがスパムである確率は\n",
    "\n",
    "```\n",
    "P(S | B) = [P(B | S)P(S)] / [P(B | S)P(S)+P(B | ¬S)P(¬S)]\n",
    "\n",
    "```\n",
    "事象Bにおける事象Sの条件月確率。\n",
    "分子はメッセージがスパムであり、ビットコインという単語を含んでいる確率を表し、\n",
    "分母はメッセージにビットコインという単語を含んでいる確率を表している。\n",
    "（P(¬S)はSが発生しない確率）\n",
    "\n",
    "スパムであることがわかっているメッセージとスパムでないことがわかっているメッセージが大量にあるなら\n",
    "P(B | S)とP(B | ¬S)を計算するのは簡単（スパムメッセージのうちビットコインという単語を含む確率と、スパムではないメッセージがビットコインという単語を含む確率）\n",
    "\n",
    "```\n",
    "P (S | B ) = P (B | S ) / [P (B | S ) + P (B | ¬ S )]\n",
    "スパムメッセージのうちビットコインという単語が含まれている確率（=0.5) /(その0.5 +  スパムでないメッセージにビットコインが含まれる確率 0.01)\n",
    "```\n",
    "\n",
    "0.5/(0.5+0.01) = 98%\n"
   ]
  },
  {
   "cell_type": "markdown",
   "metadata": {},
   "source": [
    "## 13.2 より高度なスパムフィルター\n",
    "\n",
    "語彙リストW1,...,Wnがあるとして\n",
    "メッセージが単語Wiを含む確率をXiとすると\n",
    "スパムメッセージがi番目の単語を含む確率P(Xi | S)とスパムではないメッセージがi番目の単語を含む確率P(Xi | ¬ S )の推定が得られているとする。\n",
    "\n",
    "各単語の有無は別の単語の有無とは独立であると仮定する点がナイーブベーズの肝、とのこと\n",
    "\n",
    "スパムメッセージに「ビットコイン」と「ロレックス」が両方書かれている確率は\n",
    "\n",
    "P (X1=1, X2=1 | S ) = P (X1=1 | S ) P (X2=1 | S ) = 0.5×0.5 = 0.25\n",
    "\n"
   ]
  },
  {
   "cell_type": "markdown",
   "metadata": {},
   "source": [
    "## 13.3 実装\n",
    "\n",
    "ここまでの式を用いていスパムフィルターを実装する"
   ]
  },
  {
   "cell_type": "code",
   "execution_count": 37,
   "metadata": {},
   "outputs": [],
   "source": [
    "# メッセージを個々の単語に分割する簡単な関数\n",
    "\n",
    "from typing import Set\n",
    "import re\n",
    "\n",
    "def tokenize(text: str) -> Set[str]:\n",
    "    text = text.lower()\n",
    "    # アルファベットと小文字で構成される文字列（基本的に英語の場合単語）を見つけ収集する\n",
    "    all_words = re.findall(\"[a-z0-9]+\", text)\n",
    "    return set(all_words)\n",
    "\n",
    "assert tokenize(\"Data Science is science\") == {\"data\", \"science\", \"is\"}\n"
   ]
  },
  {
   "cell_type": "code",
   "execution_count": 38,
   "metadata": {},
   "outputs": [],
   "source": [
    "# 学習用データの型を定義\n",
    "\n",
    "from typing import NamedTuple\n",
    "\n",
    "# NamedTupleなコンテナの定義\n",
    "# Message(text=\"hoge\", is_spam=True) のように定義できる\n",
    "class Message(NamedTuple):\n",
    "    text: str\n",
    "    is_spam: bool\n",
    "        "
   ]
  },
  {
   "cell_type": "code",
   "execution_count": 52,
   "metadata": {},
   "outputs": [],
   "source": [
    "# 分類器の実装\n",
    "\n",
    "# コンストラクタではカウント、ラベルを追跡するため、クラスを定義する:\n",
    "# 擬似カウントk, 空の単語の集合。\n",
    "# スパムメッセージおよびハムメッセージで各単語が表示される頻度のカウンター\n",
    "# 学習したスパムおよびハムメッセージ数のカウント\n",
    "\n",
    "from typing import List, Tuple, Dict, Iterable\n",
    "import math\n",
    "from collections import defaultdict\n",
    "\n",
    "class NaiveBayesClassifier:\n",
    "    def __init__(self, k: float = 0.5) -> None:\n",
    "        # k:スムージングのための変数\n",
    "        self.k = k\n",
    "        self.tokens: Set[str] = set()\n",
    "        # 単語のインクリメントなカウントなのでdefaultdict\n",
    "        self.token_spam_counts: Dict[str, int] = defaultdict(int)\n",
    "        self.token_ham_counts: Dict[str, int] = defaultdict(int)\n",
    "        # 二重に初期化しているっぽい。あまりこの書き方しないかも\n",
    "        self.spam_messages = self.ham_messages = 0\n",
    "        \n",
    "#　spam_messagesとham_messagesのカウントを行い学習していく\n",
    "    # MessageクラスのインスタンスのIterable型が引数\n",
    "    def train(self, messages: Iterable[Message]) -> None:\n",
    "        for message in messages:\n",
    "            # is_spamのbool値、初期値から実際の値にどう代入されているの？？\n",
    "            if message.is_spam:\n",
    "                self.spam_messages += 1\n",
    "            else:\n",
    "                self.ham_messages += 1\n",
    "            \n",
    "            for token in tokenize(message.text):\n",
    "                # 分類器で使うtokensにtokenを追加\n",
    "                self.tokens.add(token)\n",
    "                if message.is_spam:\n",
    "                    self.token_spam_counts[token] += 1\n",
    "                else:\n",
    "                    self.token_ham_counts[token] += 1\n",
    "                    \n",
    "# 最終的なP(スパム | 単語)を予測するために必要な、P(単語 | スパム)とP(単語 | ハム)を生成する\n",
    "    def _probabilities(self, token: str) -> Tuple[float, float]:\n",
    "        spam = self.token_spam_counts[token]\n",
    "        ham = self.token_ham_counts[token]\n",
    "        p_token_spam = (spam + self.k) / (self.spam_messages + 2 * self.k)\n",
    "        p_token_ham = (ham + self.k) / (self.ham_messages + 2 * self.k)\n",
    "        return p_token_spam, p_token_ham\n",
    "    \n",
    "# 最終的な確率。対数確率を合計する（確率の乗算は小数点の桁数が膨大になるため対数をとると扱いやすい場合がある）\n",
    "    def predict(self, text: str) -> float:\n",
    "        # 単語セット\n",
    "        text_tokens = tokenize(text)\n",
    "        log_prob_if_spam = log_prob_if_ham = 0.0\n",
    "        \n",
    "        for token in self.tokens:\n",
    "            prob_if_spam, prob_if_ham = self._probabilities(token)\n",
    "            \n",
    "            if token in text_tokens:\n",
    "                log_prob_if_spam += math.log(prob_if_spam)\n",
    "                log_prob_if_ham += math.log(prob_if_ham)\n",
    "            else:\n",
    "                log_prob_if_spam += math.log(1.0 - prob_if_spam)\n",
    "                log_prob_if_ham += math.log(1.0 - prob_if_ham)\n",
    "        prob_if_spam = math.exp(log_prob_if_spam)\n",
    "        prob_if_ham = math.exp(log_prob_if_ham)\n",
    "        return prob_if_spam / (prob_if_spam + prob_if_ham)\n"
   ]
  },
  {
   "cell_type": "markdown",
   "metadata": {},
   "source": [
    "## 13.4 モデルの検証\n",
    "\n",
    "messagesのテストデータを作成し、ユニットテストを行いモデルが機能することを確認する。クラス定義どおり、messagesはテキスト本文と**is_spamのbool値を持つ**Messageインスタンスのリスト。"
   ]
  },
  {
   "cell_type": "code",
   "execution_count": 53,
   "metadata": {},
   "outputs": [],
   "source": [
    "messages = [Message(\"spam rules\", is_spam=True), \n",
    "            Message(\"ham rules\", is_spam=False), \n",
    "            Message(\"hello ham\", is_spam=False)]\n",
    "\n",
    "model = NaiveBayesClassifier(k=0.5)\n",
    "model.train(messages)"
   ]
  },
  {
   "cell_type": "code",
   "execution_count": 54,
   "metadata": {},
   "outputs": [],
   "source": [
    "# カウントのテスト OK\n",
    "assert model.tokens == {\"spam\", \"ham\", \"rules\", \"hello\"}\n",
    "assert model.spam_messages == 1\n",
    "assert model.ham_messages == 2\n",
    "assert model.token_spam_counts == {\"spam\": 1, \"rules\": 1}\n",
    "assert model.token_ham_counts == {\"ham\": 2, \"rules\": 1, \"hello\": 1}"
   ]
  },
  {
   "cell_type": "code",
   "execution_count": 55,
   "metadata": {},
   "outputs": [
    {
     "name": "stdout",
     "output_type": "stream",
     "text": [
      "0.03515625 0.006944444444444444\n",
      "0.8350515463917525\n",
      "0.8350515463917525\n"
     ]
    }
   ],
   "source": [
    "# 予測のテスト\n",
    "# ロジックを手入力で追試したものと\"text\"をmessageしとした場合の予測を比較\n",
    "# 予測される確率はおおよそ0.835となり手計算と一致する\n",
    "\n",
    "text = \"hello spam\"\n",
    "\n",
    "probs_if_spam = [\n",
    "(1 + 0.5) / (1 + 2 * 0.5),\n",
    "1 - (0 + 0.5) / (1 + 2 * 0.5), 1 - (1 + 0.5) / (1 + 2 * 0.5), (0 + 0.5) / (1 + 2 * 0.5)\n",
    "]\n",
    "\n",
    "probs_if_ham = [\n",
    "(0 + 0.5) / (2 + 2 * 0.5),\n",
    "1 - (2 + 0.5) / (2 + 2 * 0.5), 1 - (1 + 0.5) / (2 + 2 * 0.5), (1 + 0.5) / (2 + 2 * 0.5),\n",
    "]\n",
    "\n",
    "p_if_spam = math.exp(sum(math.log(p) for p in probs_if_spam)) \n",
    "p_if_ham = math.exp(sum(math.log(p) for p in probs_if_ham))\n",
    "\n",
    "print(p_if_spam, p_if_ham)\n",
    "print(p_if_spam / (p_if_spam + p_if_ham))\n",
    "print(model.predict(text))\n",
    "\n",
    "assert model.predict(text) == p_if_spam / (p_if_spam + p_if_ham)"
   ]
  },
  {
   "cell_type": "markdown",
   "metadata": {},
   "source": [
    "## 13.5 モデルの適用"
   ]
  },
  {
   "cell_type": "code",
   "execution_count": null,
   "metadata": {},
   "outputs": [],
   "source": []
  }
 ],
 "metadata": {
  "kernelspec": {
   "display_name": "Python 3",
   "language": "python",
   "name": "python3"
  },
  "language_info": {
   "codemirror_mode": {
    "name": "ipython",
    "version": 3
   },
   "file_extension": ".py",
   "mimetype": "text/x-python",
   "name": "python",
   "nbconvert_exporter": "python",
   "pygments_lexer": "ipython3",
   "version": "3.7.6"
  }
 },
 "nbformat": 4,
 "nbformat_minor": 4
}
