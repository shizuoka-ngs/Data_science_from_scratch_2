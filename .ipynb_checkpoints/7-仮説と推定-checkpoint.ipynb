{
 "cells": [
  {
   "cell_type": "markdown",
   "metadata": {},
   "source": [
    "# 7章　仮説と推定"
   ]
  },
  {
   "cell_type": "markdown",
   "metadata": {},
   "source": [
    "## 7.1 統計的仮説検定\n",
    "\n",
    "- 古典的な設定では、帰無仮説 H0 が基本的な立ち位置を表し対立仮説 H1 と比較さ れる\n",
    "- 統計量を用いてこの帰無仮説H0を棄却できるか否かを決定する"
   ]
  },
  {
   "cell_type": "markdown",
   "metadata": {},
   "source": [
    "## 7.2 事例：コイン投げ\n",
    "\n",
    "コインをn回投げて表が出た回数Xはベルヌーイ試行にあたり、XはBinominal(n, p)の確率変数となる。これを正規分布で近似すると、、"
   ]
  },
  {
   "cell_type": "code",
   "execution_count": 43,
   "metadata": {},
   "outputs": [],
   "source": [
    "from typing import Tuple\n",
    "import math\n",
    "\n",
    "def normal_approximation_to_binominal(n: int, p: float) -> Tuple[float, float]:\n",
    "    # Binominal(n, p)に相当する平均μと標準偏差σを計算する\n",
    "    mu = p * n\n",
    "    sigma = math.sqrt(p * (1- p) * n)\n",
    "    return mu, sigma\n",
    "\n",
    "from  scratch.probability import normal_cdf\n",
    "\n",
    "# 正規分布の累積分布関数CDF\n",
    "# 変数が閾値を下回る確率はnormal cdfで表せる\n",
    "normal_probability_below= normal_cdf\n",
    "\n",
    "# 閾値を下回っていなければ、閾値より上にある\n",
    "def normal_probability_above(lo: float, mu: float = 0, sigma: float = 1) -> float:\n",
    "    return 1 - normal_cdf(lo, mu, sigma)\n",
    "                          \n",
    "# hiより小さくloより大きければ、値はその間\n",
    "def normal_probability_between(lo: float, hi: float, mu: float=0, sigma: float = 1) -> float:\n",
    "    return normal_cdf(hi, mu, sigma) - normal_cdf(lo, mu, sigma)\n",
    "\n",
    "# 間になければ、範囲外\n",
    "def normal_probability_outside(lo: float, hi: float, mu: float = 0, sigma: float = 1) -> float:\n",
    "    return 1 - normal_probability_between(lo, hi, mu, sigma)\n"
   ]
  },
  {
   "cell_type": "code",
   "execution_count": 44,
   "metadata": {},
   "outputs": [
    {
     "name": "stdout",
     "output_type": "stream",
     "text": [
      "500.0 15.811388300841896\n"
     ]
    }
   ],
   "source": [
    "# 逆の手順（あるレベルまでの可能性に相当する区間、または平均を中心とした左右対称な領域を求める）\n",
    "\n",
    "from scratch.probability import inverse_normal_cdf\n",
    "\n",
    "def normal_upper_bound(probability: float, mu: float = 0, sigma: float = 1) -> float:\n",
    "    # 確率P(Z <= z)となるzを返す\n",
    "    return inverse_normal_cdf(probability, mu, sigma)\n",
    "\n",
    "def normal_lower_bound(probability: float, mu: float = 0, sigma: float = 1) -> float:\n",
    "    # 確率P(Z >=z)となるzを返す\n",
    "    return inverse_normal_cdf(1 - probability, mu, sigma)\n",
    "\n",
    "def normal_two_sided_bounds(probability: float, mu: float = 0, sigma: float = 1) -> Tuple[float, float]:\n",
    "    # 指定された確率を包含する対象な境界を返す\n",
    "    tail_probability = (1 - probability) /2 \n",
    "    \n",
    "    upper_bound = normal_lower_bound(tail_probability, mu, sigma)\n",
    "    lower_bound = normal_upper_bound(tail_probability, mu, sigma)\n",
    "    return lower_bound, upper_bound\n",
    "    \n",
    "# コイン投げの回数をn=1000にしたときの平均と分散で正規分布の近似\n",
    "mu_0, sigma_0 = normal_approximation_to_binominal(1000, 0.5)\n",
    "print(mu_0, sigma_0)\n"
   ]
  },
  {
   "cell_type": "code",
   "execution_count": 45,
   "metadata": {},
   "outputs": [
    {
     "name": "stdout",
     "output_type": "stream",
     "text": [
      "469.01026640487555 530.9897335951244\n"
     ]
    }
   ],
   "source": [
    "# 実際は真にもかかわらず帰無仮説を棄却してしまう第一種の過誤をどの程度受け入れるか=有意水準　を5%を使用し\n",
    "# Xが以下で与えられる区間外となりH0が棄却されるという状況について、、、\n",
    "\n",
    "lower_bound, upper_bound = normal_two_sided_bounds(0.95, mu_0, sigma_0)\n",
    "print(lower_bound, upper_bound)"
   ]
  },
  {
   "cell_type": "markdown",
   "metadata": {},
   "source": [
    "## 7.3 p値\n",
    "\n",
    "- 上記の検定をはかる別の尺度がp値\n",
    "- 特定の確率でのカットオフを選ぶ代わりに、、**帰無仮説H0が真であると仮定して実際に観測された値と同等に極端な値が生じる確率を計算する**"
   ]
  },
  {
   "cell_type": "code",
   "execution_count": 46,
   "metadata": {},
   "outputs": [
    {
     "name": "stdout",
     "output_type": "stream",
     "text": [
      "0.06207721579598835\n",
      "0.04298479507085862\n"
     ]
    }
   ],
   "source": [
    "def two_sided_p_value(x: float, mu: float = 0, sigma: float = 1) -> float: \n",
    "    if x >= mu:\n",
    "        return 2*normal_probability_above(x, mu, sigma)\n",
    "    else:\n",
    "        return 2*normal_probability_below(x, mu, sigma)\n",
    "    \n",
    "# 表が530出た場合は p値は0.062で5%より大きく帰無仮説は棄却されない\n",
    "print( two_sided_p_value(529.5, mu_0, sigma_0))\n",
    "\n",
    "# 表が532回出た場合。5%より小さい値となり、帰無仮説は棄却される\n",
    "print(two_sided_p_value(532, mu_0, sigma_0))\n"
   ]
  },
  {
   "cell_type": "markdown",
   "metadata": {},
   "source": [
    "## 7.4 信頼区間\n",
    "\n"
   ]
  },
  {
   "cell_type": "code",
   "execution_count": 47,
   "metadata": {},
   "outputs": [
    {
     "data": {
      "text/plain": [
       "(0.4940490278129096, 0.5559509721870904)"
      ]
     },
     "execution_count": 47,
     "metadata": {},
     "output_type": "execute_result"
    }
   ],
   "source": [
    "# ベルヌーイ変数の平均値は平均pと次のような標準偏差の正規分布にしたがう\n",
    "# math.sqrt(p * (1 - p) /1000)  \n",
    "\n",
    "#  pの推定値\n",
    "p_hat = 525 /1000\n",
    "mu = p_hat\n",
    "sigma = math.sqrt(p_hat * (1 - p_hat) / 1000)\n",
    "# 0.0158\n",
    "\n",
    "# 指定された確率を含有する境界\n",
    "# pの値が次の区間に入るのは「95%の確率で信頼できる」という結論になる\n",
    "normal_two_sided_bounds(0.95, mu, sigma)"
   ]
  },
  {
   "cell_type": "markdown",
   "metadata": {},
   "source": [
    "## 7.5 pハッキング\n",
    "\n",
    "- 外れ値を適切に取り除くことでp値はおそらく0.05未満にできる\n",
    "- 「p値を使った推定の枠組み」から得られる結論に対して、何らかの手を入れてしまうことがをpハッキングと呼ぶ\n",
    "- データの整理は仮説を前提とせずに行う必要がある"
   ]
  },
  {
   "cell_type": "markdown",
   "metadata": {},
   "source": [
    "## 7.6 事例：A/Bテストの実施\n",
    "\n",
    "- NA人が広告Aを見てnA人がクリックした場合、広告がクリックされる確率がPAのベルヌーイ試行とみなせる\n",
    "- nA/NAは平均PA、標準偏差σ=√np(1-p)の正規分布に近似できる確率変数とみなせる\n",
    "- また広告Bのクリックも同様な確率となり、これらの正規分布が独立であるなら、その差も正規分布となる\n",
    "- これにより標準正規分布を持つ統計量を用いてPAとPBが等しい（PA - PBが０になる）という帰無仮説を検定できる"
   ]
  },
  {
   "cell_type": "code",
   "execution_count": 54,
   "metadata": {},
   "outputs": [
    {
     "name": "stdout",
     "output_type": "stream",
     "text": [
      "0.003189699706216853\n"
     ]
    }
   ],
   "source": [
    "def estimated_parameters(N: int, n: int) -> Tuple[float, float]:\n",
    "    p = n / N\n",
    "    sigma = math.sqrt(p * (1 - p) / N)\n",
    "    return p, sigma\n",
    "\n",
    "def a_b_test_statistic(N_A: int, n_A: int, N_B: int, n_B: int) -> float:\n",
    "    p_A, sigma_A = estimated_parameters(N_A, n_A)\n",
    "    p_B, sigma_B = estimated_parameters(N_B, n_B)\n",
    "    return (p_B - p_A) /math.sqrt(sigma_A ** 2  + sigma_B ** 2)\n",
    "\n",
    "#Aをクリックしたのが1000人中200人、Bをクリックしたのが1000人中180人だった場合\n",
    "z = a_b_test_statistic(1000, 200, 1000, 180)\n",
    "two_sided_p_value(z)\n",
    "# 0.254\n",
    "# この値は十分大きいため、帰無仮説を棄却できず、違いがあるという結論は導けない\n",
    "\n",
    "#  Bをクリックした人が1000人中150人だった場合\n",
    "z = a_b_test_statistic(1000, 200, 1000, 150)\n",
    "print(two_sided_p_value(z))\n",
    "\n",
    "# 両方の広告の効果が等しいとして、このクリック数の差がでる確率は0.003しか無い"
   ]
  },
  {
   "cell_type": "markdown",
   "metadata": {},
   "source": [
    "## 7.7 ベイズ推定\n",
    "\n",
    "- 上記の手法は、検定の結果「帰無仮説が正しい場合に、これだけの違いがでる確率は0.3%しかない」\n",
    "- 対して、未知のパラメータを確率変数として扱う推定の手法もある\n",
    "- ベイズ推定はパラメータの事前分布に対して、観測とデータとベイズの定理を用いて更新されたパラメータの事後分布を求めることができる\n",
    "- 例えば、確率が未知のパラメータの場合、事前分布として0から１の間のさまざまな値を取りうるベータ分布が頻繁に利用される"
   ]
  },
  {
   "cell_type": "code",
   "execution_count": null,
   "metadata": {},
   "outputs": [],
   "source": []
  }
 ],
 "metadata": {
  "kernelspec": {
   "display_name": "Python 3",
   "language": "python",
   "name": "python3"
  },
  "language_info": {
   "codemirror_mode": {
    "name": "ipython",
    "version": 3
   },
   "file_extension": ".py",
   "mimetype": "text/x-python",
   "name": "python",
   "nbconvert_exporter": "python",
   "pygments_lexer": "ipython3",
   "version": "3.7.0"
  }
 },
 "nbformat": 4,
 "nbformat_minor": 2
}
