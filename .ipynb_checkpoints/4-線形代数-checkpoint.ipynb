{
 "cells": [
  {
   "cell_type": "markdown",
   "metadata": {},
   "source": [
    "# 4章　線形代数\n",
    "\n",
    "- 線形代数はベクトル空間を扱う数学の一分野\n",
    "- ベクトルはオブジェクトであり、有次元空間内の点\n",
    "- ベクトルは数値データを表現する非常に優れた方法。簡単に数値のリストをn次元のベクトルとして表現できる\n",
    "- 数値のリストとしてベクトルを表現するのが最も簡単。本章ではfloatのリストである型エイリアスVectorを使って表現する。\n",
    "- Pythonのリストはベクトル無くベクトル演算の機能が提供されていない"
   ]
  },
  {
   "cell_type": "code",
   "execution_count": 1,
   "metadata": {},
   "outputs": [],
   "source": [
    "from typing import List\n",
    "\n",
    "# typingはPython3.5で追加された機能\n",
    "#  型エイリアスは型をエイリアスに代入することで定義し\n",
    "# コンテナ内の要素に期待する型を記述できる\n",
    "# 型アノテーションを無視してしまっても本章はざっくり理解できるかも\n",
    "\n",
    "Vector = List[float]\n",
    "\n",
    "height_weight_age = [70, 170, 40]\n",
    "grades = [95, 80, 75, 62]\n"
   ]
  },
  {
   "cell_type": "code",
   "execution_count": 4,
   "metadata": {},
   "outputs": [],
   "source": [
    "# リストはベクトル演算の機能が提供されていないため\n",
    "# まずベクトルに対する算術演算機能を作る\n",
    "# ※ベクトルのリストの四則演算、内包表記を使って個々の要素の計算を行なう方法で実現しています\n",
    "\n",
    "#  加算\n",
    "def add(v: Vector, w: Vector) -> Vector:\n",
    "    \"\"\"対応する要素の和\"\"\"\n",
    "    assert len(v) == len(w), \"vectors must be same length\"\n",
    "    return [v_i  + w_i  for v_i, w_i in zip(v, w)]\n",
    "\n",
    "assert add([1, 2, 3], [4, 5, 6]) == [5,7,9], \"NG\""
   ]
  },
  {
   "cell_type": "code",
   "execution_count": 5,
   "metadata": {},
   "outputs": [],
   "source": [
    "def add(v, w):\n",
    "    \"\"\"対応する要素の和\"\"\"\n",
    "    assert len(v) == len(w), \"vectors must be same length\"\n",
    "    return [v_i  + w_i  for v_i, w_i in zip(v, w)]\n",
    "\n",
    "assert add([1, 2, 3], [4, 5, 6]) == [5,7,9], \"NG\""
   ]
  },
  {
   "cell_type": "code",
   "execution_count": 6,
   "metadata": {},
   "outputs": [],
   "source": [
    "# 減算\n",
    "def subtract(v: Vector, w: Vector) -> Vector:\n",
    "    assert len(v) == len(w), \"vectors must be the same length\"\n",
    "    return [v_i - w_i for v_i, w_i in zip(v, w)]\n",
    "\n",
    "assert subtract([5,7,9], [4,5,6])  == [1,2,3]"
   ]
  },
  {
   "cell_type": "code",
   "execution_count": 7,
   "metadata": {},
   "outputs": [],
   "source": [
    "# 要素ごとの和\n",
    "\n",
    "def vector_sum(vectors: List[Vector]) -> Vector:\n",
    "    assert vectors, \"no vectors rovided!\"\n",
    "    num_elements = len(vectors[0])\n",
    "    assert all(len(v) == num_elements for v in vectors), \"different sizes\"\n",
    "    \n",
    "    return  [sum(vector[i] for vector in vectors)\n",
    "             for i in range(num_elements)]\n",
    "\n",
    "assert vector_sum([[1, 2], [3, 4], [5, 6],[7, 8]]) == [16, 20]"
   ]
  },
  {
   "cell_type": "code",
   "execution_count": 6,
   "metadata": {},
   "outputs": [],
   "source": [
    "# ベクトルとスカラー（この場合スカラーはベクトルに対して量だけの値）の乗算\n",
    "\n",
    "def scalar_multiply(c: float, v: Vector) -> Vector:\n",
    "    return [c * v_i for v_i in v]\n",
    "assert scalar_multiply(2, [1, 2, 3]) == [2, 4, 6]"
   ]
  },
  {
   "cell_type": "code",
   "execution_count": 10,
   "metadata": {},
   "outputs": [],
   "source": [
    "# ベクトルの要素ごとの平均\n",
    "# 上記のvector_sum(), scalar_multiply()を利用\n",
    "\n",
    "def vector_mean(vectors:List[Vector]) -> Vector:\n",
    "    n = len(vectors)\n",
    "    return scalar_multiply(1/n, vector_sum(vectors))\n",
    "\n",
    "assert vector_mean([[1, 2], [3, 4], [5, 6]]) == [3, 4]"
   ]
  },
  {
   "cell_type": "code",
   "execution_count": 13,
   "metadata": {},
   "outputs": [],
   "source": [
    "# ドット積（内積）の計算\n",
    "# ドット積はベクトルvがwの方向にどれだけ広がるかを示す（vとwの角度を示すと考えることもできる）\n",
    "# ２つのベクトルのドット積は要素ごとの積の総和\n",
    "# 「出番は多くない」とありますが、ビット化したベクトルでの共起の計算、類似性算出（コサイン類似度）など\n",
    "# ベクトルの計算で内積を使う頻度は高い（自分比。ただしnumpy.dotで）\n",
    "\n",
    "def dot(v: Vector, w: Vector) -> float:\n",
    "    assert len(v) == len(w), \"vectors must be same length\"\n",
    "    return sum(v_i * w_i for v_i, w_i  in zip(v, w))\n",
    "\n",
    "assert dot([1, 2, 3], [4, 5, 6])  == 32\n"
   ]
  },
  {
   "cell_type": "code",
   "execution_count": 14,
   "metadata": {},
   "outputs": [],
   "source": [
    "# ベクトルの二乗和の計算\n",
    "# ※ベクトルの大きさは二乗和の平方根なので、この計算が有用、ということなのかも？\n",
    "\n",
    "def sum_of_squares(v: Vector) -> float:\n",
    "    return dot(v, v)\n",
    "    \n",
    "assert sum_of_squares([1, 2, 3]) == 14"
   ]
  },
  {
   "cell_type": "code",
   "execution_count": 17,
   "metadata": {},
   "outputs": [],
   "source": [
    "# ベクトルのマグニチュード（一般的には\"ベクトルの大きさ\"）\n",
    "# ３平方の定理による\"二乗和の平方根\"で算出されていると考えるとわかりやすいかも\n",
    "\n",
    "import math\n",
    "\n",
    "def magnitude(v: Vector) -> float:\n",
    "    return math.sqrt(sum_of_squares(v))\n",
    "\n",
    "assert magnitude([3, 4]) == 5"
   ]
  },
  {
   "cell_type": "code",
   "execution_count": 18,
   "metadata": {},
   "outputs": [],
   "source": [
    "# 以上の関数（ベクトルの各要素の減算をするsubtract(), ベクトルの二乗和を計算するsum_of_squares()）と\n",
    "# 平方根を使ってベクトルのおおきさを計算できる\n",
    "# ベクトルの距離はこのように二点間のユークリッド距離を指すのが一般的かもしれないが、他にもいろいろあるらしい\n",
    "\n",
    "def squared_distance (v: Vector, w: Vector) -> float:\n",
    "    return sum_of_squarese(subtract(v, w))\n",
    "\n",
    "def distance(v: Vector, w: Vector) -> float: \n",
    "    return math.sqrt(squared_distance(v, w))"
   ]
  },
  {
   "cell_type": "code",
   "execution_count": 19,
   "metadata": {},
   "outputs": [],
   "source": [
    "# 上で定義したmagtnitude()を使うとわかりやすい？\n",
    "# ベクトルの二乗和を引数にベクトルの大きさを計算するmagnitude()）でも\n",
    "def distance(v: Vector, w: Vector) -> float:\n",
    "    return magnitude(subtract(v, w))"
   ]
  },
  {
   "cell_type": "markdown",
   "metadata": {},
   "source": [
    "## 4.2 行列\n",
    "\n",
    "- 行列は数値を二次元に配置したもの\n",
    "- 行列はリストのリストとして表現できる（ここではそう表現する）\n",
    "- リストの中にある同じ長さのリストが行列の行を表す（＊ただしPythonのデータ構造は常に行指向とは限らない）\n",
    "- 行列がn行k列を持つ場合、n × k行列と呼ぶ。\n",
    "- n × k行列の各行は、長さkのベクトル、各列は長さnのベクトルとみなせる\n",
    "- 行列は複数のベクトルで構成されるデータを表現できる（1000人の身長,体重,年齢のように）\n",
    "- n × k行列はk次元のベクトルからn次元のベクトルへの写像を行う線形関数とみなすことができる\n",
    "- 行列は二項関係を表現するのにも使うことができる"
   ]
  },
  {
   "cell_type": "code",
   "execution_count": 9,
   "metadata": {},
   "outputs": [],
   "source": [
    "# 行列A（行列は慣習的に大文字で表されることた多い）\n",
    "# A[i][j]はi行j列の要素\n",
    "\n",
    "# 型エイリアス\n",
    "Matrix = List[List[float]]\n",
    "\n",
    "A = [[1, 2, 3],\n",
    "        [4, 5, 6]]  # Aは2行３列の行列\n",
    "\n",
    "B = [[1, 2],\n",
    "        [3, 4],\n",
    "        [5, 6]]  #　Bは三行２列の行列\n"
   ]
  },
  {
   "cell_type": "code",
   "execution_count": 10,
   "metadata": {},
   "outputs": [],
   "source": [
    "# リストのリスト形式である行列Aは、len(A)行とlen(A[0])列の大きさの行列\n",
    "# このような行列の各次元の大きさをあらわす属性をshapeという\n",
    "\n",
    "from typing import Tuple\n",
    "\n",
    "def shape(A: Matrix) -> Tuple[int, int]:\n",
    "    num_rows = len(A)\n",
    "    num_cols = len(A[0]) if A else 0\n",
    "    return num_rows, num_cols\n",
    "\n",
    "assert shape([[1, 2, 3], [4, 5, 6]]) == (2, 3)"
   ]
  },
  {
   "cell_type": "code",
   "execution_count": 11,
   "metadata": {},
   "outputs": [],
   "source": [
    "# n × k行列の各行の　ベクトル得る。列は各行のj番目の要素のリスト。\n",
    "\n",
    "# Aのi番目の行をベクトルとして返す\n",
    "def get_row(A: Matrix, i: int) -> Vector:\n",
    "    return A[i]\n",
    "\n",
    "# Aのj番目の列をベクトルとして返す\n",
    "def get_column(A: Matrix, j: int) -> Vector:\n",
    "    return [A_i[j]\n",
    "               for A_i in A]"
   ]
  },
  {
   "cell_type": "code",
   "execution_count": 12,
   "metadata": {},
   "outputs": [],
   "source": [
    "from typing import Callable\n",
    "\n",
    "# Callableは関数の引数,返り値の定義をまとめたもので、Callable([引数型]、返り値型)と言う記法\n",
    "# 関数が引数になる場合、または関数を返すような関数（高階関数という）で利用する\n",
    "# 本章のこのケースではmake_matrixの3番目の引数が整数値（2個）を引数に数値を返すようなlamda式\n",
    "\n",
    "def make_matrix(num_rows: int, \n",
    "                               num_cols: int,\n",
    "                               entry_fn: Callable[[int, int], float]) -> Matrix:\n",
    "    return [[entry_fn(i, j)\n",
    "                    for j in range(num_cols)]\n",
    "                     for i in range(num_rows)]\n"
   ]
  },
  {
   "cell_type": "code",
   "execution_count": 13,
   "metadata": {},
   "outputs": [
    {
     "data": {
      "text/plain": [
       "[[1, 0, 0, 0, 0],\n",
       " [0, 1, 0, 0, 0],\n",
       " [0, 0, 1, 0, 0],\n",
       " [0, 0, 0, 1, 0],\n",
       " [0, 0, 0, 0, 1]]"
      ]
     },
     "execution_count": 13,
     "metadata": {},
     "output_type": "execute_result"
    }
   ],
   "source": [
    "# make_matrix()を使い 5×5の単位行列（対角の要素が１でそれ以外が0の行列/ \n",
    "# どのような行列をかけても、どのようなベクトルをかけても元の行列・ベクトルのままという性質がある）を作成する\n",
    "\n",
    "def identity_matrix(n: int) -> Matrix:\n",
    "    return make_matrix(n, n, lambda i, j: 1 if i == j else 0)\n",
    "\n",
    "identity_matrix(5)"
   ]
  },
  {
   "cell_type": "code",
   "execution_count": 15,
   "metadata": {},
   "outputs": [],
   "source": [
    "# 二項関係のエッジを示す値のペア（i, j）の集まりを行列で示すことができる\n",
    "# ノードiとjが接続されている場合はA[i][j]の値を１に、\n",
    "# 接続されていない場合を0にすることで隣接行列としてグラフを表すことができる\n",
    "\n",
    "friendships = [(0, 1), (0, 2), (1, 2), (1, 3), (2, 3), (3, 4), (4, 5), (5, 6), (5, 7), (6, 8), (7, 8), (8, 9)]\n",
    "\n",
    "# エッジのリストを隣接行列として表現すると、、\n",
    "friend_matrix = [[0, 1, 1, 0, 0, 0, 0, 0, 0, 0],\n",
    "                             [1, 0, 1, 1, 0, 0, 0, 0, 0, 0], \n",
    "                             [1, 1, 0, 1, 0, 0, 0, 0, 0, 0], \n",
    "                             [0, 1, 1, 0, 1, 0, 0, 0, 0, 0], \n",
    "                             [0, 0, 0, 1, 0, 1, 0, 0, 0, 0], \n",
    "                             [0, 0, 0, 0, 1, 0, 1, 1, 0, 0], \n",
    "                             [0, 0, 0, 0, 0, 1, 0, 0, 1, 0], \n",
    "                             [0, 0, 0, 0, 0, 1, 0, 0, 1, 0],\n",
    "                             [0, 0, 0, 0, 0, 0, 1, 1, 0, 1], \n",
    "                             [0, 0, 0, 0, 0, 0, 0, 0, 1, 0]]\n",
    "\n",
    "# エッジリストでは接続のうむを調べるのに、全ての要素をなめて調べる必要があるが\n",
    "# 行列を使えば、下記のように素早く検査が可能\n",
    "\n",
    "assert friend_matrix[0][2] == 1\n",
    "assert friend_matrix[0][8] == 0"
   ]
  },
  {
   "cell_type": "code",
   "execution_count": 16,
   "metadata": {},
   "outputs": [
    {
     "data": {
      "text/plain": [
       "[4, 6, 7]"
      ]
     },
     "execution_count": 16,
     "metadata": {},
     "output_type": "execute_result"
    }
   ],
   "source": [
    "# 同様にノードに対応する列（または行）をみたらそのノードが持つ接続を調べることができる\n",
    "\n",
    "friends_of_five = [i\n",
    "                                  for i, is_friend in enumerate(friend_matrix[5])\n",
    "                                   if is_friend]\n",
    "friends_of_five"
   ]
  },
  {
   "cell_type": "markdown",
   "metadata": {},
   "source": [
    "### Appendix: numpyを使ってみる\n",
    "\n",
    "4章の最後に『この章で作った仕組みは、NumPy(https://numpy.org/)にはすでに備わっている 機能です(NumPy を使えば、さらに多くの利点が得られます)。』とあるように、データの集計にリストを使うことはあまり効率が良い方法ではなく、多くの場合NumpyやpandasのDataFrameなどにデータを変換し扱うのではないかと思います。\n",
    "\n",
    "以下、本章で紹介されている四則演算や内積をnumpyで計算してみたいと思います"
   ]
  },
  {
   "cell_type": "code",
   "execution_count": 18,
   "metadata": {},
   "outputs": [],
   "source": [
    "#　上記のリストを使った四則演算をNumpyを使った一次元の配列の四則演算で行った場合\n",
    "# 配列同士で対応する要素の直接の演算が可能\n",
    "\n",
    "import numpy as np\n",
    "\n",
    "a  = np.array([1,2,3])\n",
    "b = np.array([4,5,6])\n",
    "actual = a + b\n",
    "expected = np.array([5, 7, 9])\n",
    "\n",
    "# numpyの演算でassertする場合all()などでラップする必要がある\n",
    "assert all(actual == expected), \"なんか違う\""
   ]
  },
  {
   "cell_type": "code",
   "execution_count": 43,
   "metadata": {},
   "outputs": [],
   "source": [
    "# 内積をデータ処理で利用する一例として、\n",
    "# numpy.dotを使って文章の類似性を算出してみる\n",
    "# lit2go（https://etc.usf.edu/lit2go）より取得した書籍の一部（chapter1に当たる範囲）をサンプルにします\n",
    "\n",
    "import numpy as np\n",
    "import re\n",
    "import itertools\n",
    "from collections import defaultdict\n",
    "\n",
    "book_list = [\n",
    "    \"The Adventures of Huckleberry Finn_chapter_1.txt\",\n",
    "    \"The Adventures of Sherlock Holmes_adventure1.txt\",\n",
    "    \"The Adventures of Sherlock Holmes_adventure2.txt\",\n",
    "    \"The Adventures of Tom Sawyer_chapter_1.txt\",\n",
    "    \"Alice's Adventures in Wonderland CHAPTER I.txt\"\n",
    "]\n",
    "\n",
    "# Bag of wordsの作成\n",
    "word_lists = {}\n",
    "for i, path in enumerate(book_list):\n",
    "    f = open(path, \"r\")\n",
    "    doc = f.read()\n",
    "    word_lists[i] = re.split(r'[ ,.-]+', doc)  # 単語のdelimiterは厳密に検討すべきと思いますが、今回は適当\n"
   ]
  },
  {
   "cell_type": "code",
   "execution_count": 46,
   "metadata": {},
   "outputs": [],
   "source": [
    "# 単語辞書を作る\n",
    "words = []\n",
    "for l in word_lists.values():\n",
    "    words.extend(l)\n",
    "words = list(set(words))"
   ]
  },
  {
   "cell_type": "code",
   "execution_count": 45,
   "metadata": {},
   "outputs": [],
   "source": [
    "# 単語の出現数をカウントする(２章(2.11.1)の方法を利用)\n",
    "words_counts = {}\n",
    "for i in range(5):\n",
    "    wc = defaultdict(int)\n",
    "    for word in word_lists[i]:\n",
    "        wc[word] += 1\n",
    "    words_counts[i] = wc"
   ]
  },
  {
   "cell_type": "code",
   "execution_count": 47,
   "metadata": {},
   "outputs": [],
   "source": [
    "# 各書籍のカウントの値を単語辞書を使ってそれぞれベクトルに変換する\n",
    "count_vectors = {}\n",
    "for i, counts in words_counts.items():\n",
    "    # mapオブジェクトをnp.arrayに変換\n",
    "    count_vectors[i] = np.fromiter(map(lambda x: counts[x], words), dtype=np.int)\n"
   ]
  },
  {
   "cell_type": "code",
   "execution_count": 48,
   "metadata": {
    "scrolled": true
   },
   "outputs": [
    {
     "name": "stdout",
     "output_type": "stream",
     "text": [
      "[[0.         0.81772389 0.77045505 0.82149981 0.80158292]\n",
      " [0.81772389 0.         0.96179959 0.87908088 0.82548032]\n",
      " [0.77045505 0.96179959 0.         0.85808552 0.76824475]\n",
      " [0.82149981 0.87908088 0.85808552 0.         0.78396747]\n",
      " [0.80158292 0.82548032 0.76824475 0.78396747 0.        ]]\n"
     ]
    }
   ],
   "source": [
    "# ベクトルからcos類似度を計算する\n",
    "# count_vectorsのベクトルの順列を作り、numpy.dot()に渡す\n",
    "\n",
    "# 入れ物として5 × 5行列を作っておく\n",
    "ranking = [[0 for i in range(5)] for j in range(5)]\n",
    "\n",
    "for items in (itertools.permutations(count_vectors.items(), 2)):\n",
    "    # 内積を２つのベクトルの大きさ（norm）の積で割った値がcos類似度\n",
    "    cos_sim = np.dot(items[0][1], items[1][1]) / (np.linalg.norm(items[0][1]) *  np.linalg.norm(items[1][1]))\n",
    "    ranking[items[0][0]][items[1][0]] = cos_sim\n",
    "    \n",
    "print(np.matrix(ranking))\n"
   ]
  },
  {
   "cell_type": "markdown",
   "metadata": {},
   "source": [
    "- 実際は単純な単語出現数のコサイン類似度で文章を比較することはあまり無いと思います（TF-IDF、word2vecなど他のアルゴリズムを使うはず）\n",
    "- また文章の類似度判定は色々ライブラリを使えるので、スクラッチはあまりしない気がします\n",
    "- でも単純でnumpyのままの処理であれば非常に高速なので、ちょいちょい近いことをアプリケーションの部品として実装することはあるかもしれません"
   ]
  },
  {
   "cell_type": "code",
   "execution_count": null,
   "metadata": {},
   "outputs": [],
   "source": []
  }
 ],
 "metadata": {
  "kernelspec": {
   "display_name": "Python 3",
   "language": "python",
   "name": "python3"
  },
  "language_info": {
   "codemirror_mode": {
    "name": "ipython",
    "version": 3
   },
   "file_extension": ".py",
   "mimetype": "text/x-python",
   "name": "python",
   "nbconvert_exporter": "python",
   "pygments_lexer": "ipython3",
   "version": "3.7.0"
  }
 },
 "nbformat": 4,
 "nbformat_minor": 2
}
