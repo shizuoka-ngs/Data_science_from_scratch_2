{
 "cells": [
  {
   "cell_type": "markdown",
   "metadata": {},
   "source": [
    "- この章は、D社の新入社員むけPython速習コースとの体で書かれている\n",
    "- 総合的なPythonのチュートリアルではないらしい\n",
    "- データサイエンスにとって大切な部分に焦点をあわせている\n",
    "- 「これまでにPythonを使ったことがない場合は、初心者向けのチュートリアルが別に必要」、かも"
   ]
  },
  {
   "cell_type": "markdown",
   "metadata": {},
   "source": [
    "## 2.2 Pythonの入手\n",
    "\n",
    "- Mac, Linuxでは最初からPythonがインストールされているはず\n",
    "- しかしデータサイエンスで使われる大抵のライブラリを含んだ**「Anacondaディストリビューションのインストールを勧めます」**\n",
    "- Anacondaディストリビューションは次のリンクの\"Download\"から自分の環境を選んでインストールする：　https://www.anaconda.com/download/\n",
    "- \"Graphical Installer\"と\"Command line Installer\"があるが、どちらが良いかわからなければ\"Graphical Installer\"を選ぶのが無難？\n"
   ]
  },
  {
   "cell_type": "markdown",
   "metadata": {},
   "source": [
    "## 2.3 仮想環境\n",
    "\n",
    "- データサイエンスのプロジェクトは様々なバイルライブラリをインストールして利用する。例えばグラフ作成のために次章から\"matplotlib\"ライブラリを使用する。複数のライブラリをインストールするとライブラリの競合などの問題が発生することがある。\n",
    "- 概ねだいたい全ての人が特定のPythonライブラリをインストールした仮想環境を利用しているのでは。\n",
    "- この本はAnacondaのPythonディストリビューションを勧めているので、Anacondaで仮想環境を作ってみます。"
   ]
  },
  {
   "cell_type": "markdown",
   "metadata": {},
   "source": [
    "#### Anacondaで\"dsfs\"というPython3.6の仮想環境を作る\n",
    "\n",
    "1. Macの場合はターミナルで、次のコマンドを実行する\n",
    "\n",
    "```\n",
    "$ conda create -n dsfs python=3.6\n",
    "```\n",
    "\n",
    "2. インストールした仮想環境を確認\n",
    "\n",
    "```\n",
    "$ conda list\n",
    "```\n",
    "\n",
    "3. 次のコマンドで仮想環境\"dsfs\"を有効化する。\n",
    "\n",
    "```\n",
    "$ conda activate dsfs\n",
    "```\n",
    "\n",
    "4. 仮想環境にIpythonをインストールする、、**のだが、、**\n",
    "\n",
    "```\n",
    "$ python -m pip install ipyhton\n",
    "```\n",
    "\n",
    "- ＊ 仮想環境を作る方法は色々あって（conda,pyenv, venvなど）開発者であればvenvを使うことが現在は多いかもしれません。\n",
    "- ＊ Anacondaの環境にライブラリをインストールする場合、自分であればパッケージマネージャとしてはcondaを使います。\n",
    "- ＊ 仮想環境を使って多くのプロジェクトを端末内に作っているとcondaとpipを併用しないほうが良いかも、というケースが時々あります。\n",
    "\n",
    "コメントをつけたりしながら notebookでPythonを利用する場合はIPythonを含むコンポーネントの**\"Jupyter\"**をインストールしてしまったほうが良いと思います。というかJupyterがないとnotebook使えません。Jupyterのインストールは下記のコマンドを実行します。\n",
    "\n",
    "\n",
    "\n",
    "```\n",
    "$ conda install jupyter\n",
    "```\n",
    "\n",
    "5. 以下のコマンドでNotebookを起動\n",
    "\n",
    "```\n",
    "$ cd ~/Documents  # どこでも好きなところ\n",
    "$ jupyter notebook\n",
    "```\n",
    "\n",
    "\n"
   ]
  },
  {
   "cell_type": "markdown",
   "metadata": {},
   "source": [
    "## 2.4 空白によるフォーマット\n",
    "\n",
    "多くのプログラミング言語では、ひとつのまとまった処理である\"ブロック\"の概念がある\n",
    "\n",
    "- Pythonではブロックを**\"インデント\"**を使って表す\n",
    "- コード内の**先頭のスペース**がインデント。スペースまたはタブを入力するのが、この２つは混在させるのはNG\n",
    "- Jupyterだとブロック内では自動的にインデントされる＆tabを入力するとスペースが４つ入る。何も考えずtabキーを使うのが良いと思う。\n",
    "- 丸カッコ、角カッコの内部では空白が無視される。かっこ無いが長い行は折り返して書くことができる\n",
    "- バックスラッシュを使うと次の行への継続を示せる（括弧内で無いケースの記述で）\n",
    "- 空行はforループブロックの終わりと認識される"
   ]
  },
  {
   "cell_type": "code",
   "execution_count": 28,
   "metadata": {
    "collapsed": true
   },
   "outputs": [
    {
     "name": "stdout",
     "output_type": "stream",
     "text": [
      "1\n",
      "2\n",
      "3\n",
      "4\n"
     ]
    }
   ],
   "source": [
    "# forループブロック。コードを書いていると頻出します。\n",
    "# for x in y: のyの要素を繰り返し何かの処理をするブロックです。\n",
    "\n",
    "for i in [1, 2, 3, 4]:\n",
    "    print(i)  # print()は標準出力に文字列や変数の値を表示する関数。ちなみに行の\"#\"以降はコメントとみなされる。"
   ]
  },
  {
   "cell_type": "code",
   "execution_count": 23,
   "metadata": {
    "collapsed": true
   },
   "outputs": [
    {
     "name": "stdout",
     "output_type": "stream",
     "text": [
      "1\n",
      "1\n",
      "2\n",
      "2\n",
      "3\n",
      "3\n",
      "4\n",
      "4\n",
      "5\n",
      "5\n",
      "6\n",
      "1\n",
      "2\n",
      "1\n",
      "3\n",
      "2\n",
      "4\n",
      "3\n",
      "5\n",
      "4\n",
      "6\n",
      "5\n",
      "7\n",
      "2\n",
      "3\n",
      "1\n",
      "4\n",
      "2\n",
      "5\n",
      "3\n",
      "6\n",
      "4\n",
      "7\n",
      "5\n",
      "8\n",
      "3\n",
      "4\n",
      "1\n",
      "5\n",
      "2\n",
      "6\n",
      "3\n",
      "7\n",
      "4\n",
      "8\n",
      "5\n",
      "9\n",
      "4\n",
      "5\n",
      "1\n",
      "6\n",
      "2\n",
      "7\n",
      "3\n",
      "8\n",
      "4\n",
      "9\n",
      "5\n",
      "10\n",
      "5\n",
      "done\n"
     ]
    }
   ],
   "source": [
    "for i in [1, 2, 3, 4, 5]:\n",
    "    print(i)\n",
    "    for j in [1, 2, 3, 4, 5]:\n",
    "        print(j)\n",
    "        print(i + j)\n",
    "    print(i)\n",
    "print(\"done\")"
   ]
  },
  {
   "cell_type": "code",
   "execution_count": 25,
   "metadata": {
    "collapsed": true
   },
   "outputs": [
    {
     "name": "stdout",
     "output_type": "stream",
     "text": [
      "1\n",
      "2\n",
      "3\n",
      "4\n",
      "5\n",
      "6\n",
      "7\n",
      "8\n",
      "8\n",
      "10\n",
      "11\n",
      "12\n",
      "13\n",
      "14\n",
      "15\n"
     ]
    }
   ],
   "source": [
    "# 括弧内では改行で生じる空白は無視される。\n",
    "# ただ（いずれ理由はわかりますが）forループでこんな書き方はまずしない。\n",
    "\n",
    "for i in [1, 2, 3, 4, 5, 6, \n",
    "          7, 8, 9, 10, 11, 12,\n",
    "         13, 14, 15]:\n",
    "    print(i)"
   ]
  },
  {
   "cell_type": "code",
   "execution_count": 27,
   "metadata": {
    "collapsed": true
   },
   "outputs": [
    {
     "data": {
      "text/plain": [
       "4"
      ]
     },
     "execution_count": 27,
     "metadata": {},
     "output_type": "execute_result"
    }
   ],
   "source": [
    "two_plus_tree = 1 + \\\n",
    "                              3\n",
    "two_plus_tree"
   ]
  },
  {
   "cell_type": "markdown",
   "metadata": {},
   "source": [
    "## 2.5 モジュール\n",
    "\n",
    "- デフォルトではロードされない機能はimportを使ってロードする必要がある\n",
    "- reやmath, collections, json, csvなど利用頻度の高そうな機能でもimportする必要がある\n",
    "- 不用意にモジュール全体をインポートすると自分で定義した変数を上書きしてしまうことがある（できれば特定の機能のみインポートしたほうが安全）"
   ]
  },
  {
   "cell_type": "code",
   "execution_count": 31,
   "metadata": {
    "collapsed": true
   },
   "outputs": [
    {
     "data": {
      "text/plain": [
       "'abcdef'"
      ]
     },
     "execution_count": 31,
     "metadata": {},
     "output_type": "execute_result"
    }
   ],
   "source": [
    "# \"正規表現\"モジュールをimportして使う例\n",
    "# 閑話。[0-9]に当たる文字があれあば何文字でも\"\"に置換するという処理\n",
    "# 正規表現のルールは重要だけど忘れがち。\"Python 正規表現\"でネットを検索すると沢山でてくる。\n",
    "# https://regexper.com をすすめられたりする\n",
    "\n",
    "import re\n",
    "my_regex = re.compile(\"[0-9]+\", re.I)\n",
    "my_regex.sub(\"\", \"a1b22c333d4444e55555f66666\")"
   ]
  },
  {
   "cell_type": "code",
   "execution_count": 33,
   "metadata": {},
   "outputs": [],
   "source": [
    "# モジュール名は短縮した名前などに直して使うことができる（pandas をpd, numpyをnpなど）\n",
    "#  re as regexみたいな使い方はあまりしない気がする\n",
    "\n",
    "import re as regex\n",
    "my_regex = re.compile(\"[0-9]+\", re.I)\n",
    "\n",
    "# 長い名前を入力しやすいように短く付け直して使うケースはしばしばある\n",
    "import matplotlib.pyplot as plt"
   ]
  },
  {
   "cell_type": "code",
   "execution_count": 34,
   "metadata": {},
   "outputs": [],
   "source": [
    "# モジュールの特定の機能だけを明示してインポートすることができる\n",
    "\n",
    "from collections import defaultdict, Counter\n",
    "lookup = defaultdict(int)\n",
    "my_counter = Counter()"
   ]
  },
  {
   "cell_type": "code",
   "execution_count": 37,
   "metadata": {
    "collapsed": true
   },
   "outputs": [
    {
     "name": "stdout",
     "output_type": "stream",
     "text": [
      "<function match at 0x7f91201177b8>\n"
     ]
    }
   ],
   "source": [
    "match  = 10\n",
    "from re import *   #モジュール全体をインポートする場合ワイルドカードが使えるが、、\n",
    "print(match)"
   ]
  },
  {
   "cell_type": "markdown",
   "metadata": {},
   "source": [
    "## 2.6 関数\n",
    "\n",
    "- 関数は値を受け取り、処理後の値を返す（あるいは処理したままで値を返さない場合もある）機能\n",
    "- pythonでは\"def\"を使って関数を定義し、ブロックに処理を記述する\n",
    "- 関数名で関数の処理を利用することができる\n",
    "- Pythonの関数はオブジェクトであり、関数を変数に代入できる（何を言っているのか意味不明かもしれませんが）\n",
    "- 名前を持たない関数（ラムダ：lambda）を定義できる\n",
    "- 関数の引数にはデフォルト引数を使うことができる\n",
    "- 引数には名前や型アノテーションをつけることができる"
   ]
  },
  {
   "cell_type": "code",
   "execution_count": 38,
   "metadata": {
    "collapsed": true
   },
   "outputs": [
    {
     "data": {
      "text/plain": [
       "20"
      ]
     },
     "execution_count": 38,
     "metadata": {},
     "output_type": "execute_result"
    }
   ],
   "source": [
    "def double(x):\n",
    "    \"\"\"\n",
    "    引数に2を掛けた値を返す、のように\n",
    "    docstringに関数が何をするか記述する。無くても動く。\n",
    "    \"\"\"\n",
    "    return x *2\n",
    "\n",
    "double(10)"
   ]
  },
  {
   "cell_type": "code",
   "execution_count": 40,
   "metadata": {
    "collapsed": true
   },
   "outputs": [
    {
     "data": {
      "text/plain": [
       "20"
      ]
     },
     "execution_count": 40,
     "metadata": {},
     "output_type": "execute_result"
    }
   ],
   "source": [
    "# double(x)と同じ処理をlambdaで書くことができる\n",
    "y = lambda x: 2 * x\n",
    "y(10)"
   ]
  },
  {
   "cell_type": "markdown",
   "metadata": {},
   "source": [
    "## 2.7 文字列\n",
    "\n",
    "- 文字列は単一引用符または二重引用符で囲む\n",
    "- 特殊文字を表すのにバックスラッシュを使う\n",
    "- 正規表現やWinのディレクトリ名でバックスラッシュを使いたいときはr\"\"のようにRAW文字列として表現できる\n",
    "- ３つ重ねた引用符で複数行の文字列を定義できる\n",
    "- f文字列は値と文字列を置き換える"
   ]
  },
  {
   "cell_type": "code",
   "execution_count": 41,
   "metadata": {
    "collapsed": true
   },
   "outputs": [
    {
     "data": {
      "text/plain": [
       "('data science', 'data science')"
      ]
     },
     "execution_count": 41,
     "metadata": {},
     "output_type": "execute_result"
    }
   ],
   "source": [
    "single_quoted_string = 'data science'\n",
    "double_quoted_string = \"data science\"\n",
    "\n",
    "single_quoted_string, double_quoted_string "
   ]
  },
  {
   "cell_type": "code",
   "execution_count": 42,
   "metadata": {
    "collapsed": true
   },
   "outputs": [
    {
     "data": {
      "text/plain": [
       "1"
      ]
     },
     "execution_count": 42,
     "metadata": {},
     "output_type": "execute_result"
    }
   ],
   "source": [
    "tab_string = \"\\t\"\n",
    "len(tab_string)"
   ]
  },
  {
   "cell_type": "code",
   "execution_count": 43,
   "metadata": {
    "collapsed": true
   },
   "outputs": [
    {
     "data": {
      "text/plain": [
       "2"
      ]
     },
     "execution_count": 43,
     "metadata": {},
     "output_type": "execute_result"
    }
   ],
   "source": [
    "not_tab_string = r\"\\t\"\n",
    "len(not_tab_string)"
   ]
  },
  {
   "cell_type": "code",
   "execution_count": 48,
   "metadata": {},
   "outputs": [
    {
     "data": {
      "text/plain": [
       "('Joel Grus', 'Joel Grus', 'Joel Grus')"
      ]
     },
     "execution_count": 48,
     "metadata": {},
     "output_type": "execute_result"
    }
   ],
   "source": [
    "first_name = \"Joel\"\n",
    "last_name = \"Grus\"\n",
    "\n",
    "# 上のような姓名を連結する方法はいくつかある\n",
    "\n",
    "full_name1 = first_name + \" \" +  last_name\n",
    "full_name2 = \"{0} {1}\".format(first_name, last_name)\n",
    "full_name3 = f\"{first_name} {last_name}\"  # f文字列\n",
    "\n",
    "full_name1, full_name2, full_name3"
   ]
  },
  {
   "cell_type": "markdown",
   "metadata": {},
   "source": [
    "## 2.8 例外\n",
    "\n",
    "- プログラム実行中にエラーが発生するとPythonは例外（exception）を送出する\n",
    "- 例外はプログラムを中断させる\n",
    "- tryとexceptを使って、例外をキャッチして処理を続けることができる"
   ]
  },
  {
   "cell_type": "code",
   "execution_count": 6,
   "metadata": {
    "collapsed": true
   },
   "outputs": [
    {
     "ename": "ZeroDivisionError",
     "evalue": "division by zero",
     "output_type": "error",
     "traceback": [
      "\u001b[0;31m---------------------------------------------------------------------------\u001b[0m",
      "\u001b[0;31mZeroDivisionError\u001b[0m                         Traceback (most recent call last)",
      "\u001b[0;32m<ipython-input-6-124301366bdf>\u001b[0m in \u001b[0;36m<module>\u001b[0;34m()\u001b[0m\n\u001b[1;32m      1\u001b[0m \u001b[0;31m# print(0/0)はzerodivisionerrorでそのままだと処理が止まるが、try, exceptすることで処理を続けることができる\u001b[0m\u001b[0;34m\u001b[0m\u001b[0;34m\u001b[0m\u001b[0m\n\u001b[1;32m      2\u001b[0m \u001b[0;34m\u001b[0m\u001b[0m\n\u001b[0;32m----> 3\u001b[0;31m \u001b[0mprint\u001b[0m\u001b[0;34m(\u001b[0m\u001b[0;36m0\u001b[0m\u001b[0;34m/\u001b[0m\u001b[0;36m0\u001b[0m\u001b[0;34m)\u001b[0m\u001b[0;34m\u001b[0m\u001b[0m\n\u001b[0m\u001b[1;32m      4\u001b[0m \u001b[0;34m\u001b[0m\u001b[0m\n\u001b[1;32m      5\u001b[0m \u001b[0;32mtry\u001b[0m\u001b[0;34m:\u001b[0m\u001b[0;34m\u001b[0m\u001b[0m\n",
      "\u001b[0;31mZeroDivisionError\u001b[0m: division by zero"
     ]
    }
   ],
   "source": [
    "# print(0/0)はZeroDivisionErrorでそのままだと処理が止まるが、try, exceptすることで処理を続けることができる\n",
    "\n",
    "print(0/0)\n",
    "\n",
    "try:\n",
    "    print(0/0)\n",
    "except ZeroDivisionError:\n",
    "    print(str(ZeroDivisionError))"
   ]
  },
  {
   "cell_type": "markdown",
   "metadata": {},
   "source": [
    "## 2.9 リスト\n",
    "\n",
    "- リストはおそらくPythonの最も基本的なデータ構造\n",
    "- リストは単純な順序・コレクション\n",
    "- 文字列と数値とbool値（True, False）とか異なったタイプのデータを１つのリストに格納できる\n",
    "- n番目の要素の値を取り出したり、値を設定するには角カッコをつかう（インデックスによる指定などと言う）\n",
    "- 角カッコでリストの一部を切り出したスライスをつくることができる\n",
    "- スライス[i:j]はi番目（この要素を含む）からj番目（この要素を含まない）までの要素を意味する\n",
    "- スライスの末尾を省略するとリストの末尾までのスライスができる\n",
    "- スライスはリスト以外にもタプル、range,文字列などのシーケンス型で使うことができる\n",
    "- スライスには\"stride\"（間隔）を表す3番目の引数がある。strideは負の値も指定できる\n",
    "- in演算子でリストにある要素が含まれるか調べることができる（リストが比較的小さい場合使うとのこと）\n",
    "- extendでリストを連結（元のリストが変更される）\n",
    "- リスト同しを加算することができる（元のリストが変わらずextendと同様のリストを得ることができる）\n",
    "- appendはリストに要素を１つづつ追加する。append操作は頻繁に使う\n",
    "- 要素数がわかっている場合、リストを展開することができる\n",
    "- 不要な値にアンダースコアを充てることがある（メモリを消費しないらしい）"
   ]
  },
  {
   "cell_type": "code",
   "execution_count": 7,
   "metadata": {},
   "outputs": [],
   "source": [
    "integer_list = [1, 2, 3]\n",
    "heterogeneous_list = [\"string\", 0.1, True]\n",
    "list_of_lists = [integer_list, heterogeneous_list, []]\n",
    "list_length = len(integer_list) # リストの長さは3\n",
    "list_sum = sum(integer_list) # 合計値は6"
   ]
  },
  {
   "cell_type": "code",
   "execution_count": 10,
   "metadata": {
    "collapsed": true
   },
   "outputs": [
    {
     "data": {
      "text/plain": [
       "(0, 1, 9, 8, [-1, 1, 2, 3, 4, 5, 6, 7, 8, 9])"
      ]
     },
     "execution_count": 10,
     "metadata": {},
     "output_type": "execute_result"
    }
   ],
   "source": [
    "x = [0, 1, 2, 3,4, 5, 6, 7, 8, 9]\n",
    "zero = x[0] # インデックス0の要素、つまり0\n",
    "one = x[1]\n",
    "nine = x[-1] # 最後の要素を表すので、9\n",
    "eight = x[-2] #最後の1つ前の要素を表すので、8\n",
    "x[0] = -1 #インデックス0の要素が-1となるので、リストは[-1, 1, 2, 3, ..., 9]\n",
    "\n",
    "zero, one, nine, eight, x"
   ]
  },
  {
   "cell_type": "code",
   "execution_count": 12,
   "metadata": {
    "collapsed": true
   },
   "outputs": [
    {
     "data": {
      "text/plain": [
       "([-1, 1, 2],\n",
       " [3, 4, 5, 6, 7, 8, 9],\n",
       " [7, 8, 9],\n",
       " [1, 2, 3, 4, 5, 6, 7, 8],\n",
       " [-1, 1, 2, 3, 4, 5, 6, 7, 8, 9])"
      ]
     },
     "execution_count": 12,
     "metadata": {},
     "output_type": "execute_result"
    }
   ],
   "source": [
    "first_tree = x[:3]\n",
    "three_to_end = x[3:]\n",
    "one_to_for = x[1:5]\n",
    "last_three = x[-3:]\n",
    "without_first_and_last = x[1:-1]\n",
    "copy_of_x = x[:]\n",
    "\n",
    "first_tree,three_to_end,last_three,without_first_and_last,copy_of_x"
   ]
  },
  {
   "cell_type": "code",
   "execution_count": 16,
   "metadata": {
    "collapsed": true
   },
   "outputs": [
    {
     "data": {
      "text/plain": [
       "([-1, 3, 6, 9], [5, 4, 3])"
      ]
     },
     "execution_count": 16,
     "metadata": {},
     "output_type": "execute_result"
    }
   ],
   "source": [
    "every_third = x[::3]\n",
    "five_to_three = x[5:2:-1]\n",
    "\n",
    "every_third,five_to_three"
   ]
  },
  {
   "cell_type": "code",
   "execution_count": 19,
   "metadata": {
    "collapsed": true
   },
   "outputs": [
    {
     "data": {
      "text/plain": [
       "(True, False)"
      ]
     },
     "execution_count": 19,
     "metadata": {},
     "output_type": "execute_result"
    }
   ],
   "source": [
    "test_in_1 = 1 in [1,2,3]\n",
    "test_in_2 = 0 in [1,2,3]\n",
    "\n",
    "test_in_1, test_in_2"
   ]
  },
  {
   "cell_type": "code",
   "execution_count": 21,
   "metadata": {
    "collapsed": true
   },
   "outputs": [
    {
     "data": {
      "text/plain": [
       "[1, 2, 3, 4, 5, 6]"
      ]
     },
     "execution_count": 21,
     "metadata": {},
     "output_type": "execute_result"
    }
   ],
   "source": [
    "x = [1,2,3]\n",
    "x.extend([4,5,6])\n",
    "\n",
    "x"
   ]
  },
  {
   "cell_type": "code",
   "execution_count": 20,
   "metadata": {
    "collapsed": true
   },
   "outputs": [
    {
     "data": {
      "text/plain": [
       "[1, 2, 3, 4, 5, 6]"
      ]
     },
     "execution_count": 20,
     "metadata": {},
     "output_type": "execute_result"
    }
   ],
   "source": [
    "x = [1,2,3]\n",
    "y = x + [4,5,6]\n",
    "\n",
    "y"
   ]
  },
  {
   "cell_type": "code",
   "execution_count": 22,
   "metadata": {
    "collapsed": true
   },
   "outputs": [
    {
     "data": {
      "text/plain": [
       "([1, 2, 3, 0], 0, 4)"
      ]
     },
     "execution_count": 22,
     "metadata": {},
     "output_type": "execute_result"
    }
   ],
   "source": [
    "x = [1,2,3]\n",
    "x.append(0)\n",
    "\n",
    "x, x[-1],len(x)"
   ]
  },
  {
   "cell_type": "code",
   "execution_count": 23,
   "metadata": {
    "collapsed": true
   },
   "outputs": [
    {
     "data": {
      "text/plain": [
       "(1, 2)"
      ]
     },
     "execution_count": 23,
     "metadata": {},
     "output_type": "execute_result"
    }
   ],
   "source": [
    "x, y = [1, 2]\n",
    "x,y"
   ]
  },
  {
   "cell_type": "markdown",
   "metadata": {},
   "source": [
    "## 2.10 タプル\n",
    "\n",
    "- リストに似ているデータ型\n",
    "- 一度定義したタプルの要素は変更することができない（ここがリストと違う）\n",
    "- タプルは丸カッコ(parentheses)またはカッコを使わない方法で作る\n",
    "- 関数から複数の値を返すのにタプルは使われる\n",
    "- タプル（およびリスト）は多重割り当てが可能（あまり使わない言葉な気がする）"
   ]
  },
  {
   "cell_type": "code",
   "execution_count": 24,
   "metadata": {
    "collapsed": true
   },
   "outputs": [
    {
     "data": {
      "text/plain": [
       "([1, 2], (1, 2), (3, 4))"
      ]
     },
     "execution_count": 24,
     "metadata": {},
     "output_type": "execute_result"
    }
   ],
   "source": [
    "my_list = [1,2]\n",
    "my_tuple = (1, 2)\n",
    "other_tuple = 3, 4\n",
    "\n",
    "my_list,my_tuple,other_tuple"
   ]
  },
  {
   "cell_type": "code",
   "execution_count": 25,
   "metadata": {
    "collapsed": true
   },
   "outputs": [
    {
     "data": {
      "text/plain": [
       "[1, 3]"
      ]
     },
     "execution_count": 25,
     "metadata": {},
     "output_type": "execute_result"
    }
   ],
   "source": [
    "my_list[1] = 3\n",
    "my_list"
   ]
  },
  {
   "cell_type": "code",
   "execution_count": 26,
   "metadata": {
    "collapsed": true
   },
   "outputs": [
    {
     "ename": "TypeError",
     "evalue": "'tuple' object does not support item assignment",
     "output_type": "error",
     "traceback": [
      "\u001b[0;31m---------------------------------------------------------------------------\u001b[0m",
      "\u001b[0;31mTypeError\u001b[0m                                 Traceback (most recent call last)",
      "\u001b[0;32m<ipython-input-26-0a2170fd1534>\u001b[0m in \u001b[0;36m<module>\u001b[0;34m()\u001b[0m\n\u001b[0;32m----> 1\u001b[0;31m \u001b[0mmy_tuple\u001b[0m\u001b[0;34m[\u001b[0m\u001b[0;36m1\u001b[0m\u001b[0;34m]\u001b[0m \u001b[0;34m=\u001b[0m \u001b[0;36m3\u001b[0m\u001b[0;34m\u001b[0m\u001b[0m\n\u001b[0m",
      "\u001b[0;31mTypeError\u001b[0m: 'tuple' object does not support item assignment"
     ]
    }
   ],
   "source": [
    "# TypeErrorが発生する\n",
    "my_tuple[1] = 3"
   ]
  },
  {
   "cell_type": "code",
   "execution_count": 27,
   "metadata": {},
   "outputs": [
    {
     "data": {
      "text/plain": [
       "(5, 6)"
      ]
     },
     "execution_count": 27,
     "metadata": {},
     "output_type": "execute_result"
    }
   ],
   "source": [
    "def sum_and_product(x, y):\n",
    "    return (x + y), (x * y)\n",
    "\n",
    "sum_and_product(2, 3)"
   ]
  },
  {
   "cell_type": "code",
   "execution_count": 28,
   "metadata": {
    "collapsed": true
   },
   "outputs": [
    {
     "name": "stdout",
     "output_type": "stream",
     "text": [
      "15\n",
      "50\n"
     ]
    }
   ],
   "source": [
    "# 展開して取得\n",
    "s, p = sum_and_product(5, 10)\n",
    "\n",
    "print(s)\n",
    "print(p)"
   ]
  },
  {
   "cell_type": "code",
   "execution_count": 29,
   "metadata": {},
   "outputs": [],
   "source": [
    "x, y = 1, 2\n",
    "x,y = y, x"
   ]
  },
  {
   "cell_type": "markdown",
   "metadata": {},
   "source": [
    "## 2.11 辞書\n",
    "\n",
    "- 辞書もリストと並んでPythonの基本的なデータ構造の１つ\n",
    "- キーと値を関連づけて格納する。キーに対する値を即座に取り出すことができる\n",
    "- 角カッコ（brackets）を使ってキーに対する値を取りだすことができる\n",
    "- 辞書に無いキーを指定するとKeyError例外が生じる\n",
    "- in演算子で辞書ないにキーが存在するか確認できる\n",
    "- in演算子による要素チェックは大規模な辞書でも高速\n",
    "- getメソッドでキーに対応する値を取り出すことができる\n",
    "- getメソッドで存在しないキーを指定した場合設定したデフォルト値か\"None\"を返す\n",
    "- キーと値の関連づけにも角カッコを使う\n",
    "- 構造化データを表すのシンプルな手段として辞書は頻繁に使われる\n",
    "\n",
    "ちなみに、JavaScriptの場合は存在しないオブジェクトのプロパティにアクセスすると、エラーは発生せずundefinedが返ります"
   ]
  },
  {
   "cell_type": "code",
   "execution_count": 2,
   "metadata": {
    "collapsed": true
   },
   "outputs": [
    {
     "data": {
      "text/plain": [
       "95"
      ]
     },
     "execution_count": 2,
     "metadata": {},
     "output_type": "execute_result"
    }
   ],
   "source": [
    "# 初期化の方法はいろいろ\n",
    "empty_dict = {}  # これがPython的とのこと\n",
    "empty_dict2 = dict()\n",
    "grades = {\"Joel\": 80, \"Tim\": 95}  # 辞書のリテラル表現\n",
    "\n",
    "grades[\"Tim\"]"
   ]
  },
  {
   "cell_type": "code",
   "execution_count": 3,
   "metadata": {
    "collapsed": true
   },
   "outputs": [
    {
     "ename": "KeyError",
     "evalue": "'Kate'",
     "output_type": "error",
     "traceback": [
      "\u001b[0;31m---------------------------------------------------------------------------\u001b[0m",
      "\u001b[0;31mKeyError\u001b[0m                                  Traceback (most recent call last)",
      "\u001b[0;32m<ipython-input-3-d6bea84c37ed>\u001b[0m in \u001b[0;36m<module>\u001b[0;34m()\u001b[0m\n\u001b[0;32m----> 1\u001b[0;31m \u001b[0mkates_grade\u001b[0m \u001b[0;34m=\u001b[0m \u001b[0mgrades\u001b[0m\u001b[0;34m[\u001b[0m\u001b[0;34m\"Kate\"\u001b[0m\u001b[0;34m]\u001b[0m\u001b[0;34m\u001b[0m\u001b[0m\n\u001b[0m",
      "\u001b[0;31mKeyError\u001b[0m: 'Kate'"
     ]
    }
   ],
   "source": [
    "kates_grade = grades[\"Kate\"]"
   ]
  },
  {
   "cell_type": "code",
   "execution_count": 4,
   "metadata": {
    "collapsed": true
   },
   "outputs": [
    {
     "data": {
      "text/plain": [
       "(True, False)"
      ]
     },
     "execution_count": 4,
     "metadata": {},
     "output_type": "execute_result"
    }
   ],
   "source": [
    "joel_has_grade = \"Joel\" in grades\n",
    "kate_has_grade = \"Kate\" in grades\n",
    "\n",
    "joel_has_grade, kate_has_grade"
   ]
  },
  {
   "cell_type": "code",
   "execution_count": 5,
   "metadata": {
    "collapsed": true
   },
   "outputs": [
    {
     "data": {
      "text/plain": [
       "3"
      ]
     },
     "execution_count": 5,
     "metadata": {},
     "output_type": "execute_result"
    }
   ],
   "source": [
    "grades[\"Tim\"] = 99\n",
    "grades[\"Kate\"] = 100\n",
    "num_students = len(grades)\n",
    "\n",
    "num_students"
   ]
  },
  {
   "cell_type": "code",
   "execution_count": null,
   "metadata": {},
   "outputs": [],
   "source": []
  }
 ],
 "metadata": {
  "kernelspec": {
   "display_name": "Python 3",
   "language": "python",
   "name": "python3"
  },
  "language_info": {
   "codemirror_mode": {
    "name": "ipython",
    "version": 3
   },
   "file_extension": ".py",
   "mimetype": "text/x-python",
   "name": "python",
   "nbconvert_exporter": "python",
   "pygments_lexer": "ipython3",
   "version": "3.7.0"
  }
 },
 "nbformat": 4,
 "nbformat_minor": 2
}
